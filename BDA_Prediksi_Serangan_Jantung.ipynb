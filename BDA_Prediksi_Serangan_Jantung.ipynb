{
  "nbformat": 4,
  "nbformat_minor": 0,
  "metadata": {
    "colab": {
      "provenance": []
    },
    "kernelspec": {
      "name": "python3",
      "display_name": "Python 3"
    },
    "language_info": {
      "name": "python"
    }
  },
  "cells": [
    {
      "cell_type": "markdown",
      "source": [
        "#Dataset heart attack"
      ],
      "metadata": {
        "id": "sfb-JCUfJ5le"
      }
    },
    {
      "cell_type": "markdown",
      "source": [
        "Deskripsi Variabel <br/>\n",
        "\n",
        "\n",
        "umur = umur pasien <br/>\n",
        "\n",
        "jk = jenis kelamin pasien <br/>\n",
        "    0 = Wanita <br/>\n",
        "    1 = Pria <br/>\n",
        "\n",
        "tp_nyeri = tipe nyeri dada <br/>\n",
        "    1 = typical angina <br/>\n",
        "    2 = atypical angina <br/>\n",
        "    3 = non-anginal pain <br/>\n",
        "    4 = asymptomatic <br/>\n",
        "\n",
        "tekanan darah = tekanan darah pasien saat dalam keadaan istirahat <br/>\n",
        "\n",
        "kolestrol = kadar kolestrol dalam darah <br/>\n",
        "\n",
        "guldar = menunjukkan gula darah pasien setelah puasa selama 12 jam <br/>\n",
        "    1 = >120 mg/dL <br/>\n",
        "    0 = <120 mg/dL <br/>\n",
        "\n",
        "ECG = hasil elektrokardiografi saat istirahat <br/>\n",
        "    0 = hasil elektrokardiografi normal atau tidak ada tanda-tanda gangguan <br/>\n",
        "    1 = adanya kelainan pada gelombang ST-T pada elektrokardiografi, seperti inversi gelombang T atau elevasi atau depresi ST <br/>\n",
        "    2 = adanya tanda-tanda hipertrofi ventrikel kiri pada elektrokardiografi, yaitu kondisi ketika dinding otot jantung bagian kiri menebal <br/>\n",
        "    \n",
        "detak_jantung = detak jantung maksimum <br/>\n",
        "\n",
        "nyeri_aktv = pasien mengalami nyeri dada sebagai respons terhadap latihan fisik atau tidak <br/>\n",
        "    0 = nyeri dada <br/>\n",
        "    1 = tidak nyeri dada <br/>\n",
        "\n",
        "heart_attack = pasien mengalami serangan jantung <br/>\n",
        "    0 = serangan jantung <br/>\n",
        "    1 = tidak serangan jantung <br/>"
      ],
      "metadata": {
        "id": "320Ld54Ed19b"
      }
    },
    {
      "cell_type": "markdown",
      "source": [
        "#Import library dan dataset"
      ],
      "metadata": {
        "id": "lN4eaIkofbdz"
      }
    },
    {
      "cell_type": "code",
      "source": [
        "import numpy as np\n",
        "import pandas as pd\n",
        "import matplotlib.pyplot as plt\n",
        "import math\n",
        "import seaborn as sns\n",
        "from sklearn import metrics\n",
        "from sklearn.linear_model import LinearRegression\n",
        "from sklearn.model_selection import train_test_split"
      ],
      "metadata": {
        "id": "gX3VLzVVJ0_Z"
      },
      "execution_count": null,
      "outputs": []
    },
    {
      "cell_type": "code",
      "source": [
        "#import dataset\n",
        "dataset = '/content/heart.csv'\n",
        "#memilih kolom yang diperlukan\n",
        "kolom = ['age', 'sex', 'cp', 'trtbps', 'chol', 'fbs', 'restecg', 'thalachh', 'exng', 'output']\n",
        "#membaca dataset\n",
        "df = pd.read_csv(dataset, usecols=kolom)\n",
        "#mengganti nama kolom\n",
        "df.columns = ['umur', 'jk', 'tp_nyeri', 'tekanan_darah', 'kolestrol', 'guldar', 'ECG','detak_jantung', 'nyeri_aktv','heart_attack']"
      ],
      "metadata": {
        "id": "yiAR_q4-KBNF"
      },
      "execution_count": null,
      "outputs": []
    },
    {
      "cell_type": "markdown",
      "source": [
        "#**EDA**"
      ],
      "metadata": {
        "id": "5goMuNxqNhK7"
      }
    },
    {
      "cell_type": "code",
      "source": [
        "#melihat banyak kolom dan baris\n",
        "df.shape"
      ],
      "metadata": {
        "colab": {
          "base_uri": "https://localhost:8080/"
        },
        "id": "O4fz8qK6KLle",
        "outputId": "86b1fb88-dbb7-4f64-8a00-9469fe8a9e87"
      },
      "execution_count": null,
      "outputs": [
        {
          "output_type": "execute_result",
          "data": {
            "text/plain": [
              "(303, 10)"
            ]
          },
          "metadata": {},
          "execution_count": 4
        }
      ]
    },
    {
      "cell_type": "code",
      "source": [
        "#melihat informasi dan tipe data tiap kolom\n",
        "df.info()"
      ],
      "metadata": {
        "colab": {
          "base_uri": "https://localhost:8080/"
        },
        "id": "fHaqdwx3KlWR",
        "outputId": "53748e9d-deec-4af8-9e12-563647bd6707"
      },
      "execution_count": null,
      "outputs": [
        {
          "output_type": "stream",
          "name": "stdout",
          "text": [
            "<class 'pandas.core.frame.DataFrame'>\n",
            "RangeIndex: 303 entries, 0 to 302\n",
            "Data columns (total 10 columns):\n",
            " #   Column         Non-Null Count  Dtype\n",
            "---  ------         --------------  -----\n",
            " 0   umur           303 non-null    int64\n",
            " 1   jk             303 non-null    int64\n",
            " 2   tp_nyeri       303 non-null    int64\n",
            " 3   tekanan_darah  303 non-null    int64\n",
            " 4   kolestrol      303 non-null    int64\n",
            " 5   guldar         303 non-null    int64\n",
            " 6   ECG            303 non-null    int64\n",
            " 7   detak_jantung  303 non-null    int64\n",
            " 8   nyeri_aktv     303 non-null    int64\n",
            " 9   heart_attack   303 non-null    int64\n",
            "dtypes: int64(10)\n",
            "memory usage: 23.8 KB\n"
          ]
        }
      ]
    },
    {
      "cell_type": "code",
      "source": [
        "# Melihat apakah ada data yang kosong\n",
        "df.isnull()"
      ],
      "metadata": {
        "colab": {
          "base_uri": "https://localhost:8080/",
          "height": 468
        },
        "id": "wql0xcy9ZLOb",
        "outputId": "99592f98-b7cf-475f-8b23-c1da123ae04f"
      },
      "execution_count": null,
      "outputs": [
        {
          "output_type": "execute_result",
          "data": {
            "text/plain": [
              "      umur     jk  tp_nyeri  tekanan_darah  kolestrol  guldar    ECG  \\\n",
              "0    False  False     False          False      False   False  False   \n",
              "1    False  False     False          False      False   False  False   \n",
              "2    False  False     False          False      False   False  False   \n",
              "3    False  False     False          False      False   False  False   \n",
              "4    False  False     False          False      False   False  False   \n",
              "..     ...    ...       ...            ...        ...     ...    ...   \n",
              "298  False  False     False          False      False   False  False   \n",
              "299  False  False     False          False      False   False  False   \n",
              "300  False  False     False          False      False   False  False   \n",
              "301  False  False     False          False      False   False  False   \n",
              "302  False  False     False          False      False   False  False   \n",
              "\n",
              "     detak_jantung  nyeri_aktv  heart_attack  \n",
              "0            False       False         False  \n",
              "1            False       False         False  \n",
              "2            False       False         False  \n",
              "3            False       False         False  \n",
              "4            False       False         False  \n",
              "..             ...         ...           ...  \n",
              "298          False       False         False  \n",
              "299          False       False         False  \n",
              "300          False       False         False  \n",
              "301          False       False         False  \n",
              "302          False       False         False  \n",
              "\n",
              "[303 rows x 10 columns]"
            ],
            "text/html": [
              "\n",
              "\n",
              "  <div id=\"df-31822374-42ed-4f93-b30e-82b9cae52374\">\n",
              "    <div class=\"colab-df-container\">\n",
              "      <div>\n",
              "<style scoped>\n",
              "    .dataframe tbody tr th:only-of-type {\n",
              "        vertical-align: middle;\n",
              "    }\n",
              "\n",
              "    .dataframe tbody tr th {\n",
              "        vertical-align: top;\n",
              "    }\n",
              "\n",
              "    .dataframe thead th {\n",
              "        text-align: right;\n",
              "    }\n",
              "</style>\n",
              "<table border=\"1\" class=\"dataframe\">\n",
              "  <thead>\n",
              "    <tr style=\"text-align: right;\">\n",
              "      <th></th>\n",
              "      <th>umur</th>\n",
              "      <th>jk</th>\n",
              "      <th>tp_nyeri</th>\n",
              "      <th>tekanan_darah</th>\n",
              "      <th>kolestrol</th>\n",
              "      <th>guldar</th>\n",
              "      <th>ECG</th>\n",
              "      <th>detak_jantung</th>\n",
              "      <th>nyeri_aktv</th>\n",
              "      <th>heart_attack</th>\n",
              "    </tr>\n",
              "  </thead>\n",
              "  <tbody>\n",
              "    <tr>\n",
              "      <th>0</th>\n",
              "      <td>False</td>\n",
              "      <td>False</td>\n",
              "      <td>False</td>\n",
              "      <td>False</td>\n",
              "      <td>False</td>\n",
              "      <td>False</td>\n",
              "      <td>False</td>\n",
              "      <td>False</td>\n",
              "      <td>False</td>\n",
              "      <td>False</td>\n",
              "    </tr>\n",
              "    <tr>\n",
              "      <th>1</th>\n",
              "      <td>False</td>\n",
              "      <td>False</td>\n",
              "      <td>False</td>\n",
              "      <td>False</td>\n",
              "      <td>False</td>\n",
              "      <td>False</td>\n",
              "      <td>False</td>\n",
              "      <td>False</td>\n",
              "      <td>False</td>\n",
              "      <td>False</td>\n",
              "    </tr>\n",
              "    <tr>\n",
              "      <th>2</th>\n",
              "      <td>False</td>\n",
              "      <td>False</td>\n",
              "      <td>False</td>\n",
              "      <td>False</td>\n",
              "      <td>False</td>\n",
              "      <td>False</td>\n",
              "      <td>False</td>\n",
              "      <td>False</td>\n",
              "      <td>False</td>\n",
              "      <td>False</td>\n",
              "    </tr>\n",
              "    <tr>\n",
              "      <th>3</th>\n",
              "      <td>False</td>\n",
              "      <td>False</td>\n",
              "      <td>False</td>\n",
              "      <td>False</td>\n",
              "      <td>False</td>\n",
              "      <td>False</td>\n",
              "      <td>False</td>\n",
              "      <td>False</td>\n",
              "      <td>False</td>\n",
              "      <td>False</td>\n",
              "    </tr>\n",
              "    <tr>\n",
              "      <th>4</th>\n",
              "      <td>False</td>\n",
              "      <td>False</td>\n",
              "      <td>False</td>\n",
              "      <td>False</td>\n",
              "      <td>False</td>\n",
              "      <td>False</td>\n",
              "      <td>False</td>\n",
              "      <td>False</td>\n",
              "      <td>False</td>\n",
              "      <td>False</td>\n",
              "    </tr>\n",
              "    <tr>\n",
              "      <th>...</th>\n",
              "      <td>...</td>\n",
              "      <td>...</td>\n",
              "      <td>...</td>\n",
              "      <td>...</td>\n",
              "      <td>...</td>\n",
              "      <td>...</td>\n",
              "      <td>...</td>\n",
              "      <td>...</td>\n",
              "      <td>...</td>\n",
              "      <td>...</td>\n",
              "    </tr>\n",
              "    <tr>\n",
              "      <th>298</th>\n",
              "      <td>False</td>\n",
              "      <td>False</td>\n",
              "      <td>False</td>\n",
              "      <td>False</td>\n",
              "      <td>False</td>\n",
              "      <td>False</td>\n",
              "      <td>False</td>\n",
              "      <td>False</td>\n",
              "      <td>False</td>\n",
              "      <td>False</td>\n",
              "    </tr>\n",
              "    <tr>\n",
              "      <th>299</th>\n",
              "      <td>False</td>\n",
              "      <td>False</td>\n",
              "      <td>False</td>\n",
              "      <td>False</td>\n",
              "      <td>False</td>\n",
              "      <td>False</td>\n",
              "      <td>False</td>\n",
              "      <td>False</td>\n",
              "      <td>False</td>\n",
              "      <td>False</td>\n",
              "    </tr>\n",
              "    <tr>\n",
              "      <th>300</th>\n",
              "      <td>False</td>\n",
              "      <td>False</td>\n",
              "      <td>False</td>\n",
              "      <td>False</td>\n",
              "      <td>False</td>\n",
              "      <td>False</td>\n",
              "      <td>False</td>\n",
              "      <td>False</td>\n",
              "      <td>False</td>\n",
              "      <td>False</td>\n",
              "    </tr>\n",
              "    <tr>\n",
              "      <th>301</th>\n",
              "      <td>False</td>\n",
              "      <td>False</td>\n",
              "      <td>False</td>\n",
              "      <td>False</td>\n",
              "      <td>False</td>\n",
              "      <td>False</td>\n",
              "      <td>False</td>\n",
              "      <td>False</td>\n",
              "      <td>False</td>\n",
              "      <td>False</td>\n",
              "    </tr>\n",
              "    <tr>\n",
              "      <th>302</th>\n",
              "      <td>False</td>\n",
              "      <td>False</td>\n",
              "      <td>False</td>\n",
              "      <td>False</td>\n",
              "      <td>False</td>\n",
              "      <td>False</td>\n",
              "      <td>False</td>\n",
              "      <td>False</td>\n",
              "      <td>False</td>\n",
              "      <td>False</td>\n",
              "    </tr>\n",
              "  </tbody>\n",
              "</table>\n",
              "<p>303 rows × 10 columns</p>\n",
              "</div>\n",
              "      <button class=\"colab-df-convert\" onclick=\"convertToInteractive('df-31822374-42ed-4f93-b30e-82b9cae52374')\"\n",
              "              title=\"Convert this dataframe to an interactive table.\"\n",
              "              style=\"display:none;\">\n",
              "\n",
              "  <svg xmlns=\"http://www.w3.org/2000/svg\" height=\"24px\"viewBox=\"0 0 24 24\"\n",
              "       width=\"24px\">\n",
              "    <path d=\"M0 0h24v24H0V0z\" fill=\"none\"/>\n",
              "    <path d=\"M18.56 5.44l.94 2.06.94-2.06 2.06-.94-2.06-.94-.94-2.06-.94 2.06-2.06.94zm-11 1L8.5 8.5l.94-2.06 2.06-.94-2.06-.94L8.5 2.5l-.94 2.06-2.06.94zm10 10l.94 2.06.94-2.06 2.06-.94-2.06-.94-.94-2.06-.94 2.06-2.06.94z\"/><path d=\"M17.41 7.96l-1.37-1.37c-.4-.4-.92-.59-1.43-.59-.52 0-1.04.2-1.43.59L10.3 9.45l-7.72 7.72c-.78.78-.78 2.05 0 2.83L4 21.41c.39.39.9.59 1.41.59.51 0 1.02-.2 1.41-.59l7.78-7.78 2.81-2.81c.8-.78.8-2.07 0-2.86zM5.41 20L4 18.59l7.72-7.72 1.47 1.35L5.41 20z\"/>\n",
              "  </svg>\n",
              "      </button>\n",
              "\n",
              "\n",
              "\n",
              "    <div id=\"df-6eedecb8-857b-4b21-a615-6f7629d92959\">\n",
              "      <button class=\"colab-df-quickchart\" onclick=\"quickchart('df-6eedecb8-857b-4b21-a615-6f7629d92959')\"\n",
              "              title=\"Suggest charts.\"\n",
              "              style=\"display:none;\">\n",
              "\n",
              "<svg xmlns=\"http://www.w3.org/2000/svg\" height=\"24px\"viewBox=\"0 0 24 24\"\n",
              "     width=\"24px\">\n",
              "    <g>\n",
              "        <path d=\"M19 3H5c-1.1 0-2 .9-2 2v14c0 1.1.9 2 2 2h14c1.1 0 2-.9 2-2V5c0-1.1-.9-2-2-2zM9 17H7v-7h2v7zm4 0h-2V7h2v10zm4 0h-2v-4h2v4z\"/>\n",
              "    </g>\n",
              "</svg>\n",
              "      </button>\n",
              "    </div>\n",
              "\n",
              "<style>\n",
              "  .colab-df-quickchart {\n",
              "    background-color: #E8F0FE;\n",
              "    border: none;\n",
              "    border-radius: 50%;\n",
              "    cursor: pointer;\n",
              "    display: none;\n",
              "    fill: #1967D2;\n",
              "    height: 32px;\n",
              "    padding: 0 0 0 0;\n",
              "    width: 32px;\n",
              "  }\n",
              "\n",
              "  .colab-df-quickchart:hover {\n",
              "    background-color: #E2EBFA;\n",
              "    box-shadow: 0px 1px 2px rgba(60, 64, 67, 0.3), 0px 1px 3px 1px rgba(60, 64, 67, 0.15);\n",
              "    fill: #174EA6;\n",
              "  }\n",
              "\n",
              "  [theme=dark] .colab-df-quickchart {\n",
              "    background-color: #3B4455;\n",
              "    fill: #D2E3FC;\n",
              "  }\n",
              "\n",
              "  [theme=dark] .colab-df-quickchart:hover {\n",
              "    background-color: #434B5C;\n",
              "    box-shadow: 0px 1px 3px 1px rgba(0, 0, 0, 0.15);\n",
              "    filter: drop-shadow(0px 1px 2px rgba(0, 0, 0, 0.3));\n",
              "    fill: #FFFFFF;\n",
              "  }\n",
              "</style>\n",
              "\n",
              "    <script>\n",
              "      async function quickchart(key) {\n",
              "        const containerElement = document.querySelector('#' + key);\n",
              "        const charts = await google.colab.kernel.invokeFunction(\n",
              "            'suggestCharts', [key], {});\n",
              "      }\n",
              "    </script>\n",
              "\n",
              "      <script>\n",
              "\n",
              "function displayQuickchartButton(domScope) {\n",
              "  let quickchartButtonEl =\n",
              "    domScope.querySelector('#df-6eedecb8-857b-4b21-a615-6f7629d92959 button.colab-df-quickchart');\n",
              "  quickchartButtonEl.style.display =\n",
              "    google.colab.kernel.accessAllowed ? 'block' : 'none';\n",
              "}\n",
              "\n",
              "        displayQuickchartButton(document);\n",
              "      </script>\n",
              "      <style>\n",
              "    .colab-df-container {\n",
              "      display:flex;\n",
              "      flex-wrap:wrap;\n",
              "      gap: 12px;\n",
              "    }\n",
              "\n",
              "    .colab-df-convert {\n",
              "      background-color: #E8F0FE;\n",
              "      border: none;\n",
              "      border-radius: 50%;\n",
              "      cursor: pointer;\n",
              "      display: none;\n",
              "      fill: #1967D2;\n",
              "      height: 32px;\n",
              "      padding: 0 0 0 0;\n",
              "      width: 32px;\n",
              "    }\n",
              "\n",
              "    .colab-df-convert:hover {\n",
              "      background-color: #E2EBFA;\n",
              "      box-shadow: 0px 1px 2px rgba(60, 64, 67, 0.3), 0px 1px 3px 1px rgba(60, 64, 67, 0.15);\n",
              "      fill: #174EA6;\n",
              "    }\n",
              "\n",
              "    [theme=dark] .colab-df-convert {\n",
              "      background-color: #3B4455;\n",
              "      fill: #D2E3FC;\n",
              "    }\n",
              "\n",
              "    [theme=dark] .colab-df-convert:hover {\n",
              "      background-color: #434B5C;\n",
              "      box-shadow: 0px 1px 3px 1px rgba(0, 0, 0, 0.15);\n",
              "      filter: drop-shadow(0px 1px 2px rgba(0, 0, 0, 0.3));\n",
              "      fill: #FFFFFF;\n",
              "    }\n",
              "  </style>\n",
              "\n",
              "      <script>\n",
              "        const buttonEl =\n",
              "          document.querySelector('#df-31822374-42ed-4f93-b30e-82b9cae52374 button.colab-df-convert');\n",
              "        buttonEl.style.display =\n",
              "          google.colab.kernel.accessAllowed ? 'block' : 'none';\n",
              "\n",
              "        async function convertToInteractive(key) {\n",
              "          const element = document.querySelector('#df-31822374-42ed-4f93-b30e-82b9cae52374');\n",
              "          const dataTable =\n",
              "            await google.colab.kernel.invokeFunction('convertToInteractive',\n",
              "                                                     [key], {});\n",
              "          if (!dataTable) return;\n",
              "\n",
              "          const docLinkHtml = 'Like what you see? Visit the ' +\n",
              "            '<a target=\"_blank\" href=https://colab.research.google.com/notebooks/data_table.ipynb>data table notebook</a>'\n",
              "            + ' to learn more about interactive tables.';\n",
              "          element.innerHTML = '';\n",
              "          dataTable['output_type'] = 'display_data';\n",
              "          await google.colab.output.renderOutput(dataTable, element);\n",
              "          const docLink = document.createElement('div');\n",
              "          docLink.innerHTML = docLinkHtml;\n",
              "          element.appendChild(docLink);\n",
              "        }\n",
              "      </script>\n",
              "    </div>\n",
              "  </div>\n"
            ]
          },
          "metadata": {},
          "execution_count": 6
        }
      ]
    },
    {
      "cell_type": "code",
      "source": [
        "#menampilkan 5 baris pertama\n",
        "df.head()"
      ],
      "metadata": {
        "colab": {
          "base_uri": "https://localhost:8080/",
          "height": 206
        },
        "id": "ofCSO9aCTbEp",
        "outputId": "c5496984-e5df-4212-aa22-01a9bd000e30"
      },
      "execution_count": null,
      "outputs": [
        {
          "output_type": "execute_result",
          "data": {
            "text/plain": [
              "   umur  jk  tp_nyeri  tekanan_darah  kolestrol  guldar  ECG  detak_jantung  \\\n",
              "0    63   1         3            145        233       1    0            150   \n",
              "1    37   1         2            130        250       0    1            187   \n",
              "2    41   0         1            130        204       0    0            172   \n",
              "3    56   1         1            120        236       0    1            178   \n",
              "4    57   0         0            120        354       0    1            163   \n",
              "\n",
              "   nyeri_aktv  heart_attack  \n",
              "0           0             1  \n",
              "1           0             1  \n",
              "2           0             1  \n",
              "3           0             1  \n",
              "4           1             1  "
            ],
            "text/html": [
              "\n",
              "\n",
              "  <div id=\"df-c92592c8-5f2b-42c8-9df1-959aa8e7d8eb\">\n",
              "    <div class=\"colab-df-container\">\n",
              "      <div>\n",
              "<style scoped>\n",
              "    .dataframe tbody tr th:only-of-type {\n",
              "        vertical-align: middle;\n",
              "    }\n",
              "\n",
              "    .dataframe tbody tr th {\n",
              "        vertical-align: top;\n",
              "    }\n",
              "\n",
              "    .dataframe thead th {\n",
              "        text-align: right;\n",
              "    }\n",
              "</style>\n",
              "<table border=\"1\" class=\"dataframe\">\n",
              "  <thead>\n",
              "    <tr style=\"text-align: right;\">\n",
              "      <th></th>\n",
              "      <th>umur</th>\n",
              "      <th>jk</th>\n",
              "      <th>tp_nyeri</th>\n",
              "      <th>tekanan_darah</th>\n",
              "      <th>kolestrol</th>\n",
              "      <th>guldar</th>\n",
              "      <th>ECG</th>\n",
              "      <th>detak_jantung</th>\n",
              "      <th>nyeri_aktv</th>\n",
              "      <th>heart_attack</th>\n",
              "    </tr>\n",
              "  </thead>\n",
              "  <tbody>\n",
              "    <tr>\n",
              "      <th>0</th>\n",
              "      <td>63</td>\n",
              "      <td>1</td>\n",
              "      <td>3</td>\n",
              "      <td>145</td>\n",
              "      <td>233</td>\n",
              "      <td>1</td>\n",
              "      <td>0</td>\n",
              "      <td>150</td>\n",
              "      <td>0</td>\n",
              "      <td>1</td>\n",
              "    </tr>\n",
              "    <tr>\n",
              "      <th>1</th>\n",
              "      <td>37</td>\n",
              "      <td>1</td>\n",
              "      <td>2</td>\n",
              "      <td>130</td>\n",
              "      <td>250</td>\n",
              "      <td>0</td>\n",
              "      <td>1</td>\n",
              "      <td>187</td>\n",
              "      <td>0</td>\n",
              "      <td>1</td>\n",
              "    </tr>\n",
              "    <tr>\n",
              "      <th>2</th>\n",
              "      <td>41</td>\n",
              "      <td>0</td>\n",
              "      <td>1</td>\n",
              "      <td>130</td>\n",
              "      <td>204</td>\n",
              "      <td>0</td>\n",
              "      <td>0</td>\n",
              "      <td>172</td>\n",
              "      <td>0</td>\n",
              "      <td>1</td>\n",
              "    </tr>\n",
              "    <tr>\n",
              "      <th>3</th>\n",
              "      <td>56</td>\n",
              "      <td>1</td>\n",
              "      <td>1</td>\n",
              "      <td>120</td>\n",
              "      <td>236</td>\n",
              "      <td>0</td>\n",
              "      <td>1</td>\n",
              "      <td>178</td>\n",
              "      <td>0</td>\n",
              "      <td>1</td>\n",
              "    </tr>\n",
              "    <tr>\n",
              "      <th>4</th>\n",
              "      <td>57</td>\n",
              "      <td>0</td>\n",
              "      <td>0</td>\n",
              "      <td>120</td>\n",
              "      <td>354</td>\n",
              "      <td>0</td>\n",
              "      <td>1</td>\n",
              "      <td>163</td>\n",
              "      <td>1</td>\n",
              "      <td>1</td>\n",
              "    </tr>\n",
              "  </tbody>\n",
              "</table>\n",
              "</div>\n",
              "      <button class=\"colab-df-convert\" onclick=\"convertToInteractive('df-c92592c8-5f2b-42c8-9df1-959aa8e7d8eb')\"\n",
              "              title=\"Convert this dataframe to an interactive table.\"\n",
              "              style=\"display:none;\">\n",
              "\n",
              "  <svg xmlns=\"http://www.w3.org/2000/svg\" height=\"24px\"viewBox=\"0 0 24 24\"\n",
              "       width=\"24px\">\n",
              "    <path d=\"M0 0h24v24H0V0z\" fill=\"none\"/>\n",
              "    <path d=\"M18.56 5.44l.94 2.06.94-2.06 2.06-.94-2.06-.94-.94-2.06-.94 2.06-2.06.94zm-11 1L8.5 8.5l.94-2.06 2.06-.94-2.06-.94L8.5 2.5l-.94 2.06-2.06.94zm10 10l.94 2.06.94-2.06 2.06-.94-2.06-.94-.94-2.06-.94 2.06-2.06.94z\"/><path d=\"M17.41 7.96l-1.37-1.37c-.4-.4-.92-.59-1.43-.59-.52 0-1.04.2-1.43.59L10.3 9.45l-7.72 7.72c-.78.78-.78 2.05 0 2.83L4 21.41c.39.39.9.59 1.41.59.51 0 1.02-.2 1.41-.59l7.78-7.78 2.81-2.81c.8-.78.8-2.07 0-2.86zM5.41 20L4 18.59l7.72-7.72 1.47 1.35L5.41 20z\"/>\n",
              "  </svg>\n",
              "      </button>\n",
              "\n",
              "\n",
              "\n",
              "    <div id=\"df-0bf61b33-36ec-4002-9652-7af2d3cf37c1\">\n",
              "      <button class=\"colab-df-quickchart\" onclick=\"quickchart('df-0bf61b33-36ec-4002-9652-7af2d3cf37c1')\"\n",
              "              title=\"Suggest charts.\"\n",
              "              style=\"display:none;\">\n",
              "\n",
              "<svg xmlns=\"http://www.w3.org/2000/svg\" height=\"24px\"viewBox=\"0 0 24 24\"\n",
              "     width=\"24px\">\n",
              "    <g>\n",
              "        <path d=\"M19 3H5c-1.1 0-2 .9-2 2v14c0 1.1.9 2 2 2h14c1.1 0 2-.9 2-2V5c0-1.1-.9-2-2-2zM9 17H7v-7h2v7zm4 0h-2V7h2v10zm4 0h-2v-4h2v4z\"/>\n",
              "    </g>\n",
              "</svg>\n",
              "      </button>\n",
              "    </div>\n",
              "\n",
              "<style>\n",
              "  .colab-df-quickchart {\n",
              "    background-color: #E8F0FE;\n",
              "    border: none;\n",
              "    border-radius: 50%;\n",
              "    cursor: pointer;\n",
              "    display: none;\n",
              "    fill: #1967D2;\n",
              "    height: 32px;\n",
              "    padding: 0 0 0 0;\n",
              "    width: 32px;\n",
              "  }\n",
              "\n",
              "  .colab-df-quickchart:hover {\n",
              "    background-color: #E2EBFA;\n",
              "    box-shadow: 0px 1px 2px rgba(60, 64, 67, 0.3), 0px 1px 3px 1px rgba(60, 64, 67, 0.15);\n",
              "    fill: #174EA6;\n",
              "  }\n",
              "\n",
              "  [theme=dark] .colab-df-quickchart {\n",
              "    background-color: #3B4455;\n",
              "    fill: #D2E3FC;\n",
              "  }\n",
              "\n",
              "  [theme=dark] .colab-df-quickchart:hover {\n",
              "    background-color: #434B5C;\n",
              "    box-shadow: 0px 1px 3px 1px rgba(0, 0, 0, 0.15);\n",
              "    filter: drop-shadow(0px 1px 2px rgba(0, 0, 0, 0.3));\n",
              "    fill: #FFFFFF;\n",
              "  }\n",
              "</style>\n",
              "\n",
              "    <script>\n",
              "      async function quickchart(key) {\n",
              "        const containerElement = document.querySelector('#' + key);\n",
              "        const charts = await google.colab.kernel.invokeFunction(\n",
              "            'suggestCharts', [key], {});\n",
              "      }\n",
              "    </script>\n",
              "\n",
              "      <script>\n",
              "\n",
              "function displayQuickchartButton(domScope) {\n",
              "  let quickchartButtonEl =\n",
              "    domScope.querySelector('#df-0bf61b33-36ec-4002-9652-7af2d3cf37c1 button.colab-df-quickchart');\n",
              "  quickchartButtonEl.style.display =\n",
              "    google.colab.kernel.accessAllowed ? 'block' : 'none';\n",
              "}\n",
              "\n",
              "        displayQuickchartButton(document);\n",
              "      </script>\n",
              "      <style>\n",
              "    .colab-df-container {\n",
              "      display:flex;\n",
              "      flex-wrap:wrap;\n",
              "      gap: 12px;\n",
              "    }\n",
              "\n",
              "    .colab-df-convert {\n",
              "      background-color: #E8F0FE;\n",
              "      border: none;\n",
              "      border-radius: 50%;\n",
              "      cursor: pointer;\n",
              "      display: none;\n",
              "      fill: #1967D2;\n",
              "      height: 32px;\n",
              "      padding: 0 0 0 0;\n",
              "      width: 32px;\n",
              "    }\n",
              "\n",
              "    .colab-df-convert:hover {\n",
              "      background-color: #E2EBFA;\n",
              "      box-shadow: 0px 1px 2px rgba(60, 64, 67, 0.3), 0px 1px 3px 1px rgba(60, 64, 67, 0.15);\n",
              "      fill: #174EA6;\n",
              "    }\n",
              "\n",
              "    [theme=dark] .colab-df-convert {\n",
              "      background-color: #3B4455;\n",
              "      fill: #D2E3FC;\n",
              "    }\n",
              "\n",
              "    [theme=dark] .colab-df-convert:hover {\n",
              "      background-color: #434B5C;\n",
              "      box-shadow: 0px 1px 3px 1px rgba(0, 0, 0, 0.15);\n",
              "      filter: drop-shadow(0px 1px 2px rgba(0, 0, 0, 0.3));\n",
              "      fill: #FFFFFF;\n",
              "    }\n",
              "  </style>\n",
              "\n",
              "      <script>\n",
              "        const buttonEl =\n",
              "          document.querySelector('#df-c92592c8-5f2b-42c8-9df1-959aa8e7d8eb button.colab-df-convert');\n",
              "        buttonEl.style.display =\n",
              "          google.colab.kernel.accessAllowed ? 'block' : 'none';\n",
              "\n",
              "        async function convertToInteractive(key) {\n",
              "          const element = document.querySelector('#df-c92592c8-5f2b-42c8-9df1-959aa8e7d8eb');\n",
              "          const dataTable =\n",
              "            await google.colab.kernel.invokeFunction('convertToInteractive',\n",
              "                                                     [key], {});\n",
              "          if (!dataTable) return;\n",
              "\n",
              "          const docLinkHtml = 'Like what you see? Visit the ' +\n",
              "            '<a target=\"_blank\" href=https://colab.research.google.com/notebooks/data_table.ipynb>data table notebook</a>'\n",
              "            + ' to learn more about interactive tables.';\n",
              "          element.innerHTML = '';\n",
              "          dataTable['output_type'] = 'display_data';\n",
              "          await google.colab.output.renderOutput(dataTable, element);\n",
              "          const docLink = document.createElement('div');\n",
              "          docLink.innerHTML = docLinkHtml;\n",
              "          element.appendChild(docLink);\n",
              "        }\n",
              "      </script>\n",
              "    </div>\n",
              "  </div>\n"
            ]
          },
          "metadata": {},
          "execution_count": 7
        }
      ]
    },
    {
      "cell_type": "code",
      "source": [
        "#menampilkan 5 baris terakhir\n",
        "df.tail()"
      ],
      "metadata": {
        "colab": {
          "base_uri": "https://localhost:8080/",
          "height": 206
        },
        "id": "XhTx4aNKTxsn",
        "outputId": "5686131b-ceae-4ec0-992e-0590270f6679"
      },
      "execution_count": null,
      "outputs": [
        {
          "output_type": "execute_result",
          "data": {
            "text/plain": [
              "     umur  jk  tp_nyeri  tekanan_darah  kolestrol  guldar  ECG  detak_jantung  \\\n",
              "298    57   0         0            140        241       0    1            123   \n",
              "299    45   1         3            110        264       0    1            132   \n",
              "300    68   1         0            144        193       1    1            141   \n",
              "301    57   1         0            130        131       0    1            115   \n",
              "302    57   0         1            130        236       0    0            174   \n",
              "\n",
              "     nyeri_aktv  heart_attack  \n",
              "298           1             0  \n",
              "299           0             0  \n",
              "300           0             0  \n",
              "301           1             0  \n",
              "302           0             0  "
            ],
            "text/html": [
              "\n",
              "\n",
              "  <div id=\"df-ee974863-926f-4c8c-abc6-f2428862ad84\">\n",
              "    <div class=\"colab-df-container\">\n",
              "      <div>\n",
              "<style scoped>\n",
              "    .dataframe tbody tr th:only-of-type {\n",
              "        vertical-align: middle;\n",
              "    }\n",
              "\n",
              "    .dataframe tbody tr th {\n",
              "        vertical-align: top;\n",
              "    }\n",
              "\n",
              "    .dataframe thead th {\n",
              "        text-align: right;\n",
              "    }\n",
              "</style>\n",
              "<table border=\"1\" class=\"dataframe\">\n",
              "  <thead>\n",
              "    <tr style=\"text-align: right;\">\n",
              "      <th></th>\n",
              "      <th>umur</th>\n",
              "      <th>jk</th>\n",
              "      <th>tp_nyeri</th>\n",
              "      <th>tekanan_darah</th>\n",
              "      <th>kolestrol</th>\n",
              "      <th>guldar</th>\n",
              "      <th>ECG</th>\n",
              "      <th>detak_jantung</th>\n",
              "      <th>nyeri_aktv</th>\n",
              "      <th>heart_attack</th>\n",
              "    </tr>\n",
              "  </thead>\n",
              "  <tbody>\n",
              "    <tr>\n",
              "      <th>298</th>\n",
              "      <td>57</td>\n",
              "      <td>0</td>\n",
              "      <td>0</td>\n",
              "      <td>140</td>\n",
              "      <td>241</td>\n",
              "      <td>0</td>\n",
              "      <td>1</td>\n",
              "      <td>123</td>\n",
              "      <td>1</td>\n",
              "      <td>0</td>\n",
              "    </tr>\n",
              "    <tr>\n",
              "      <th>299</th>\n",
              "      <td>45</td>\n",
              "      <td>1</td>\n",
              "      <td>3</td>\n",
              "      <td>110</td>\n",
              "      <td>264</td>\n",
              "      <td>0</td>\n",
              "      <td>1</td>\n",
              "      <td>132</td>\n",
              "      <td>0</td>\n",
              "      <td>0</td>\n",
              "    </tr>\n",
              "    <tr>\n",
              "      <th>300</th>\n",
              "      <td>68</td>\n",
              "      <td>1</td>\n",
              "      <td>0</td>\n",
              "      <td>144</td>\n",
              "      <td>193</td>\n",
              "      <td>1</td>\n",
              "      <td>1</td>\n",
              "      <td>141</td>\n",
              "      <td>0</td>\n",
              "      <td>0</td>\n",
              "    </tr>\n",
              "    <tr>\n",
              "      <th>301</th>\n",
              "      <td>57</td>\n",
              "      <td>1</td>\n",
              "      <td>0</td>\n",
              "      <td>130</td>\n",
              "      <td>131</td>\n",
              "      <td>0</td>\n",
              "      <td>1</td>\n",
              "      <td>115</td>\n",
              "      <td>1</td>\n",
              "      <td>0</td>\n",
              "    </tr>\n",
              "    <tr>\n",
              "      <th>302</th>\n",
              "      <td>57</td>\n",
              "      <td>0</td>\n",
              "      <td>1</td>\n",
              "      <td>130</td>\n",
              "      <td>236</td>\n",
              "      <td>0</td>\n",
              "      <td>0</td>\n",
              "      <td>174</td>\n",
              "      <td>0</td>\n",
              "      <td>0</td>\n",
              "    </tr>\n",
              "  </tbody>\n",
              "</table>\n",
              "</div>\n",
              "      <button class=\"colab-df-convert\" onclick=\"convertToInteractive('df-ee974863-926f-4c8c-abc6-f2428862ad84')\"\n",
              "              title=\"Convert this dataframe to an interactive table.\"\n",
              "              style=\"display:none;\">\n",
              "\n",
              "  <svg xmlns=\"http://www.w3.org/2000/svg\" height=\"24px\"viewBox=\"0 0 24 24\"\n",
              "       width=\"24px\">\n",
              "    <path d=\"M0 0h24v24H0V0z\" fill=\"none\"/>\n",
              "    <path d=\"M18.56 5.44l.94 2.06.94-2.06 2.06-.94-2.06-.94-.94-2.06-.94 2.06-2.06.94zm-11 1L8.5 8.5l.94-2.06 2.06-.94-2.06-.94L8.5 2.5l-.94 2.06-2.06.94zm10 10l.94 2.06.94-2.06 2.06-.94-2.06-.94-.94-2.06-.94 2.06-2.06.94z\"/><path d=\"M17.41 7.96l-1.37-1.37c-.4-.4-.92-.59-1.43-.59-.52 0-1.04.2-1.43.59L10.3 9.45l-7.72 7.72c-.78.78-.78 2.05 0 2.83L4 21.41c.39.39.9.59 1.41.59.51 0 1.02-.2 1.41-.59l7.78-7.78 2.81-2.81c.8-.78.8-2.07 0-2.86zM5.41 20L4 18.59l7.72-7.72 1.47 1.35L5.41 20z\"/>\n",
              "  </svg>\n",
              "      </button>\n",
              "\n",
              "\n",
              "\n",
              "    <div id=\"df-d8fdfd4b-6a00-4bf9-a26a-b9dbf23b86d9\">\n",
              "      <button class=\"colab-df-quickchart\" onclick=\"quickchart('df-d8fdfd4b-6a00-4bf9-a26a-b9dbf23b86d9')\"\n",
              "              title=\"Suggest charts.\"\n",
              "              style=\"display:none;\">\n",
              "\n",
              "<svg xmlns=\"http://www.w3.org/2000/svg\" height=\"24px\"viewBox=\"0 0 24 24\"\n",
              "     width=\"24px\">\n",
              "    <g>\n",
              "        <path d=\"M19 3H5c-1.1 0-2 .9-2 2v14c0 1.1.9 2 2 2h14c1.1 0 2-.9 2-2V5c0-1.1-.9-2-2-2zM9 17H7v-7h2v7zm4 0h-2V7h2v10zm4 0h-2v-4h2v4z\"/>\n",
              "    </g>\n",
              "</svg>\n",
              "      </button>\n",
              "    </div>\n",
              "\n",
              "<style>\n",
              "  .colab-df-quickchart {\n",
              "    background-color: #E8F0FE;\n",
              "    border: none;\n",
              "    border-radius: 50%;\n",
              "    cursor: pointer;\n",
              "    display: none;\n",
              "    fill: #1967D2;\n",
              "    height: 32px;\n",
              "    padding: 0 0 0 0;\n",
              "    width: 32px;\n",
              "  }\n",
              "\n",
              "  .colab-df-quickchart:hover {\n",
              "    background-color: #E2EBFA;\n",
              "    box-shadow: 0px 1px 2px rgba(60, 64, 67, 0.3), 0px 1px 3px 1px rgba(60, 64, 67, 0.15);\n",
              "    fill: #174EA6;\n",
              "  }\n",
              "\n",
              "  [theme=dark] .colab-df-quickchart {\n",
              "    background-color: #3B4455;\n",
              "    fill: #D2E3FC;\n",
              "  }\n",
              "\n",
              "  [theme=dark] .colab-df-quickchart:hover {\n",
              "    background-color: #434B5C;\n",
              "    box-shadow: 0px 1px 3px 1px rgba(0, 0, 0, 0.15);\n",
              "    filter: drop-shadow(0px 1px 2px rgba(0, 0, 0, 0.3));\n",
              "    fill: #FFFFFF;\n",
              "  }\n",
              "</style>\n",
              "\n",
              "    <script>\n",
              "      async function quickchart(key) {\n",
              "        const containerElement = document.querySelector('#' + key);\n",
              "        const charts = await google.colab.kernel.invokeFunction(\n",
              "            'suggestCharts', [key], {});\n",
              "      }\n",
              "    </script>\n",
              "\n",
              "      <script>\n",
              "\n",
              "function displayQuickchartButton(domScope) {\n",
              "  let quickchartButtonEl =\n",
              "    domScope.querySelector('#df-d8fdfd4b-6a00-4bf9-a26a-b9dbf23b86d9 button.colab-df-quickchart');\n",
              "  quickchartButtonEl.style.display =\n",
              "    google.colab.kernel.accessAllowed ? 'block' : 'none';\n",
              "}\n",
              "\n",
              "        displayQuickchartButton(document);\n",
              "      </script>\n",
              "      <style>\n",
              "    .colab-df-container {\n",
              "      display:flex;\n",
              "      flex-wrap:wrap;\n",
              "      gap: 12px;\n",
              "    }\n",
              "\n",
              "    .colab-df-convert {\n",
              "      background-color: #E8F0FE;\n",
              "      border: none;\n",
              "      border-radius: 50%;\n",
              "      cursor: pointer;\n",
              "      display: none;\n",
              "      fill: #1967D2;\n",
              "      height: 32px;\n",
              "      padding: 0 0 0 0;\n",
              "      width: 32px;\n",
              "    }\n",
              "\n",
              "    .colab-df-convert:hover {\n",
              "      background-color: #E2EBFA;\n",
              "      box-shadow: 0px 1px 2px rgba(60, 64, 67, 0.3), 0px 1px 3px 1px rgba(60, 64, 67, 0.15);\n",
              "      fill: #174EA6;\n",
              "    }\n",
              "\n",
              "    [theme=dark] .colab-df-convert {\n",
              "      background-color: #3B4455;\n",
              "      fill: #D2E3FC;\n",
              "    }\n",
              "\n",
              "    [theme=dark] .colab-df-convert:hover {\n",
              "      background-color: #434B5C;\n",
              "      box-shadow: 0px 1px 3px 1px rgba(0, 0, 0, 0.15);\n",
              "      filter: drop-shadow(0px 1px 2px rgba(0, 0, 0, 0.3));\n",
              "      fill: #FFFFFF;\n",
              "    }\n",
              "  </style>\n",
              "\n",
              "      <script>\n",
              "        const buttonEl =\n",
              "          document.querySelector('#df-ee974863-926f-4c8c-abc6-f2428862ad84 button.colab-df-convert');\n",
              "        buttonEl.style.display =\n",
              "          google.colab.kernel.accessAllowed ? 'block' : 'none';\n",
              "\n",
              "        async function convertToInteractive(key) {\n",
              "          const element = document.querySelector('#df-ee974863-926f-4c8c-abc6-f2428862ad84');\n",
              "          const dataTable =\n",
              "            await google.colab.kernel.invokeFunction('convertToInteractive',\n",
              "                                                     [key], {});\n",
              "          if (!dataTable) return;\n",
              "\n",
              "          const docLinkHtml = 'Like what you see? Visit the ' +\n",
              "            '<a target=\"_blank\" href=https://colab.research.google.com/notebooks/data_table.ipynb>data table notebook</a>'\n",
              "            + ' to learn more about interactive tables.';\n",
              "          element.innerHTML = '';\n",
              "          dataTable['output_type'] = 'display_data';\n",
              "          await google.colab.output.renderOutput(dataTable, element);\n",
              "          const docLink = document.createElement('div');\n",
              "          docLink.innerHTML = docLinkHtml;\n",
              "          element.appendChild(docLink);\n",
              "        }\n",
              "      </script>\n",
              "    </div>\n",
              "  </div>\n"
            ]
          },
          "metadata": {},
          "execution_count": 8
        }
      ]
    },
    {
      "cell_type": "code",
      "source": [
        "#deskripsi statistik deskriptif dataset serangan jantung\n",
        "df.describe()"
      ],
      "metadata": {
        "colab": {
          "base_uri": "https://localhost:8080/",
          "height": 364
        },
        "id": "2OpuqnBTLK29",
        "outputId": "7f548d32-79fc-405e-ea7d-965945aa8e29"
      },
      "execution_count": null,
      "outputs": [
        {
          "output_type": "execute_result",
          "data": {
            "text/plain": [
              "             umur          jk    tp_nyeri  tekanan_darah   kolestrol  \\\n",
              "count  303.000000  303.000000  303.000000     303.000000  303.000000   \n",
              "mean    54.366337    0.683168    0.966997     131.623762  246.264026   \n",
              "std      9.082101    0.466011    1.032052      17.538143   51.830751   \n",
              "min     29.000000    0.000000    0.000000      94.000000  126.000000   \n",
              "25%     47.500000    0.000000    0.000000     120.000000  211.000000   \n",
              "50%     55.000000    1.000000    1.000000     130.000000  240.000000   \n",
              "75%     61.000000    1.000000    2.000000     140.000000  274.500000   \n",
              "max     77.000000    1.000000    3.000000     200.000000  564.000000   \n",
              "\n",
              "           guldar         ECG  detak_jantung  nyeri_aktv  heart_attack  \n",
              "count  303.000000  303.000000     303.000000  303.000000    303.000000  \n",
              "mean     0.148515    0.528053     149.646865    0.326733      0.544554  \n",
              "std      0.356198    0.525860      22.905161    0.469794      0.498835  \n",
              "min      0.000000    0.000000      71.000000    0.000000      0.000000  \n",
              "25%      0.000000    0.000000     133.500000    0.000000      0.000000  \n",
              "50%      0.000000    1.000000     153.000000    0.000000      1.000000  \n",
              "75%      0.000000    1.000000     166.000000    1.000000      1.000000  \n",
              "max      1.000000    2.000000     202.000000    1.000000      1.000000  "
            ],
            "text/html": [
              "\n",
              "\n",
              "  <div id=\"df-761a02d7-49fa-4f37-ac09-d291ac045627\">\n",
              "    <div class=\"colab-df-container\">\n",
              "      <div>\n",
              "<style scoped>\n",
              "    .dataframe tbody tr th:only-of-type {\n",
              "        vertical-align: middle;\n",
              "    }\n",
              "\n",
              "    .dataframe tbody tr th {\n",
              "        vertical-align: top;\n",
              "    }\n",
              "\n",
              "    .dataframe thead th {\n",
              "        text-align: right;\n",
              "    }\n",
              "</style>\n",
              "<table border=\"1\" class=\"dataframe\">\n",
              "  <thead>\n",
              "    <tr style=\"text-align: right;\">\n",
              "      <th></th>\n",
              "      <th>umur</th>\n",
              "      <th>jk</th>\n",
              "      <th>tp_nyeri</th>\n",
              "      <th>tekanan_darah</th>\n",
              "      <th>kolestrol</th>\n",
              "      <th>guldar</th>\n",
              "      <th>ECG</th>\n",
              "      <th>detak_jantung</th>\n",
              "      <th>nyeri_aktv</th>\n",
              "      <th>heart_attack</th>\n",
              "    </tr>\n",
              "  </thead>\n",
              "  <tbody>\n",
              "    <tr>\n",
              "      <th>count</th>\n",
              "      <td>303.000000</td>\n",
              "      <td>303.000000</td>\n",
              "      <td>303.000000</td>\n",
              "      <td>303.000000</td>\n",
              "      <td>303.000000</td>\n",
              "      <td>303.000000</td>\n",
              "      <td>303.000000</td>\n",
              "      <td>303.000000</td>\n",
              "      <td>303.000000</td>\n",
              "      <td>303.000000</td>\n",
              "    </tr>\n",
              "    <tr>\n",
              "      <th>mean</th>\n",
              "      <td>54.366337</td>\n",
              "      <td>0.683168</td>\n",
              "      <td>0.966997</td>\n",
              "      <td>131.623762</td>\n",
              "      <td>246.264026</td>\n",
              "      <td>0.148515</td>\n",
              "      <td>0.528053</td>\n",
              "      <td>149.646865</td>\n",
              "      <td>0.326733</td>\n",
              "      <td>0.544554</td>\n",
              "    </tr>\n",
              "    <tr>\n",
              "      <th>std</th>\n",
              "      <td>9.082101</td>\n",
              "      <td>0.466011</td>\n",
              "      <td>1.032052</td>\n",
              "      <td>17.538143</td>\n",
              "      <td>51.830751</td>\n",
              "      <td>0.356198</td>\n",
              "      <td>0.525860</td>\n",
              "      <td>22.905161</td>\n",
              "      <td>0.469794</td>\n",
              "      <td>0.498835</td>\n",
              "    </tr>\n",
              "    <tr>\n",
              "      <th>min</th>\n",
              "      <td>29.000000</td>\n",
              "      <td>0.000000</td>\n",
              "      <td>0.000000</td>\n",
              "      <td>94.000000</td>\n",
              "      <td>126.000000</td>\n",
              "      <td>0.000000</td>\n",
              "      <td>0.000000</td>\n",
              "      <td>71.000000</td>\n",
              "      <td>0.000000</td>\n",
              "      <td>0.000000</td>\n",
              "    </tr>\n",
              "    <tr>\n",
              "      <th>25%</th>\n",
              "      <td>47.500000</td>\n",
              "      <td>0.000000</td>\n",
              "      <td>0.000000</td>\n",
              "      <td>120.000000</td>\n",
              "      <td>211.000000</td>\n",
              "      <td>0.000000</td>\n",
              "      <td>0.000000</td>\n",
              "      <td>133.500000</td>\n",
              "      <td>0.000000</td>\n",
              "      <td>0.000000</td>\n",
              "    </tr>\n",
              "    <tr>\n",
              "      <th>50%</th>\n",
              "      <td>55.000000</td>\n",
              "      <td>1.000000</td>\n",
              "      <td>1.000000</td>\n",
              "      <td>130.000000</td>\n",
              "      <td>240.000000</td>\n",
              "      <td>0.000000</td>\n",
              "      <td>1.000000</td>\n",
              "      <td>153.000000</td>\n",
              "      <td>0.000000</td>\n",
              "      <td>1.000000</td>\n",
              "    </tr>\n",
              "    <tr>\n",
              "      <th>75%</th>\n",
              "      <td>61.000000</td>\n",
              "      <td>1.000000</td>\n",
              "      <td>2.000000</td>\n",
              "      <td>140.000000</td>\n",
              "      <td>274.500000</td>\n",
              "      <td>0.000000</td>\n",
              "      <td>1.000000</td>\n",
              "      <td>166.000000</td>\n",
              "      <td>1.000000</td>\n",
              "      <td>1.000000</td>\n",
              "    </tr>\n",
              "    <tr>\n",
              "      <th>max</th>\n",
              "      <td>77.000000</td>\n",
              "      <td>1.000000</td>\n",
              "      <td>3.000000</td>\n",
              "      <td>200.000000</td>\n",
              "      <td>564.000000</td>\n",
              "      <td>1.000000</td>\n",
              "      <td>2.000000</td>\n",
              "      <td>202.000000</td>\n",
              "      <td>1.000000</td>\n",
              "      <td>1.000000</td>\n",
              "    </tr>\n",
              "  </tbody>\n",
              "</table>\n",
              "</div>\n",
              "      <button class=\"colab-df-convert\" onclick=\"convertToInteractive('df-761a02d7-49fa-4f37-ac09-d291ac045627')\"\n",
              "              title=\"Convert this dataframe to an interactive table.\"\n",
              "              style=\"display:none;\">\n",
              "\n",
              "  <svg xmlns=\"http://www.w3.org/2000/svg\" height=\"24px\"viewBox=\"0 0 24 24\"\n",
              "       width=\"24px\">\n",
              "    <path d=\"M0 0h24v24H0V0z\" fill=\"none\"/>\n",
              "    <path d=\"M18.56 5.44l.94 2.06.94-2.06 2.06-.94-2.06-.94-.94-2.06-.94 2.06-2.06.94zm-11 1L8.5 8.5l.94-2.06 2.06-.94-2.06-.94L8.5 2.5l-.94 2.06-2.06.94zm10 10l.94 2.06.94-2.06 2.06-.94-2.06-.94-.94-2.06-.94 2.06-2.06.94z\"/><path d=\"M17.41 7.96l-1.37-1.37c-.4-.4-.92-.59-1.43-.59-.52 0-1.04.2-1.43.59L10.3 9.45l-7.72 7.72c-.78.78-.78 2.05 0 2.83L4 21.41c.39.39.9.59 1.41.59.51 0 1.02-.2 1.41-.59l7.78-7.78 2.81-2.81c.8-.78.8-2.07 0-2.86zM5.41 20L4 18.59l7.72-7.72 1.47 1.35L5.41 20z\"/>\n",
              "  </svg>\n",
              "      </button>\n",
              "\n",
              "\n",
              "\n",
              "    <div id=\"df-ebbc9adc-6361-4545-9e75-cefad9f1ac1b\">\n",
              "      <button class=\"colab-df-quickchart\" onclick=\"quickchart('df-ebbc9adc-6361-4545-9e75-cefad9f1ac1b')\"\n",
              "              title=\"Suggest charts.\"\n",
              "              style=\"display:none;\">\n",
              "\n",
              "<svg xmlns=\"http://www.w3.org/2000/svg\" height=\"24px\"viewBox=\"0 0 24 24\"\n",
              "     width=\"24px\">\n",
              "    <g>\n",
              "        <path d=\"M19 3H5c-1.1 0-2 .9-2 2v14c0 1.1.9 2 2 2h14c1.1 0 2-.9 2-2V5c0-1.1-.9-2-2-2zM9 17H7v-7h2v7zm4 0h-2V7h2v10zm4 0h-2v-4h2v4z\"/>\n",
              "    </g>\n",
              "</svg>\n",
              "      </button>\n",
              "    </div>\n",
              "\n",
              "<style>\n",
              "  .colab-df-quickchart {\n",
              "    background-color: #E8F0FE;\n",
              "    border: none;\n",
              "    border-radius: 50%;\n",
              "    cursor: pointer;\n",
              "    display: none;\n",
              "    fill: #1967D2;\n",
              "    height: 32px;\n",
              "    padding: 0 0 0 0;\n",
              "    width: 32px;\n",
              "  }\n",
              "\n",
              "  .colab-df-quickchart:hover {\n",
              "    background-color: #E2EBFA;\n",
              "    box-shadow: 0px 1px 2px rgba(60, 64, 67, 0.3), 0px 1px 3px 1px rgba(60, 64, 67, 0.15);\n",
              "    fill: #174EA6;\n",
              "  }\n",
              "\n",
              "  [theme=dark] .colab-df-quickchart {\n",
              "    background-color: #3B4455;\n",
              "    fill: #D2E3FC;\n",
              "  }\n",
              "\n",
              "  [theme=dark] .colab-df-quickchart:hover {\n",
              "    background-color: #434B5C;\n",
              "    box-shadow: 0px 1px 3px 1px rgba(0, 0, 0, 0.15);\n",
              "    filter: drop-shadow(0px 1px 2px rgba(0, 0, 0, 0.3));\n",
              "    fill: #FFFFFF;\n",
              "  }\n",
              "</style>\n",
              "\n",
              "    <script>\n",
              "      async function quickchart(key) {\n",
              "        const containerElement = document.querySelector('#' + key);\n",
              "        const charts = await google.colab.kernel.invokeFunction(\n",
              "            'suggestCharts', [key], {});\n",
              "      }\n",
              "    </script>\n",
              "\n",
              "      <script>\n",
              "\n",
              "function displayQuickchartButton(domScope) {\n",
              "  let quickchartButtonEl =\n",
              "    domScope.querySelector('#df-ebbc9adc-6361-4545-9e75-cefad9f1ac1b button.colab-df-quickchart');\n",
              "  quickchartButtonEl.style.display =\n",
              "    google.colab.kernel.accessAllowed ? 'block' : 'none';\n",
              "}\n",
              "\n",
              "        displayQuickchartButton(document);\n",
              "      </script>\n",
              "      <style>\n",
              "    .colab-df-container {\n",
              "      display:flex;\n",
              "      flex-wrap:wrap;\n",
              "      gap: 12px;\n",
              "    }\n",
              "\n",
              "    .colab-df-convert {\n",
              "      background-color: #E8F0FE;\n",
              "      border: none;\n",
              "      border-radius: 50%;\n",
              "      cursor: pointer;\n",
              "      display: none;\n",
              "      fill: #1967D2;\n",
              "      height: 32px;\n",
              "      padding: 0 0 0 0;\n",
              "      width: 32px;\n",
              "    }\n",
              "\n",
              "    .colab-df-convert:hover {\n",
              "      background-color: #E2EBFA;\n",
              "      box-shadow: 0px 1px 2px rgba(60, 64, 67, 0.3), 0px 1px 3px 1px rgba(60, 64, 67, 0.15);\n",
              "      fill: #174EA6;\n",
              "    }\n",
              "\n",
              "    [theme=dark] .colab-df-convert {\n",
              "      background-color: #3B4455;\n",
              "      fill: #D2E3FC;\n",
              "    }\n",
              "\n",
              "    [theme=dark] .colab-df-convert:hover {\n",
              "      background-color: #434B5C;\n",
              "      box-shadow: 0px 1px 3px 1px rgba(0, 0, 0, 0.15);\n",
              "      filter: drop-shadow(0px 1px 2px rgba(0, 0, 0, 0.3));\n",
              "      fill: #FFFFFF;\n",
              "    }\n",
              "  </style>\n",
              "\n",
              "      <script>\n",
              "        const buttonEl =\n",
              "          document.querySelector('#df-761a02d7-49fa-4f37-ac09-d291ac045627 button.colab-df-convert');\n",
              "        buttonEl.style.display =\n",
              "          google.colab.kernel.accessAllowed ? 'block' : 'none';\n",
              "\n",
              "        async function convertToInteractive(key) {\n",
              "          const element = document.querySelector('#df-761a02d7-49fa-4f37-ac09-d291ac045627');\n",
              "          const dataTable =\n",
              "            await google.colab.kernel.invokeFunction('convertToInteractive',\n",
              "                                                     [key], {});\n",
              "          if (!dataTable) return;\n",
              "\n",
              "          const docLinkHtml = 'Like what you see? Visit the ' +\n",
              "            '<a target=\"_blank\" href=https://colab.research.google.com/notebooks/data_table.ipynb>data table notebook</a>'\n",
              "            + ' to learn more about interactive tables.';\n",
              "          element.innerHTML = '';\n",
              "          dataTable['output_type'] = 'display_data';\n",
              "          await google.colab.output.renderOutput(dataTable, element);\n",
              "          const docLink = document.createElement('div');\n",
              "          docLink.innerHTML = docLinkHtml;\n",
              "          element.appendChild(docLink);\n",
              "        }\n",
              "      </script>\n",
              "    </div>\n",
              "  </div>\n"
            ]
          },
          "metadata": {},
          "execution_count": 9
        }
      ]
    },
    {
      "cell_type": "markdown",
      "source": [
        "##Visualisasi data"
      ],
      "metadata": {
        "id": "KngqJ6vNgih8"
      }
    },
    {
      "cell_type": "code",
      "source": [
        "# Variabel-variabel yang ingin ditampilkan dalam histogram\n",
        "variables = ['umur', 'tekanan_darah', 'kolestrol', 'detak_jantung']\n",
        "\n",
        "# Ukuran plot (opsional)\n",
        "plt.figure(figsize=(12, 8))\n",
        "\n",
        "# Menampilkan histogram untuk setiap variabel\n",
        "for i, var in enumerate(variables):\n",
        "    plt.subplot(2, 2, i+1)\n",
        "    sns.histplot(df[var], kde=True,  color='blue', edgecolor='k')\n",
        "    plt.xlabel(var)\n",
        "    plt.ylabel('Jumlah')\n",
        "\n",
        "# Menampilkan judul untuk keseluruhan plot (opsional)\n",
        "plt.suptitle('Histogram', fontsize=16)\n",
        "\n",
        "# Menampilkan plot\n",
        "plt.tight_layout()\n",
        "plt.show()\n"
      ],
      "metadata": {
        "colab": {
          "base_uri": "https://localhost:8080/",
          "height": 615
        },
        "id": "piQIO30nkg0r",
        "outputId": "f3a4f344-65b2-4460-8b36-a40fbf8762e0"
      },
      "execution_count": null,
      "outputs": [
        {
          "output_type": "display_data",
          "data": {
            "text/plain": [
              "<Figure size 1200x800 with 4 Axes>"
            ],
            "image/png": "[encoded data removed]"
          },
          "metadata": {}
        }
      ]
    },
    {
      "cell_type": "code",
      "source": [
        "# Variabel-variabel yang ingin ditampilkan dalam bar plot\n",
        "variables = ['jk', 'tp_nyeri' , 'guldar', 'ECG', 'nyeri_aktv','heart_attack']\n",
        "\n",
        "# Ukuran plot (opsional)\n",
        "plt.figure(figsize=(12, 12))\n",
        "\n",
        "# Menampilkan bar plot untuk setiap variabel\n",
        "for i, var in enumerate(variables):\n",
        "    plt.subplot(3, 2, i+1)\n",
        "    sns.countplot(x=var, data=df, palette='Reds')\n",
        "    plt.xlabel(var)\n",
        "    plt.ylabel('Jumlah')\n",
        "\n",
        "# Menampilkan judul untuk keseluruhan plot (opsional)\n",
        "plt.suptitle('Bar Plot', fontsize=16)\n",
        "\n",
        "# Menampilkan plot\n",
        "plt.tight_layout()\n",
        "plt.show()\n"
      ],
      "metadata": {
        "colab": {
          "base_uri": "https://localhost:8080/",
          "height": 913
        },
        "id": "Y8yBMikRtPuC",
        "outputId": "0504a086-2a90-4cb6-9484-f3b93af5ba7a"
      },
      "execution_count": null,
      "outputs": [
        {
          "output_type": "display_data",
          "data": {
            "text/plain": [
              "<Figure size 1200x1200 with 6 Axes>"
            ],
            "image/png": "[encoded data removed]"
          },
          "metadata": {}
        }
      ]
    },
    {
      "cell_type": "code",
      "source": [
        "# Membuat scatter plot untuk hubungan umur dengan tekanan darah\n",
        "plt.figure(figsize=(8, 5))\n",
        "plt.scatter(df['umur'], df['tekanan_darah'], color='orange')\n",
        "plt.xlabel('Umur')\n",
        "plt.ylabel('Tekanan Darah')\n",
        "plt.title('Hubungan Umur dengan Tekanan Darah')\n",
        "plt.grid()\n",
        "plt.show()\n",
        "\n",
        "# Membuat scatter plot untuk hubungan kolestrol dengan detak jantung\n",
        "plt.figure(figsize=(8, 5))\n",
        "plt.scatter(df['kolestrol'], df['detak_jantung'], color='blue')\n",
        "plt.xlabel('Kolestrol')\n",
        "plt.ylabel('Detak Jantung')\n",
        "plt.title('Hubungan Kolestrol dengan Detak Jantung')\n",
        "plt.grid()\n",
        "plt.show()\n",
        "\n",
        "# Membuat scatter plot untuk hubungan Tekanan Darah dengan Kolestrol\n",
        "plt.figure(figsize=(8, 5))\n",
        "plt.scatter(df['tekanan_darah'], df['kolestrol'], color='red')\n",
        "plt.xlabel('Tekanan Darah')\n",
        "plt.ylabel('Kolestrol')\n",
        "plt.title('Hubungan Tekanan Darah dengan Kolestrol')\n",
        "plt.grid()\n",
        "plt.show()"
      ],
      "metadata": {
        "colab": {
          "base_uri": "https://localhost:8080/",
          "height": 1000
        },
        "id": "FNuTstCQmyVh",
        "outputId": "cf217acd-b1b7-4d33-b563-8e221e04f79a"
      },
      "execution_count": null,
      "outputs": [
        {
          "output_type": "display_data",
          "data": {
            "text/plain": [
              "<Figure size 800x500 with 1 Axes>"
            ],
            "image/png": "[encoded data removed]"
          },
          "metadata": {}
        },
        {
          "output_type": "display_data",
          "data": {
            "text/plain": [
              "<Figure size 800x500 with 1 Axes>"
            ],
            "image/png": "[encoded data removed]"
          },
          "metadata": {}
        },
        {
          "output_type": "display_data",
          "data": {
            "text/plain": [
              "<Figure size 800x500 with 1 Axes>"
            ],
            "image/png": "[encoded data removed]"
          },
          "metadata": {}
        }
      ]
    },
    {
      "cell_type": "markdown",
      "source": [
        "1. Hubungan Umur dengan Tekanan Darah:\n",
        "   - Plot scatter menunjukkan bahwa tidak ada hubungan linier yang jelas antara usia (umur) dengan tekanan darah istirahat (tekanan_darah).\n",
        "   - Titik data tersebar secara acak tanpa pola atau tren yang jelas.\n",
        "   - Mungkin ada sedikit korelasi positif antara usia dan tekanan darah, tetapi tidak cukup kuat untuk menetapkan hubungan yang jelas.\n",
        "2. Hubungan Kolestrol dengan Detak Jantung:\n",
        "   - Plot scatter menunjukkan tidak ada hubungan linier yang jelas antara tingkat kolesterol serum (kolestrol) dengan detak jantung maksimum yang dicapai (detak_jantung).\n",
        "   - Titik data tersebar luas tanpa pola linier yang jelas.\n",
        "   - Tampaknya tidak ada korelasi yang kuat antara tingkat kolesterol dan detak jantung maksimum.\n",
        "3. Hubungan tekanan darah dan Kolesterol\n",
        "   - Dari hasil visualisasi scatter plot antara variabel 'tekanan_darah' (tekanan darah istirahat) dan 'kolestrol' (kadar kolesterol), kita dapat mengamati pola distribusi dan kemungkinan     korelasi antara kedua variabel tersebut.\n",
        "   - Hasil scatter plot menunjukkan titik-titik tersebar secara acak dan tidak membentuk pola tertentu, maka dapat diasumsikan bahwa tidak ada korelasi linier yang kuat antara tekanan darah istirahat dan kadar kolesterol. Dalam kasus ini, titik-titik data tersebar di berbagai bagian plot, dan tidak membentuk garis lurus atau pola yang jelas.\n",
        "\n",
        "\n"
      ],
      "metadata": {
        "id": "asCDKIMNkzjq"
      }
    },
    {
      "cell_type": "code",
      "source": [
        "# Menentukan palet warna untuk plot\n",
        "colors = ['#1f77b4', '#ff7f0e']\n",
        "\n",
        "# Membuat bar plot dengan seaborn\n",
        "plt.figure(figsize=(8, 6))\n",
        "sns.barplot(x='jk', y='tekanan_darah', data=df, palette=colors, hue_order=[1, 0])\n",
        "\n",
        "# Memberikan judul dan label pada sumbu\n",
        "plt.title('Rata-rata Tekanan Darah berdasarkan Jenis Kelamin')\n",
        "plt.xlabel('Jenis Kelamin')\n",
        "plt.ylabel('Rata-rata Tekanan Darah')\n",
        "\n",
        "# Menampilkan legenda\n",
        "plt.legend(title='Keterangan', labels=['Pria', 'Wanita'])\n",
        "\n",
        "# Menampilkan plot\n",
        "plt.show()"
      ],
      "metadata": {
        "colab": {
          "base_uri": "https://localhost:8080/",
          "height": 564
        },
        "id": "EYwQURBao2HO",
        "outputId": "a947ab52-d587-4948-a5fd-a3731493b80d"
      },
      "execution_count": null,
      "outputs": [
        {
          "output_type": "display_data",
          "data": {
            "text/plain": [
              "<Figure size 800x600 with 1 Axes>"
            ],
            "image/png": "[encoded data removed]"
          },
          "metadata": {}
        }
      ]
    },
    {
      "cell_type": "markdown",
      "source": [
        "Bar plot tersebut menunjukkan perbandingan rata-rata tekanan darah berdasarkan jenis kelamin. Dua batang pada bar plot mewakili dua kelompok jenis kelamin, yaitu Oren adalah \"Pria\" dan Biru adalah \"Wanita\". Pada barplot tersebut menunjukan bahwa tekanan darah pada perempuan lebih tinggi dibandingkan pria."
      ],
      "metadata": {
        "id": "Qls0qycZCp1a"
      }
    },
    {
      "cell_type": "markdown",
      "source": [
        "#Korelasi"
      ],
      "metadata": {
        "id": "KSYg6B5p0nsU"
      }
    },
    {
      "cell_type": "code",
      "source": [
        "df.corr()"
      ],
      "metadata": {
        "colab": {
          "base_uri": "https://localhost:8080/",
          "height": 427
        },
        "id": "77oVFBIQzvdS",
        "outputId": "976e8546-f7f4-4a7f-c630-c57b5abbf7ff"
      },
      "execution_count": null,
      "outputs": [
        {
          "output_type": "execute_result",
          "data": {
            "text/plain": [
              "                   umur        jk  tp_nyeri  tekanan_darah  kolestrol  \\\n",
              "umur           1.000000 -0.098447 -0.068653       0.279351   0.213678   \n",
              "jk            -0.098447  1.000000 -0.049353      -0.056769  -0.197912   \n",
              "tp_nyeri      -0.068653 -0.049353  1.000000       0.047608  -0.076904   \n",
              "tekanan_darah  0.279351 -0.056769  0.047608       1.000000   0.123174   \n",
              "kolestrol      0.213678 -0.197912 -0.076904       0.123174   1.000000   \n",
              "guldar         0.121308  0.045032  0.094444       0.177531   0.013294   \n",
              "ECG           -0.116211 -0.058196  0.044421      -0.114103  -0.151040   \n",
              "detak_jantung -0.398522 -0.044020  0.295762      -0.046698  -0.009940   \n",
              "nyeri_aktv     0.096801  0.141664 -0.394280       0.067616   0.067023   \n",
              "heart_attack  -0.225439 -0.280937  0.433798      -0.144931  -0.085239   \n",
              "\n",
              "                 guldar       ECG  detak_jantung  nyeri_aktv  heart_attack  \n",
              "umur           0.121308 -0.116211      -0.398522    0.096801     -0.225439  \n",
              "jk             0.045032 -0.058196      -0.044020    0.141664     -0.280937  \n",
              "tp_nyeri       0.094444  0.044421       0.295762   -0.394280      0.433798  \n",
              "tekanan_darah  0.177531 -0.114103      -0.046698    0.067616     -0.144931  \n",
              "kolestrol      0.013294 -0.151040      -0.009940    0.067023     -0.085239  \n",
              "guldar         1.000000 -0.084189      -0.008567    0.025665     -0.028046  \n",
              "ECG           -0.084189  1.000000       0.044123   -0.070733      0.137230  \n",
              "detak_jantung -0.008567  0.044123       1.000000   -0.378812      0.421741  \n",
              "nyeri_aktv     0.025665 -0.070733      -0.378812    1.000000     -0.436757  \n",
              "heart_attack  -0.028046  0.137230       0.421741   -0.436757      1.000000  "
            ],
            "text/html": [
              "\n",
              "\n",
              "  <div id=\"df-394f8a47-792e-4a29-a4f5-69e8cf7e5b5b\">\n",
              "    <div class=\"colab-df-container\">\n",
              "      <div>\n",
              "<style scoped>\n",
              "    .dataframe tbody tr th:only-of-type {\n",
              "        vertical-align: middle;\n",
              "    }\n",
              "\n",
              "    .dataframe tbody tr th {\n",
              "        vertical-align: top;\n",
              "    }\n",
              "\n",
              "    .dataframe thead th {\n",
              "        text-align: right;\n",
              "    }\n",
              "</style>\n",
              "<table border=\"1\" class=\"dataframe\">\n",
              "  <thead>\n",
              "    <tr style=\"text-align: right;\">\n",
              "      <th></th>\n",
              "      <th>umur</th>\n",
              "      <th>jk</th>\n",
              "      <th>tp_nyeri</th>\n",
              "      <th>tekanan_darah</th>\n",
              "      <th>kolestrol</th>\n",
              "      <th>guldar</th>\n",
              "      <th>ECG</th>\n",
              "      <th>detak_jantung</th>\n",
              "      <th>nyeri_aktv</th>\n",
              "      <th>heart_attack</th>\n",
              "    </tr>\n",
              "  </thead>\n",
              "  <tbody>\n",
              "    <tr>\n",
              "      <th>umur</th>\n",
              "      <td>1.000000</td>\n",
              "      <td>-0.098447</td>\n",
              "      <td>-0.068653</td>\n",
              "      <td>0.279351</td>\n",
              "      <td>0.213678</td>\n",
              "      <td>0.121308</td>\n",
              "      <td>-0.116211</td>\n",
              "      <td>-0.398522</td>\n",
              "      <td>0.096801</td>\n",
              "      <td>-0.225439</td>\n",
              "    </tr>\n",
              "    <tr>\n",
              "      <th>jk</th>\n",
              "      <td>-0.098447</td>\n",
              "      <td>1.000000</td>\n",
              "      <td>-0.049353</td>\n",
              "      <td>-0.056769</td>\n",
              "      <td>-0.197912</td>\n",
              "      <td>0.045032</td>\n",
              "      <td>-0.058196</td>\n",
              "      <td>-0.044020</td>\n",
              "      <td>0.141664</td>\n",
              "      <td>-0.280937</td>\n",
              "    </tr>\n",
              "    <tr>\n",
              "      <th>tp_nyeri</th>\n",
              "      <td>-0.068653</td>\n",
              "      <td>-0.049353</td>\n",
              "      <td>1.000000</td>\n",
              "      <td>0.047608</td>\n",
              "      <td>-0.076904</td>\n",
              "      <td>0.094444</td>\n",
              "      <td>0.044421</td>\n",
              "      <td>0.295762</td>\n",
              "      <td>-0.394280</td>\n",
              "      <td>0.433798</td>\n",
              "    </tr>\n",
              "    <tr>\n",
              "      <th>tekanan_darah</th>\n",
              "      <td>0.279351</td>\n",
              "      <td>-0.056769</td>\n",
              "      <td>0.047608</td>\n",
              "      <td>1.000000</td>\n",
              "      <td>0.123174</td>\n",
              "      <td>0.177531</td>\n",
              "      <td>-0.114103</td>\n",
              "      <td>-0.046698</td>\n",
              "      <td>0.067616</td>\n",
              "      <td>-0.144931</td>\n",
              "    </tr>\n",
              "    <tr>\n",
              "      <th>kolestrol</th>\n",
              "      <td>0.213678</td>\n",
              "      <td>-0.197912</td>\n",
              "      <td>-0.076904</td>\n",
              "      <td>0.123174</td>\n",
              "      <td>1.000000</td>\n",
              "      <td>0.013294</td>\n",
              "      <td>-0.151040</td>\n",
              "      <td>-0.009940</td>\n",
              "      <td>0.067023</td>\n",
              "      <td>-0.085239</td>\n",
              "    </tr>\n",
              "    <tr>\n",
              "      <th>guldar</th>\n",
              "      <td>0.121308</td>\n",
              "      <td>0.045032</td>\n",
              "      <td>0.094444</td>\n",
              "      <td>0.177531</td>\n",
              "      <td>0.013294</td>\n",
              "      <td>1.000000</td>\n",
              "      <td>-0.084189</td>\n",
              "      <td>-0.008567</td>\n",
              "      <td>0.025665</td>\n",
              "      <td>-0.028046</td>\n",
              "    </tr>\n",
              "    <tr>\n",
              "      <th>ECG</th>\n",
              "      <td>-0.116211</td>\n",
              "      <td>-0.058196</td>\n",
              "      <td>0.044421</td>\n",
              "      <td>-0.114103</td>\n",
              "      <td>-0.151040</td>\n",
              "      <td>-0.084189</td>\n",
              "      <td>1.000000</td>\n",
              "      <td>0.044123</td>\n",
              "      <td>-0.070733</td>\n",
              "      <td>0.137230</td>\n",
              "    </tr>\n",
              "    <tr>\n",
              "      <th>detak_jantung</th>\n",
              "      <td>-0.398522</td>\n",
              "      <td>-0.044020</td>\n",
              "      <td>0.295762</td>\n",
              "      <td>-0.046698</td>\n",
              "      <td>-0.009940</td>\n",
              "      <td>-0.008567</td>\n",
              "      <td>0.044123</td>\n",
              "      <td>1.000000</td>\n",
              "      <td>-0.378812</td>\n",
              "      <td>0.421741</td>\n",
              "    </tr>\n",
              "    <tr>\n",
              "      <th>nyeri_aktv</th>\n",
              "      <td>0.096801</td>\n",
              "      <td>0.141664</td>\n",
              "      <td>-0.394280</td>\n",
              "      <td>0.067616</td>\n",
              "      <td>0.067023</td>\n",
              "      <td>0.025665</td>\n",
              "      <td>-0.070733</td>\n",
              "      <td>-0.378812</td>\n",
              "      <td>1.000000</td>\n",
              "      <td>-0.436757</td>\n",
              "    </tr>\n",
              "    <tr>\n",
              "      <th>heart_attack</th>\n",
              "      <td>-0.225439</td>\n",
              "      <td>-0.280937</td>\n",
              "      <td>0.433798</td>\n",
              "      <td>-0.144931</td>\n",
              "      <td>-0.085239</td>\n",
              "      <td>-0.028046</td>\n",
              "      <td>0.137230</td>\n",
              "      <td>0.421741</td>\n",
              "      <td>-0.436757</td>\n",
              "      <td>1.000000</td>\n",
              "    </tr>\n",
              "  </tbody>\n",
              "</table>\n",
              "</div>\n",
              "      <button class=\"colab-df-convert\" onclick=\"convertToInteractive('df-394f8a47-792e-4a29-a4f5-69e8cf7e5b5b')\"\n",
              "              title=\"Convert this dataframe to an interactive table.\"\n",
              "              style=\"display:none;\">\n",
              "\n",
              "  <svg xmlns=\"http://www.w3.org/2000/svg\" height=\"24px\"viewBox=\"0 0 24 24\"\n",
              "       width=\"24px\">\n",
              "    <path d=\"M0 0h24v24H0V0z\" fill=\"none\"/>\n",
              "    <path d=\"M18.56 5.44l.94 2.06.94-2.06 2.06-.94-2.06-.94-.94-2.06-.94 2.06-2.06.94zm-11 1L8.5 8.5l.94-2.06 2.06-.94-2.06-.94L8.5 2.5l-.94 2.06-2.06.94zm10 10l.94 2.06.94-2.06 2.06-.94-2.06-.94-.94-2.06-.94 2.06-2.06.94z\"/><path d=\"M17.41 7.96l-1.37-1.37c-.4-.4-.92-.59-1.43-.59-.52 0-1.04.2-1.43.59L10.3 9.45l-7.72 7.72c-.78.78-.78 2.05 0 2.83L4 21.41c.39.39.9.59 1.41.59.51 0 1.02-.2 1.41-.59l7.78-7.78 2.81-2.81c.8-.78.8-2.07 0-2.86zM5.41 20L4 18.59l7.72-7.72 1.47 1.35L5.41 20z\"/>\n",
              "  </svg>\n",
              "      </button>\n",
              "\n",
              "\n",
              "\n",
              "    <div id=\"df-09e3151c-7f44-4604-8ef8-2b412d5b8e2b\">\n",
              "      <button class=\"colab-df-quickchart\" onclick=\"quickchart('df-09e3151c-7f44-4604-8ef8-2b412d5b8e2b')\"\n",
              "              title=\"Suggest charts.\"\n",
              "              style=\"display:none;\">\n",
              "\n",
              "<svg xmlns=\"http://www.w3.org/2000/svg\" height=\"24px\"viewBox=\"0 0 24 24\"\n",
              "     width=\"24px\">\n",
              "    <g>\n",
              "        <path d=\"M19 3H5c-1.1 0-2 .9-2 2v14c0 1.1.9 2 2 2h14c1.1 0 2-.9 2-2V5c0-1.1-.9-2-2-2zM9 17H7v-7h2v7zm4 0h-2V7h2v10zm4 0h-2v-4h2v4z\"/>\n",
              "    </g>\n",
              "</svg>\n",
              "      </button>\n",
              "    </div>\n",
              "\n",
              "<style>\n",
              "  .colab-df-quickchart {\n",
              "    background-color: #E8F0FE;\n",
              "    border: none;\n",
              "    border-radius: 50%;\n",
              "    cursor: pointer;\n",
              "    display: none;\n",
              "    fill: #1967D2;\n",
              "    height: 32px;\n",
              "    padding: 0 0 0 0;\n",
              "    width: 32px;\n",
              "  }\n",
              "\n",
              "  .colab-df-quickchart:hover {\n",
              "    background-color: #E2EBFA;\n",
              "    box-shadow: 0px 1px 2px rgba(60, 64, 67, 0.3), 0px 1px 3px 1px rgba(60, 64, 67, 0.15);\n",
              "    fill: #174EA6;\n",
              "  }\n",
              "\n",
              "  [theme=dark] .colab-df-quickchart {\n",
              "    background-color: #3B4455;\n",
              "    fill: #D2E3FC;\n",
              "  }\n",
              "\n",
              "  [theme=dark] .colab-df-quickchart:hover {\n",
              "    background-color: #434B5C;\n",
              "    box-shadow: 0px 1px 3px 1px rgba(0, 0, 0, 0.15);\n",
              "    filter: drop-shadow(0px 1px 2px rgba(0, 0, 0, 0.3));\n",
              "    fill: #FFFFFF;\n",
              "  }\n",
              "</style>\n",
              "\n",
              "    <script>\n",
              "      async function quickchart(key) {\n",
              "        const containerElement = document.querySelector('#' + key);\n",
              "        const charts = await google.colab.kernel.invokeFunction(\n",
              "            'suggestCharts', [key], {});\n",
              "      }\n",
              "    </script>\n",
              "\n",
              "      <script>\n",
              "\n",
              "function displayQuickchartButton(domScope) {\n",
              "  let quickchartButtonEl =\n",
              "    domScope.querySelector('#df-09e3151c-7f44-4604-8ef8-2b412d5b8e2b button.colab-df-quickchart');\n",
              "  quickchartButtonEl.style.display =\n",
              "    google.colab.kernel.accessAllowed ? 'block' : 'none';\n",
              "}\n",
              "\n",
              "        displayQuickchartButton(document);\n",
              "      </script>\n",
              "      <style>\n",
              "    .colab-df-container {\n",
              "      display:flex;\n",
              "      flex-wrap:wrap;\n",
              "      gap: 12px;\n",
              "    }\n",
              "\n",
              "    .colab-df-convert {\n",
              "      background-color: #E8F0FE;\n",
              "      border: none;\n",
              "      border-radius: 50%;\n",
              "      cursor: pointer;\n",
              "      display: none;\n",
              "      fill: #1967D2;\n",
              "      height: 32px;\n",
              "      padding: 0 0 0 0;\n",
              "      width: 32px;\n",
              "    }\n",
              "\n",
              "    .colab-df-convert:hover {\n",
              "      background-color: #E2EBFA;\n",
              "      box-shadow: 0px 1px 2px rgba(60, 64, 67, 0.3), 0px 1px 3px 1px rgba(60, 64, 67, 0.15);\n",
              "      fill: #174EA6;\n",
              "    }\n",
              "\n",
              "    [theme=dark] .colab-df-convert {\n",
              "      background-color: #3B4455;\n",
              "      fill: #D2E3FC;\n",
              "    }\n",
              "\n",
              "    [theme=dark] .colab-df-convert:hover {\n",
              "      background-color: #434B5C;\n",
              "      box-shadow: 0px 1px 3px 1px rgba(0, 0, 0, 0.15);\n",
              "      filter: drop-shadow(0px 1px 2px rgba(0, 0, 0, 0.3));\n",
              "      fill: #FFFFFF;\n",
              "    }\n",
              "  </style>\n",
              "\n",
              "      <script>\n",
              "        const buttonEl =\n",
              "          document.querySelector('#df-394f8a47-792e-4a29-a4f5-69e8cf7e5b5b button.colab-df-convert');\n",
              "        buttonEl.style.display =\n",
              "          google.colab.kernel.accessAllowed ? 'block' : 'none';\n",
              "\n",
              "        async function convertToInteractive(key) {\n",
              "          const element = document.querySelector('#df-394f8a47-792e-4a29-a4f5-69e8cf7e5b5b');\n",
              "          const dataTable =\n",
              "            await google.colab.kernel.invokeFunction('convertToInteractive',\n",
              "                                                     [key], {});\n",
              "          if (!dataTable) return;\n",
              "\n",
              "          const docLinkHtml = 'Like what you see? Visit the ' +\n",
              "            '<a target=\"_blank\" href=https://colab.research.google.com/notebooks/data_table.ipynb>data table notebook</a>'\n",
              "            + ' to learn more about interactive tables.';\n",
              "          element.innerHTML = '';\n",
              "          dataTable['output_type'] = 'display_data';\n",
              "          await google.colab.output.renderOutput(dataTable, element);\n",
              "          const docLink = document.createElement('div');\n",
              "          docLink.innerHTML = docLinkHtml;\n",
              "          element.appendChild(docLink);\n",
              "        }\n",
              "      </script>\n",
              "    </div>\n",
              "  </div>\n"
            ]
          },
          "metadata": {},
          "execution_count": 85
        }
      ]
    },
    {
      "cell_type": "code",
      "source": [
        "# Menghitung matriks korelasi\n",
        "corr_matrix = df.corr()\n",
        "\n",
        "# Membuat heatmap dari matriks korelasi\n",
        "plt.figure(figsize=(10, 8))\n",
        "sns.heatmap(corr_matrix, annot=True, cmap='coolwarm')\n",
        "plt.title('Matriks Korelasi')\n",
        "plt.show()"
      ],
      "metadata": {
        "id": "nEfQlG78z4F1",
        "outputId": "a05a1d13-f9c9-4804-e213-1a8e4fc894b6",
        "colab": {
          "base_uri": "https://localhost:8080/",
          "height": 789
        }
      },
      "execution_count": null,
      "outputs": [
        {
          "output_type": "display_data",
          "data": {
            "text/plain": [
              "<Figure size 1000x800 with 2 Axes>"
            ],
            "image/png": "[encoded data removed]"
          },
          "metadata": {}
        }
      ]
    },
    {
      "cell_type": "markdown",
      "source": [
        "*  variabel \"umur\" memiliki korelasi negatif yang lemah dengan \"heart_attack\", maka dapat diartikan bahwa semakin tua usia seseorang, kemungkinan mengalami serangan jantung cenderung menurun\n",
        "\n",
        "*  variabel \"jk\" memiliki korelasi negatif yang lemah dengan \"heart_attack\", maka dapat diartikan jenis kelamin memiliki pengaruh kecil terhadap kemungkinan mengalami serangan jantung\n",
        "\n",
        "*  variabel \"tp_nyeri\" memiliki korelasi positif yang cukup kuat dengan \"heart_attack\", maka dapat diartikan semakin tinggi tingkat nyeri dada yang dialami oleh seseorang, kemungkinan serangan jantung juga cenderung lebih tinggi\n",
        "\n",
        "*  variabel \"tekanan_darah\" memiliki korelasi negatif yang sangat lemah dengan \"heart_attack\", maka dapat diartikan tekanan darah hampir tidak memiliki pengaruh atau tidak berkorelasi dengan kemungkinan terjadinya serangan jantung\n",
        "\n",
        "*  variabel \"kolestrol\" memiliki korelasi negatif yang sangat lemah dengan \"heart_attack\", maka dapat diartikan kolesterol hampir tidak memiliki pengaruh atau tidak berkorelasi dengan kemungkinan terjadinya serangan jantung\n",
        "\n",
        "*  variabel \"guldar\" memiliki korelasi negatif yang sangat lemah dengan \"heart_attack\", maka dapat diartikan tidak ada hubungan yang signifikan antara kadar gula darah dengan kemungkinan terjadinya serangan jantung (heart_attack) dalam dataset ini\n",
        "\n",
        "*  variabel \"ECG\" memiliki korelasi positif yang sangat lemah dengan \"heart_attack\", maka dapat diartikan hubungan antara hasil elektrokardiografi saat istirahat (ECG) dengan kemungkinan terjadinya serangan jantung (heart_attack) dalam dataset ini hampir tidak signifikan\n",
        "\n",
        "*  variabel \"detak-jantung\" memiliki korelasi positif yang cukup kuat dengan \"heart_attack\", maka dapat diartikan semakin tinggi detak jantung maksimal seseorang, semakin tinggi juga kemungkinan ia mengalami serangan jantung\n",
        "\n",
        "*  variabel \"nyeri_aktv\" memiliki korelasi negatif yang cukup kuat dengan \"heart_attack\", maka dapat diartikan jika seseorang memiliki tingkat aktivitas nyeri yang lebih rendah, maka mereka cenderung memiliki risiko yang lebih tinggi untuk mengalami serangan jantung"
      ],
      "metadata": {
        "id": "i3GgtGBpzXh9"
      }
    },
    {
      "cell_type": "markdown",
      "source": [
        "#Pembagian data training dan testing"
      ],
      "metadata": {
        "id": "V0Z_RF3y0yxe"
      }
    },
    {
      "cell_type": "markdown",
      "source": [
        "##Model 1"
      ],
      "metadata": {
        "id": "ePbbW2xQBNqc"
      }
    },
    {
      "cell_type": "code",
      "source": [
        "#membuat variabel x dan y\n",
        "bebas =['umur', 'jk', 'tp_nyeri', 'tekanan_darah', 'kolestrol', 'guldar', 'ECG','detak_jantung', 'nyeri_aktv']\n",
        "x = df[bebas]\n",
        "y = df['heart_attack']"
      ],
      "metadata": {
        "id": "dUjEsfUkp5Y0"
      },
      "execution_count": null,
      "outputs": []
    },
    {
      "cell_type": "markdown",
      "source": [
        "###90:10"
      ],
      "metadata": {
        "id": "P_MTqHYK7OW1"
      }
    },
    {
      "cell_type": "code",
      "source": [
        "#split data menjadi training dan test perbandingan menjadi 90:10\n",
        "x_train, x_test, y_train, y_test = train_test_split(x, y, test_size=0.1, random_state=100)"
      ],
      "metadata": {
        "id": "8r9uguib6uF1"
      },
      "execution_count": null,
      "outputs": []
    },
    {
      "cell_type": "code",
      "source": [
        "#cek jumlah data yang telah di split\n",
        "print(x_train.shape)\n",
        "print(y_train.shape)\n",
        "print(x_test.shape)\n",
        "print(y_test.shape)"
      ],
      "metadata": {
        "colab": {
          "base_uri": "https://localhost:8080/"
        },
        "id": "SJL_Alpe6uZX",
        "outputId": "1613c808-c8c7-4076-de8e-9810b5ec2620"
      },
      "execution_count": null,
      "outputs": [
        {
          "output_type": "stream",
          "name": "stdout",
          "text": [
            "(272, 9)\n",
            "(272,)\n",
            "(31, 9)\n",
            "(31,)\n"
          ]
        }
      ]
    },
    {
      "cell_type": "code",
      "source": [
        "#membuat model lonear regresi dan latih model menggunakan data training yang sudah di split\n",
        "regr = LinearRegression()\n",
        "regr.fit(x_train, y_train)"
      ],
      "metadata": {
        "colab": {
          "base_uri": "https://localhost:8080/",
          "height": 75
        },
        "id": "hrbPOGNP7aCy",
        "outputId": "b4293a10-c09c-46f6-c4a2-6e1f45e64e8e"
      },
      "execution_count": null,
      "outputs": [
        {
          "output_type": "execute_result",
          "data": {
            "text/plain": [
              "LinearRegression()"
            ],
            "text/html": [
              "<style>#sk-container-id-5 {color: black;background-color: white;}#sk-container-id-5 pre{padding: 0;}#sk-container-id-5 div.sk-toggleable {background-color: white;}#sk-container-id-5 label.sk-toggleable__label {cursor: pointer;display: block;width: 100%;margin-bottom: 0;padding: 0.3em;box-sizing: border-box;text-align: center;}#sk-container-id-5 label.sk-toggleable__label-arrow:before {content: \"▸\";float: left;margin-right: 0.25em;color: #696969;}#sk-container-id-5 label.sk-toggleable__label-arrow:hover:before {color: black;}#sk-container-id-5 div.sk-estimator:hover label.sk-toggleable__label-arrow:before {color: black;}#sk-container-id-5 div.sk-toggleable__content {max-height: 0;max-width: 0;overflow: hidden;text-align: left;background-color: #f0f8ff;}#sk-container-id-5 div.sk-toggleable__content pre {margin: 0.2em;color: black;border-radius: 0.25em;background-color: #f0f8ff;}#sk-container-id-5 input.sk-toggleable__control:checked~div.sk-toggleable__content {max-height: 200px;max-width: 100%;overflow: auto;}#sk-container-id-5 input.sk-toggleable__control:checked~label.sk-toggleable__label-arrow:before {content: \"▾\";}#sk-container-id-5 div.sk-estimator input.sk-toggleable__control:checked~label.sk-toggleable__label {background-color: #d4ebff;}#sk-container-id-5 div.sk-label input.sk-toggleable__control:checked~label.sk-toggleable__label {background-color: #d4ebff;}#sk-container-id-5 input.sk-hidden--visually {border: 0;clip: rect(1px 1px 1px 1px);clip: rect(1px, 1px, 1px, 1px);height: 1px;margin: -1px;overflow: hidden;padding: 0;position: absolute;width: 1px;}#sk-container-id-5 div.sk-estimator {font-family: monospace;background-color: #f0f8ff;border: 1px dotted black;border-radius: 0.25em;box-sizing: border-box;margin-bottom: 0.5em;}#sk-container-id-5 div.sk-estimator:hover {background-color: #d4ebff;}#sk-container-id-5 div.sk-parallel-item::after {content: \"\";width: 100%;border-bottom: 1px solid gray;flex-grow: 1;}#sk-container-id-5 div.sk-label:hover label.sk-toggleable__label {background-color: #d4ebff;}#sk-container-id-5 div.sk-serial::before {content: \"\";position: absolute;border-left: 1px solid gray;box-sizing: border-box;top: 0;bottom: 0;left: 50%;z-index: 0;}#sk-container-id-5 div.sk-serial {display: flex;flex-direction: column;align-items: center;background-color: white;padding-right: 0.2em;padding-left: 0.2em;position: relative;}#sk-container-id-5 div.sk-item {position: relative;z-index: 1;}#sk-container-id-5 div.sk-parallel {display: flex;align-items: stretch;justify-content: center;background-color: white;position: relative;}#sk-container-id-5 div.sk-item::before, #sk-container-id-5 div.sk-parallel-item::before {content: \"\";position: absolute;border-left: 1px solid gray;box-sizing: border-box;top: 0;bottom: 0;left: 50%;z-index: -1;}#sk-container-id-5 div.sk-parallel-item {display: flex;flex-direction: column;z-index: 1;position: relative;background-color: white;}#sk-container-id-5 div.sk-parallel-item:first-child::after {align-self: flex-end;width: 50%;}#sk-container-id-5 div.sk-parallel-item:last-child::after {align-self: flex-start;width: 50%;}#sk-container-id-5 div.sk-parallel-item:only-child::after {width: 0;}#sk-container-id-5 div.sk-dashed-wrapped {border: 1px dashed gray;margin: 0 0.4em 0.5em 0.4em;box-sizing: border-box;padding-bottom: 0.4em;background-color: white;}#sk-container-id-5 div.sk-label label {font-family: monospace;font-weight: bold;display: inline-block;line-height: 1.2em;}#sk-container-id-5 div.sk-label-container {text-align: center;}#sk-container-id-5 div.sk-container {/* jupyter's `normalize.less` sets `[hidden] { display: none; }` but bootstrap.min.css set `[hidden] { display: none !important; }` so we also need the `!important` here to be able to override the default hidden behavior on the sphinx rendered scikit-learn.org. See: https://github.com/scikit-learn/scikit-learn/issues/21755 */display: inline-block !important;position: relative;}#sk-container-id-5 div.sk-text-repr-fallback {display: none;}</style><div id=\"sk-container-id-5\" class=\"sk-top-container\"><div class=\"sk-text-repr-fallback\"><pre>LinearRegression()</pre><b>In a Jupyter environment, please rerun this cell to show the HTML representation or trust the notebook. <br />On GitHub, the HTML representation is unable to render, please try loading this page with nbviewer.org.</b></div><div class=\"sk-container\" hidden><div class=\"sk-item\"><div class=\"sk-estimator sk-toggleable\"><input class=\"sk-toggleable__control sk-hidden--visually\" id=\"sk-estimator-id-5\" type=\"checkbox\" checked><label for=\"sk-estimator-id-5\" class=\"sk-toggleable__label sk-toggleable__label-arrow\">LinearRegression</label><div class=\"sk-toggleable__content\"><pre>LinearRegression()</pre></div></div></div></div></div>"
            ]
          },
          "metadata": {},
          "execution_count": 95
        }
      ]
    },
    {
      "cell_type": "code",
      "source": [
        "#cari tau nilai koefisien(m) dan intercept(b)\n",
        "print('Intercept ', regr.intercept_)\n",
        "print('Coef ', regr.coef_)"
      ],
      "metadata": {
        "colab": {
          "base_uri": "https://localhost:8080/"
        },
        "id": "fKRjh1Yj7Z5y",
        "outputId": "4edb9424-235e-48cf-a031-9d25f8e4cbf3"
      },
      "execution_count": null,
      "outputs": [
        {
          "output_type": "stream",
          "name": "stdout",
          "text": [
            "Intercept  0.7506787648930222\n",
            "Coef  [-0.00369486 -0.27415549  0.1262558  -0.00301539 -0.00075593 -0.02005083\n",
            "  0.03800212  0.00471911 -0.2019455 ]\n"
          ]
        }
      ]
    },
    {
      "cell_type": "code",
      "source": [
        "pred = regr.predict(x_test)\n",
        "rmse = np.sqrt(metrics.mean_squared_error(np.array(y_test), pred))"
      ],
      "metadata": {
        "id": "1xZEMffr7Zvq"
      },
      "execution_count": null,
      "outputs": []
    },
    {
      "cell_type": "code",
      "source": [
        "rmse"
      ],
      "metadata": {
        "colab": {
          "base_uri": "https://localhost:8080/"
        },
        "id": "vg6Douuy7fn5",
        "outputId": "7d939396-41ed-4931-c17b-24cb39c5683e"
      },
      "execution_count": null,
      "outputs": [
        {
          "output_type": "execute_result",
          "data": {
            "text/plain": [
              "0.3385538024752715"
            ]
          },
          "metadata": {},
          "execution_count": 98
        }
      ]
    },
    {
      "cell_type": "markdown",
      "source": [
        "###80:20"
      ],
      "metadata": {
        "id": "Nem96GgQ6ofd"
      }
    },
    {
      "cell_type": "code",
      "source": [
        "#split data menjadi training dan test perbandingan menjadi 80:20\n",
        "x_train, x_test, y_train, y_test = train_test_split(x, y, test_size=0.2, random_state=100)"
      ],
      "metadata": {
        "id": "76ot28eTqgT9"
      },
      "execution_count": null,
      "outputs": []
    },
    {
      "cell_type": "code",
      "source": [
        "#cek jumlah data yang telah di split\n",
        "print(x_train.shape)\n",
        "print(y_train.shape)\n",
        "print(x_test.shape)\n",
        "print(y_test.shape)"
      ],
      "metadata": {
        "colab": {
          "base_uri": "https://localhost:8080/"
        },
        "id": "PmZ9KZHIq7mw",
        "outputId": "faf8d152-11a8-4da0-f622-320f7374eab9"
      },
      "execution_count": null,
      "outputs": [
        {
          "output_type": "stream",
          "name": "stdout",
          "text": [
            "(242, 9)\n",
            "(242,)\n",
            "(61, 9)\n",
            "(61,)\n"
          ]
        }
      ]
    },
    {
      "cell_type": "code",
      "source": [
        "#membuat model lonear regresi dan latih model menggunakan data training yang sudah di split\n",
        "regr = LinearRegression()\n",
        "regr.fit(x_train, y_train)"
      ],
      "metadata": {
        "colab": {
          "base_uri": "https://localhost:8080/",
          "height": 75
        },
        "id": "cMyO7I20rJs6",
        "outputId": "08a64994-ed00-4ef6-9621-e00cdcbee198"
      },
      "execution_count": null,
      "outputs": [
        {
          "output_type": "execute_result",
          "data": {
            "text/plain": [
              "LinearRegression()"
            ],
            "text/html": [
              "<style>#sk-container-id-6 {color: black;background-color: white;}#sk-container-id-6 pre{padding: 0;}#sk-container-id-6 div.sk-toggleable {background-color: white;}#sk-container-id-6 label.sk-toggleable__label {cursor: pointer;display: block;width: 100%;margin-bottom: 0;padding: 0.3em;box-sizing: border-box;text-align: center;}#sk-container-id-6 label.sk-toggleable__label-arrow:before {content: \"▸\";float: left;margin-right: 0.25em;color: #696969;}#sk-container-id-6 label.sk-toggleable__label-arrow:hover:before {color: black;}#sk-container-id-6 div.sk-estimator:hover label.sk-toggleable__label-arrow:before {color: black;}#sk-container-id-6 div.sk-toggleable__content {max-height: 0;max-width: 0;overflow: hidden;text-align: left;background-color: #f0f8ff;}#sk-container-id-6 div.sk-toggleable__content pre {margin: 0.2em;color: black;border-radius: 0.25em;background-color: #f0f8ff;}#sk-container-id-6 input.sk-toggleable__control:checked~div.sk-toggleable__content {max-height: 200px;max-width: 100%;overflow: auto;}#sk-container-id-6 input.sk-toggleable__control:checked~label.sk-toggleable__label-arrow:before {content: \"▾\";}#sk-container-id-6 div.sk-estimator input.sk-toggleable__control:checked~label.sk-toggleable__label {background-color: #d4ebff;}#sk-container-id-6 div.sk-label input.sk-toggleable__control:checked~label.sk-toggleable__label {background-color: #d4ebff;}#sk-container-id-6 input.sk-hidden--visually {border: 0;clip: rect(1px 1px 1px 1px);clip: rect(1px, 1px, 1px, 1px);height: 1px;margin: -1px;overflow: hidden;padding: 0;position: absolute;width: 1px;}#sk-container-id-6 div.sk-estimator {font-family: monospace;background-color: #f0f8ff;border: 1px dotted black;border-radius: 0.25em;box-sizing: border-box;margin-bottom: 0.5em;}#sk-container-id-6 div.sk-estimator:hover {background-color: #d4ebff;}#sk-container-id-6 div.sk-parallel-item::after {content: \"\";width: 100%;border-bottom: 1px solid gray;flex-grow: 1;}#sk-container-id-6 div.sk-label:hover label.sk-toggleable__label {background-color: #d4ebff;}#sk-container-id-6 div.sk-serial::before {content: \"\";position: absolute;border-left: 1px solid gray;box-sizing: border-box;top: 0;bottom: 0;left: 50%;z-index: 0;}#sk-container-id-6 div.sk-serial {display: flex;flex-direction: column;align-items: center;background-color: white;padding-right: 0.2em;padding-left: 0.2em;position: relative;}#sk-container-id-6 div.sk-item {position: relative;z-index: 1;}#sk-container-id-6 div.sk-parallel {display: flex;align-items: stretch;justify-content: center;background-color: white;position: relative;}#sk-container-id-6 div.sk-item::before, #sk-container-id-6 div.sk-parallel-item::before {content: \"\";position: absolute;border-left: 1px solid gray;box-sizing: border-box;top: 0;bottom: 0;left: 50%;z-index: -1;}#sk-container-id-6 div.sk-parallel-item {display: flex;flex-direction: column;z-index: 1;position: relative;background-color: white;}#sk-container-id-6 div.sk-parallel-item:first-child::after {align-self: flex-end;width: 50%;}#sk-container-id-6 div.sk-parallel-item:last-child::after {align-self: flex-start;width: 50%;}#sk-container-id-6 div.sk-parallel-item:only-child::after {width: 0;}#sk-container-id-6 div.sk-dashed-wrapped {border: 1px dashed gray;margin: 0 0.4em 0.5em 0.4em;box-sizing: border-box;padding-bottom: 0.4em;background-color: white;}#sk-container-id-6 div.sk-label label {font-family: monospace;font-weight: bold;display: inline-block;line-height: 1.2em;}#sk-container-id-6 div.sk-label-container {text-align: center;}#sk-container-id-6 div.sk-container {/* jupyter's `normalize.less` sets `[hidden] { display: none; }` but bootstrap.min.css set `[hidden] { display: none !important; }` so we also need the `!important` here to be able to override the default hidden behavior on the sphinx rendered scikit-learn.org. See: https://github.com/scikit-learn/scikit-learn/issues/21755 */display: inline-block !important;position: relative;}#sk-container-id-6 div.sk-text-repr-fallback {display: none;}</style><div id=\"sk-container-id-6\" class=\"sk-top-container\"><div class=\"sk-text-repr-fallback\"><pre>LinearRegression()</pre><b>In a Jupyter environment, please rerun this cell to show the HTML representation or trust the notebook. <br />On GitHub, the HTML representation is unable to render, please try loading this page with nbviewer.org.</b></div><div class=\"sk-container\" hidden><div class=\"sk-item\"><div class=\"sk-estimator sk-toggleable\"><input class=\"sk-toggleable__control sk-hidden--visually\" id=\"sk-estimator-id-6\" type=\"checkbox\" checked><label for=\"sk-estimator-id-6\" class=\"sk-toggleable__label sk-toggleable__label-arrow\">LinearRegression</label><div class=\"sk-toggleable__content\"><pre>LinearRegression()</pre></div></div></div></div></div>"
            ]
          },
          "metadata": {},
          "execution_count": 101
        }
      ]
    },
    {
      "cell_type": "code",
      "source": [
        "#cari tau nilai koefisien(m) dan intercept(b)\n",
        "print('Intercept ', regr.intercept_)\n",
        "print('Coef ', regr.coef_)"
      ],
      "metadata": {
        "colab": {
          "base_uri": "https://localhost:8080/"
        },
        "id": "-_5UsUP3rX4x",
        "outputId": "693a46df-99c9-411c-ccf1-261562cc5d77"
      },
      "execution_count": null,
      "outputs": [
        {
          "output_type": "stream",
          "name": "stdout",
          "text": [
            "Intercept  0.825142020290877\n",
            "Coef  [-0.00318036 -0.30485994  0.1252609  -0.00300148 -0.00098213 -0.03846673\n",
            "  0.02931672  0.00452473 -0.17788685]\n"
          ]
        }
      ]
    },
    {
      "cell_type": "code",
      "source": [
        "pred = regr.predict(x_test)\n",
        "rmse = np.sqrt(metrics.mean_squared_error(np.array(y_test), pred))"
      ],
      "metadata": {
        "id": "yXak4OoRrxJV"
      },
      "execution_count": null,
      "outputs": []
    },
    {
      "cell_type": "code",
      "source": [
        "rmse"
      ],
      "metadata": {
        "colab": {
          "base_uri": "https://localhost:8080/"
        },
        "id": "N3KYp3UnsQk1",
        "outputId": "2aa1404f-b3a2-46c9-cf02-2de13a15b962"
      },
      "execution_count": null,
      "outputs": [
        {
          "output_type": "execute_result",
          "data": {
            "text/plain": [
              "0.338723573599129"
            ]
          },
          "metadata": {},
          "execution_count": 104
        }
      ]
    },
    {
      "cell_type": "markdown",
      "source": [
        "###70:30"
      ],
      "metadata": {
        "id": "yX22v6uG6FuY"
      }
    },
    {
      "cell_type": "code",
      "source": [
        "#split data menjadi training dan test perbandingan menjadi 70:30\n",
        "x_train, x_test, y_train, y_test = train_test_split(x, y, test_size=0.3, random_state=100)"
      ],
      "metadata": {
        "id": "dQswf4ik6HgE"
      },
      "execution_count": null,
      "outputs": []
    },
    {
      "cell_type": "code",
      "source": [
        "#cek jumlah data yang telah di split\n",
        "print(x_train.shape)\n",
        "print(y_train.shape)\n",
        "print(x_test.shape)\n",
        "print(y_test.shape)"
      ],
      "metadata": {
        "colab": {
          "base_uri": "https://localhost:8080/"
        },
        "id": "w7hTiyq16HZC",
        "outputId": "2462e335-0852-48ff-b141-dc6f6dbeb69f"
      },
      "execution_count": null,
      "outputs": [
        {
          "output_type": "stream",
          "name": "stdout",
          "text": [
            "(212, 9)\n",
            "(212,)\n",
            "(91, 9)\n",
            "(91,)\n"
          ]
        }
      ]
    },
    {
      "cell_type": "code",
      "source": [
        "#membuat model lonear regresi dan latih model menggunakan data training yang sudah di split\n",
        "regr = LinearRegression()\n",
        "regr.fit(x_train, y_train)"
      ],
      "metadata": {
        "colab": {
          "base_uri": "https://localhost:8080/",
          "height": 75
        },
        "id": "jtofgRjm6HQ5",
        "outputId": "e5a35adc-2917-4f9e-da44-ba75c681f560"
      },
      "execution_count": null,
      "outputs": [
        {
          "output_type": "execute_result",
          "data": {
            "text/plain": [
              "LinearRegression()"
            ],
            "text/html": [
              "<style>#sk-container-id-7 {color: black;background-color: white;}#sk-container-id-7 pre{padding: 0;}#sk-container-id-7 div.sk-toggleable {background-color: white;}#sk-container-id-7 label.sk-toggleable__label {cursor: pointer;display: block;width: 100%;margin-bottom: 0;padding: 0.3em;box-sizing: border-box;text-align: center;}#sk-container-id-7 label.sk-toggleable__label-arrow:before {content: \"▸\";float: left;margin-right: 0.25em;color: #696969;}#sk-container-id-7 label.sk-toggleable__label-arrow:hover:before {color: black;}#sk-container-id-7 div.sk-estimator:hover label.sk-toggleable__label-arrow:before {color: black;}#sk-container-id-7 div.sk-toggleable__content {max-height: 0;max-width: 0;overflow: hidden;text-align: left;background-color: #f0f8ff;}#sk-container-id-7 div.sk-toggleable__content pre {margin: 0.2em;color: black;border-radius: 0.25em;background-color: #f0f8ff;}#sk-container-id-7 input.sk-toggleable__control:checked~div.sk-toggleable__content {max-height: 200px;max-width: 100%;overflow: auto;}#sk-container-id-7 input.sk-toggleable__control:checked~label.sk-toggleable__label-arrow:before {content: \"▾\";}#sk-container-id-7 div.sk-estimator input.sk-toggleable__control:checked~label.sk-toggleable__label {background-color: #d4ebff;}#sk-container-id-7 div.sk-label input.sk-toggleable__control:checked~label.sk-toggleable__label {background-color: #d4ebff;}#sk-container-id-7 input.sk-hidden--visually {border: 0;clip: rect(1px 1px 1px 1px);clip: rect(1px, 1px, 1px, 1px);height: 1px;margin: -1px;overflow: hidden;padding: 0;position: absolute;width: 1px;}#sk-container-id-7 div.sk-estimator {font-family: monospace;background-color: #f0f8ff;border: 1px dotted black;border-radius: 0.25em;box-sizing: border-box;margin-bottom: 0.5em;}#sk-container-id-7 div.sk-estimator:hover {background-color: #d4ebff;}#sk-container-id-7 div.sk-parallel-item::after {content: \"\";width: 100%;border-bottom: 1px solid gray;flex-grow: 1;}#sk-container-id-7 div.sk-label:hover label.sk-toggleable__label {background-color: #d4ebff;}#sk-container-id-7 div.sk-serial::before {content: \"\";position: absolute;border-left: 1px solid gray;box-sizing: border-box;top: 0;bottom: 0;left: 50%;z-index: 0;}#sk-container-id-7 div.sk-serial {display: flex;flex-direction: column;align-items: center;background-color: white;padding-right: 0.2em;padding-left: 0.2em;position: relative;}#sk-container-id-7 div.sk-item {position: relative;z-index: 1;}#sk-container-id-7 div.sk-parallel {display: flex;align-items: stretch;justify-content: center;background-color: white;position: relative;}#sk-container-id-7 div.sk-item::before, #sk-container-id-7 div.sk-parallel-item::before {content: \"\";position: absolute;border-left: 1px solid gray;box-sizing: border-box;top: 0;bottom: 0;left: 50%;z-index: -1;}#sk-container-id-7 div.sk-parallel-item {display: flex;flex-direction: column;z-index: 1;position: relative;background-color: white;}#sk-container-id-7 div.sk-parallel-item:first-child::after {align-self: flex-end;width: 50%;}#sk-container-id-7 div.sk-parallel-item:last-child::after {align-self: flex-start;width: 50%;}#sk-container-id-7 div.sk-parallel-item:only-child::after {width: 0;}#sk-container-id-7 div.sk-dashed-wrapped {border: 1px dashed gray;margin: 0 0.4em 0.5em 0.4em;box-sizing: border-box;padding-bottom: 0.4em;background-color: white;}#sk-container-id-7 div.sk-label label {font-family: monospace;font-weight: bold;display: inline-block;line-height: 1.2em;}#sk-container-id-7 div.sk-label-container {text-align: center;}#sk-container-id-7 div.sk-container {/* jupyter's `normalize.less` sets `[hidden] { display: none; }` but bootstrap.min.css set `[hidden] { display: none !important; }` so we also need the `!important` here to be able to override the default hidden behavior on the sphinx rendered scikit-learn.org. See: https://github.com/scikit-learn/scikit-learn/issues/21755 */display: inline-block !important;position: relative;}#sk-container-id-7 div.sk-text-repr-fallback {display: none;}</style><div id=\"sk-container-id-7\" class=\"sk-top-container\"><div class=\"sk-text-repr-fallback\"><pre>LinearRegression()</pre><b>In a Jupyter environment, please rerun this cell to show the HTML representation or trust the notebook. <br />On GitHub, the HTML representation is unable to render, please try loading this page with nbviewer.org.</b></div><div class=\"sk-container\" hidden><div class=\"sk-item\"><div class=\"sk-estimator sk-toggleable\"><input class=\"sk-toggleable__control sk-hidden--visually\" id=\"sk-estimator-id-7\" type=\"checkbox\" checked><label for=\"sk-estimator-id-7\" class=\"sk-toggleable__label sk-toggleable__label-arrow\">LinearRegression</label><div class=\"sk-toggleable__content\"><pre>LinearRegression()</pre></div></div></div></div></div>"
            ]
          },
          "metadata": {},
          "execution_count": 107
        }
      ]
    },
    {
      "cell_type": "code",
      "source": [
        "#cari tau nilai koefisien(m) dan intercept(b)\n",
        "print('Intercept ', regr.intercept_)\n",
        "print('Coef ', regr.coef_)"
      ],
      "metadata": {
        "colab": {
          "base_uri": "https://localhost:8080/"
        },
        "id": "o5H1ziOn6HGz",
        "outputId": "8cd20ccb-68c2-4eaa-d8ed-c193146a862e"
      },
      "execution_count": null,
      "outputs": [
        {
          "output_type": "stream",
          "name": "stdout",
          "text": [
            "Intercept  0.7461463649833234\n",
            "Coef  [-0.0031323  -0.29888289  0.12266262 -0.00296665 -0.00067743 -0.0665991\n",
            "  0.02783761  0.00444941 -0.1539946 ]\n"
          ]
        }
      ]
    },
    {
      "cell_type": "code",
      "source": [
        "pred = regr.predict(x_test)\n",
        "rmse = np.sqrt(metrics.mean_squared_error(np.array(y_test), pred))"
      ],
      "metadata": {
        "id": "r4mmZsxX6Y8C"
      },
      "execution_count": null,
      "outputs": []
    },
    {
      "cell_type": "code",
      "source": [
        "rmse"
      ],
      "metadata": {
        "colab": {
          "base_uri": "https://localhost:8080/"
        },
        "id": "x79nTDLx6Zq-",
        "outputId": "86db1e51-eefd-4619-94b7-03984f175d84"
      },
      "execution_count": null,
      "outputs": [
        {
          "output_type": "execute_result",
          "data": {
            "text/plain": [
              "0.33404438313080886"
            ]
          },
          "metadata": {},
          "execution_count": 110
        }
      ]
    },
    {
      "cell_type": "markdown",
      "source": [
        "###60:40"
      ],
      "metadata": {
        "id": "FxQ1m1ez6q19"
      }
    },
    {
      "cell_type": "code",
      "source": [
        "#split data menjadi training dan test perbandingan menjadi 60:40\n",
        "x_train, x_test, y_train, y_test = train_test_split(x, y, test_size=0.4, random_state=100)"
      ],
      "metadata": {
        "id": "TSS8nyEt6sCp"
      },
      "execution_count": null,
      "outputs": []
    },
    {
      "cell_type": "code",
      "source": [
        "#cek jumlah data yang telah di split\n",
        "print(x_train.shape)\n",
        "print(y_train.shape)\n",
        "print(x_test.shape)\n",
        "print(y_test.shape)"
      ],
      "metadata": {
        "colab": {
          "base_uri": "https://localhost:8080/"
        },
        "id": "FNWXdrdP6sXn",
        "outputId": "ccaa98ce-0bdf-445b-b810-fd5f4484beda"
      },
      "execution_count": null,
      "outputs": [
        {
          "output_type": "stream",
          "name": "stdout",
          "text": [
            "(181, 9)\n",
            "(181,)\n",
            "(122, 9)\n",
            "(122,)\n"
          ]
        }
      ]
    },
    {
      "cell_type": "code",
      "source": [
        "#membuat model lonear regresi dan latih model menggunakan data training yang sudah di split\n",
        "regr = LinearRegression()\n",
        "regr.fit(x_train, y_train)"
      ],
      "metadata": {
        "colab": {
          "base_uri": "https://localhost:8080/",
          "height": 75
        },
        "id": "Xun3BNfc6srY",
        "outputId": "d4ba09df-b4f4-4500-a891-f11ab2fcb2df"
      },
      "execution_count": null,
      "outputs": [
        {
          "output_type": "execute_result",
          "data": {
            "text/plain": [
              "LinearRegression()"
            ],
            "text/html": [
              "<style>#sk-container-id-8 {color: black;background-color: white;}#sk-container-id-8 pre{padding: 0;}#sk-container-id-8 div.sk-toggleable {background-color: white;}#sk-container-id-8 label.sk-toggleable__label {cursor: pointer;display: block;width: 100%;margin-bottom: 0;padding: 0.3em;box-sizing: border-box;text-align: center;}#sk-container-id-8 label.sk-toggleable__label-arrow:before {content: \"▸\";float: left;margin-right: 0.25em;color: #696969;}#sk-container-id-8 label.sk-toggleable__label-arrow:hover:before {color: black;}#sk-container-id-8 div.sk-estimator:hover label.sk-toggleable__label-arrow:before {color: black;}#sk-container-id-8 div.sk-toggleable__content {max-height: 0;max-width: 0;overflow: hidden;text-align: left;background-color: #f0f8ff;}#sk-container-id-8 div.sk-toggleable__content pre {margin: 0.2em;color: black;border-radius: 0.25em;background-color: #f0f8ff;}#sk-container-id-8 input.sk-toggleable__control:checked~div.sk-toggleable__content {max-height: 200px;max-width: 100%;overflow: auto;}#sk-container-id-8 input.sk-toggleable__control:checked~label.sk-toggleable__label-arrow:before {content: \"▾\";}#sk-container-id-8 div.sk-estimator input.sk-toggleable__control:checked~label.sk-toggleable__label {background-color: #d4ebff;}#sk-container-id-8 div.sk-label input.sk-toggleable__control:checked~label.sk-toggleable__label {background-color: #d4ebff;}#sk-container-id-8 input.sk-hidden--visually {border: 0;clip: rect(1px 1px 1px 1px);clip: rect(1px, 1px, 1px, 1px);height: 1px;margin: -1px;overflow: hidden;padding: 0;position: absolute;width: 1px;}#sk-container-id-8 div.sk-estimator {font-family: monospace;background-color: #f0f8ff;border: 1px dotted black;border-radius: 0.25em;box-sizing: border-box;margin-bottom: 0.5em;}#sk-container-id-8 div.sk-estimator:hover {background-color: #d4ebff;}#sk-container-id-8 div.sk-parallel-item::after {content: \"\";width: 100%;border-bottom: 1px solid gray;flex-grow: 1;}#sk-container-id-8 div.sk-label:hover label.sk-toggleable__label {background-color: #d4ebff;}#sk-container-id-8 div.sk-serial::before {content: \"\";position: absolute;border-left: 1px solid gray;box-sizing: border-box;top: 0;bottom: 0;left: 50%;z-index: 0;}#sk-container-id-8 div.sk-serial {display: flex;flex-direction: column;align-items: center;background-color: white;padding-right: 0.2em;padding-left: 0.2em;position: relative;}#sk-container-id-8 div.sk-item {position: relative;z-index: 1;}#sk-container-id-8 div.sk-parallel {display: flex;align-items: stretch;justify-content: center;background-color: white;position: relative;}#sk-container-id-8 div.sk-item::before, #sk-container-id-8 div.sk-parallel-item::before {content: \"\";position: absolute;border-left: 1px solid gray;box-sizing: border-box;top: 0;bottom: 0;left: 50%;z-index: -1;}#sk-container-id-8 div.sk-parallel-item {display: flex;flex-direction: column;z-index: 1;position: relative;background-color: white;}#sk-container-id-8 div.sk-parallel-item:first-child::after {align-self: flex-end;width: 50%;}#sk-container-id-8 div.sk-parallel-item:last-child::after {align-self: flex-start;width: 50%;}#sk-container-id-8 div.sk-parallel-item:only-child::after {width: 0;}#sk-container-id-8 div.sk-dashed-wrapped {border: 1px dashed gray;margin: 0 0.4em 0.5em 0.4em;box-sizing: border-box;padding-bottom: 0.4em;background-color: white;}#sk-container-id-8 div.sk-label label {font-family: monospace;font-weight: bold;display: inline-block;line-height: 1.2em;}#sk-container-id-8 div.sk-label-container {text-align: center;}#sk-container-id-8 div.sk-container {/* jupyter's `normalize.less` sets `[hidden] { display: none; }` but bootstrap.min.css set `[hidden] { display: none !important; }` so we also need the `!important` here to be able to override the default hidden behavior on the sphinx rendered scikit-learn.org. See: https://github.com/scikit-learn/scikit-learn/issues/21755 */display: inline-block !important;position: relative;}#sk-container-id-8 div.sk-text-repr-fallback {display: none;}</style><div id=\"sk-container-id-8\" class=\"sk-top-container\"><div class=\"sk-text-repr-fallback\"><pre>LinearRegression()</pre><b>In a Jupyter environment, please rerun this cell to show the HTML representation or trust the notebook. <br />On GitHub, the HTML representation is unable to render, please try loading this page with nbviewer.org.</b></div><div class=\"sk-container\" hidden><div class=\"sk-item\"><div class=\"sk-estimator sk-toggleable\"><input class=\"sk-toggleable__control sk-hidden--visually\" id=\"sk-estimator-id-8\" type=\"checkbox\" checked><label for=\"sk-estimator-id-8\" class=\"sk-toggleable__label sk-toggleable__label-arrow\">LinearRegression</label><div class=\"sk-toggleable__content\"><pre>LinearRegression()</pre></div></div></div></div></div>"
            ]
          },
          "metadata": {},
          "execution_count": 113
        }
      ]
    },
    {
      "cell_type": "code",
      "source": [
        "#cari tau nilai koefisien(m) dan intercept(b)\n",
        "print('Intercept ', regr.intercept_)\n",
        "print('Coef ', regr.coef_)"
      ],
      "metadata": {
        "colab": {
          "base_uri": "https://localhost:8080/"
        },
        "id": "tVBOjcwv6tAt",
        "outputId": "278d3ce8-b74f-4447-e812-0b39dca6f52f"
      },
      "execution_count": null,
      "outputs": [
        {
          "output_type": "stream",
          "name": "stdout",
          "text": [
            "Intercept  0.741275538733579\n",
            "Coef  [-0.00168789 -0.28758273  0.14021263 -0.00298835 -0.00121037 -0.00968623\n",
            "  0.01824107  0.00468616 -0.15804279]\n"
          ]
        }
      ]
    },
    {
      "cell_type": "code",
      "source": [
        "pred = regr.predict(x_test)\n",
        "rmse = np.sqrt(metrics.mean_squared_error(np.array(y_test), pred))"
      ],
      "metadata": {
        "id": "RPRfaWox6tVH"
      },
      "execution_count": null,
      "outputs": []
    },
    {
      "cell_type": "code",
      "source": [
        "rmse"
      ],
      "metadata": {
        "colab": {
          "base_uri": "https://localhost:8080/"
        },
        "id": "eyBOhv-u6twe",
        "outputId": "432a7e85-7d58-406a-a506-33f24d60bf5d"
      },
      "execution_count": null,
      "outputs": [
        {
          "output_type": "execute_result",
          "data": {
            "text/plain": [
              "0.3708915095973105"
            ]
          },
          "metadata": {},
          "execution_count": 116
        }
      ]
    },
    {
      "cell_type": "markdown",
      "source": [
        "##Model 2"
      ],
      "metadata": {
        "id": "fgnlS1aFEhAJ"
      }
    },
    {
      "cell_type": "code",
      "source": [
        "#membuat variabel x dan y\n",
        "bebas =['tp_nyeri', 'tekanan_darah', 'kolestrol', 'guldar', 'ECG','detak_jantung', 'nyeri_aktv']\n",
        "x = df[bebas]\n",
        "y = df['heart_attack']"
      ],
      "metadata": {
        "id": "XqjRMLmnIgEB"
      },
      "execution_count": null,
      "outputs": []
    },
    {
      "cell_type": "markdown",
      "source": [
        "###90:10"
      ],
      "metadata": {
        "id": "C0aqOf9VKD9j"
      }
    },
    {
      "cell_type": "code",
      "source": [
        "#split data menjadi training dan test perbandingan menjadi 90:10\n",
        "x_train, x_test, y_train, y_test = train_test_split(x, y, test_size=0.1, random_state=100)"
      ],
      "metadata": {
        "id": "STb7eYJsKCyU"
      },
      "execution_count": null,
      "outputs": []
    },
    {
      "cell_type": "code",
      "source": [
        "#cek jumlah data yang telah di split\n",
        "print(x_train.shape)\n",
        "print(y_train.shape)\n",
        "print(x_test.shape)\n",
        "print(y_test.shape)"
      ],
      "metadata": {
        "id": "abZJs8WlKIGr",
        "colab": {
          "base_uri": "https://localhost:8080/"
        },
        "outputId": "8578f117-e2d5-4d34-b62b-c7c67ef935b6"
      },
      "execution_count": null,
      "outputs": [
        {
          "output_type": "stream",
          "name": "stdout",
          "text": [
            "(272, 7)\n",
            "(272,)\n",
            "(31, 7)\n",
            "(31,)\n"
          ]
        }
      ]
    },
    {
      "cell_type": "code",
      "source": [
        "#membuat model lonear regresi dan latih model menggunakan data training yang sudah di split\n",
        "regr = LinearRegression()\n",
        "regr.fit(x_train, y_train)"
      ],
      "metadata": {
        "id": "-PIPN7WKKJdR",
        "colab": {
          "base_uri": "https://localhost:8080/",
          "height": 75
        },
        "outputId": "ca375c3d-3a27-4c25-a07d-63e58c774ce5"
      },
      "execution_count": null,
      "outputs": [
        {
          "output_type": "execute_result",
          "data": {
            "text/plain": [
              "LinearRegression()"
            ],
            "text/html": [
              "<style>#sk-container-id-9 {color: black;background-color: white;}#sk-container-id-9 pre{padding: 0;}#sk-container-id-9 div.sk-toggleable {background-color: white;}#sk-container-id-9 label.sk-toggleable__label {cursor: pointer;display: block;width: 100%;margin-bottom: 0;padding: 0.3em;box-sizing: border-box;text-align: center;}#sk-container-id-9 label.sk-toggleable__label-arrow:before {content: \"▸\";float: left;margin-right: 0.25em;color: #696969;}#sk-container-id-9 label.sk-toggleable__label-arrow:hover:before {color: black;}#sk-container-id-9 div.sk-estimator:hover label.sk-toggleable__label-arrow:before {color: black;}#sk-container-id-9 div.sk-toggleable__content {max-height: 0;max-width: 0;overflow: hidden;text-align: left;background-color: #f0f8ff;}#sk-container-id-9 div.sk-toggleable__content pre {margin: 0.2em;color: black;border-radius: 0.25em;background-color: #f0f8ff;}#sk-container-id-9 input.sk-toggleable__control:checked~div.sk-toggleable__content {max-height: 200px;max-width: 100%;overflow: auto;}#sk-container-id-9 input.sk-toggleable__control:checked~label.sk-toggleable__label-arrow:before {content: \"▾\";}#sk-container-id-9 div.sk-estimator input.sk-toggleable__control:checked~label.sk-toggleable__label {background-color: #d4ebff;}#sk-container-id-9 div.sk-label input.sk-toggleable__control:checked~label.sk-toggleable__label {background-color: #d4ebff;}#sk-container-id-9 input.sk-hidden--visually {border: 0;clip: rect(1px 1px 1px 1px);clip: rect(1px, 1px, 1px, 1px);height: 1px;margin: -1px;overflow: hidden;padding: 0;position: absolute;width: 1px;}#sk-container-id-9 div.sk-estimator {font-family: monospace;background-color: #f0f8ff;border: 1px dotted black;border-radius: 0.25em;box-sizing: border-box;margin-bottom: 0.5em;}#sk-container-id-9 div.sk-estimator:hover {background-color: #d4ebff;}#sk-container-id-9 div.sk-parallel-item::after {content: \"\";width: 100%;border-bottom: 1px solid gray;flex-grow: 1;}#sk-container-id-9 div.sk-label:hover label.sk-toggleable__label {background-color: #d4ebff;}#sk-container-id-9 div.sk-serial::before {content: \"\";position: absolute;border-left: 1px solid gray;box-sizing: border-box;top: 0;bottom: 0;left: 50%;z-index: 0;}#sk-container-id-9 div.sk-serial {display: flex;flex-direction: column;align-items: center;background-color: white;padding-right: 0.2em;padding-left: 0.2em;position: relative;}#sk-container-id-9 div.sk-item {position: relative;z-index: 1;}#sk-container-id-9 div.sk-parallel {display: flex;align-items: stretch;justify-content: center;background-color: white;position: relative;}#sk-container-id-9 div.sk-item::before, #sk-container-id-9 div.sk-parallel-item::before {content: \"\";position: absolute;border-left: 1px solid gray;box-sizing: border-box;top: 0;bottom: 0;left: 50%;z-index: -1;}#sk-container-id-9 div.sk-parallel-item {display: flex;flex-direction: column;z-index: 1;position: relative;background-color: white;}#sk-container-id-9 div.sk-parallel-item:first-child::after {align-self: flex-end;width: 50%;}#sk-container-id-9 div.sk-parallel-item:last-child::after {align-self: flex-start;width: 50%;}#sk-container-id-9 div.sk-parallel-item:only-child::after {width: 0;}#sk-container-id-9 div.sk-dashed-wrapped {border: 1px dashed gray;margin: 0 0.4em 0.5em 0.4em;box-sizing: border-box;padding-bottom: 0.4em;background-color: white;}#sk-container-id-9 div.sk-label label {font-family: monospace;font-weight: bold;display: inline-block;line-height: 1.2em;}#sk-container-id-9 div.sk-label-container {text-align: center;}#sk-container-id-9 div.sk-container {/* jupyter's `normalize.less` sets `[hidden] { display: none; }` but bootstrap.min.css set `[hidden] { display: none !important; }` so we also need the `!important` here to be able to override the default hidden behavior on the sphinx rendered scikit-learn.org. See: https://github.com/scikit-learn/scikit-learn/issues/21755 */display: inline-block !important;position: relative;}#sk-container-id-9 div.sk-text-repr-fallback {display: none;}</style><div id=\"sk-container-id-9\" class=\"sk-top-container\"><div class=\"sk-text-repr-fallback\"><pre>LinearRegression()</pre><b>In a Jupyter environment, please rerun this cell to show the HTML representation or trust the notebook. <br />On GitHub, the HTML representation is unable to render, please try loading this page with nbviewer.org.</b></div><div class=\"sk-container\" hidden><div class=\"sk-item\"><div class=\"sk-estimator sk-toggleable\"><input class=\"sk-toggleable__control sk-hidden--visually\" id=\"sk-estimator-id-9\" type=\"checkbox\" checked><label for=\"sk-estimator-id-9\" class=\"sk-toggleable__label sk-toggleable__label-arrow\">LinearRegression</label><div class=\"sk-toggleable__content\"><pre>LinearRegression()</pre></div></div></div></div></div>"
            ]
          },
          "metadata": {},
          "execution_count": 120
        }
      ]
    },
    {
      "cell_type": "code",
      "source": [
        "#cari tau nilai koefisien(m) dan intercept(b)\n",
        "print('Intercept ', regr.intercept_)\n",
        "print('Coef ', regr.coef_)"
      ],
      "metadata": {
        "id": "rc7gTQDKKLVr",
        "colab": {
          "base_uri": "https://localhost:8080/"
        },
        "outputId": "54256b7e-d58d-401a-e306-9ee5bb99b5f5"
      },
      "execution_count": null,
      "outputs": [
        {
          "output_type": "stream",
          "name": "stdout",
          "text": [
            "Intercept  0.20367963028632585\n",
            "Coef  [ 0.1239081  -0.00311832 -0.00030824 -0.03957408  0.05739535  0.00519514\n",
            " -0.24343001]\n"
          ]
        }
      ]
    },
    {
      "cell_type": "code",
      "source": [
        "pred = regr.predict(x_test)\n",
        "rmse = np.sqrt(metrics.mean_squared_error(np.array(y_test), pred))"
      ],
      "metadata": {
        "id": "27th2bLWKNPW"
      },
      "execution_count": null,
      "outputs": []
    },
    {
      "cell_type": "code",
      "source": [
        "rmse"
      ],
      "metadata": {
        "id": "c9gFr2uQKM9G",
        "colab": {
          "base_uri": "https://localhost:8080/"
        },
        "outputId": "35b65a03-6b56-4879-d4ff-63fd91314ca8"
      },
      "execution_count": null,
      "outputs": [
        {
          "output_type": "execute_result",
          "data": {
            "text/plain": [
              "0.3586212637518141"
            ]
          },
          "metadata": {},
          "execution_count": 123
        }
      ]
    },
    {
      "cell_type": "markdown",
      "source": [
        "###80:20"
      ],
      "metadata": {
        "id": "xa3tjeXfKmnY"
      }
    },
    {
      "cell_type": "code",
      "source": [
        "#split data menjadi training dan test perbandingan menjadi 80:20\n",
        "x_train, x_test, y_train, y_test = train_test_split(x, y, test_size=0.2, random_state=100)"
      ],
      "metadata": {
        "id": "EFyqEJG5Kp4Z"
      },
      "execution_count": null,
      "outputs": []
    },
    {
      "cell_type": "code",
      "source": [
        "#cek jumlah data yang telah di split\n",
        "print(x_train.shape)\n",
        "print(y_train.shape)\n",
        "print(x_test.shape)\n",
        "print(y_test.shape)"
      ],
      "metadata": {
        "id": "B74a2YpEKptE",
        "colab": {
          "base_uri": "https://localhost:8080/"
        },
        "outputId": "603d9a49-2fde-44d5-ea57-2f6bbe553e19"
      },
      "execution_count": null,
      "outputs": [
        {
          "output_type": "stream",
          "name": "stdout",
          "text": [
            "(242, 7)\n",
            "(242,)\n",
            "(61, 7)\n",
            "(61,)\n"
          ]
        }
      ]
    },
    {
      "cell_type": "code",
      "source": [
        "#membuat model lonear regresi dan latih model menggunakan data training yang sudah di split\n",
        "regr = LinearRegression()\n",
        "regr.fit(x_train, y_train)"
      ],
      "metadata": {
        "id": "7BfL0e45KpcW",
        "colab": {
          "base_uri": "https://localhost:8080/",
          "height": 75
        },
        "outputId": "c27ed77e-539a-4784-99fa-afc3ef5cbe05"
      },
      "execution_count": null,
      "outputs": [
        {
          "output_type": "execute_result",
          "data": {
            "text/plain": [
              "LinearRegression()"
            ],
            "text/html": [
              "<style>#sk-container-id-10 {color: black;background-color: white;}#sk-container-id-10 pre{padding: 0;}#sk-container-id-10 div.sk-toggleable {background-color: white;}#sk-container-id-10 label.sk-toggleable__label {cursor: pointer;display: block;width: 100%;margin-bottom: 0;padding: 0.3em;box-sizing: border-box;text-align: center;}#sk-container-id-10 label.sk-toggleable__label-arrow:before {content: \"▸\";float: left;margin-right: 0.25em;color: #696969;}#sk-container-id-10 label.sk-toggleable__label-arrow:hover:before {color: black;}#sk-container-id-10 div.sk-estimator:hover label.sk-toggleable__label-arrow:before {color: black;}#sk-container-id-10 div.sk-toggleable__content {max-height: 0;max-width: 0;overflow: hidden;text-align: left;background-color: #f0f8ff;}#sk-container-id-10 div.sk-toggleable__content pre {margin: 0.2em;color: black;border-radius: 0.25em;background-color: #f0f8ff;}#sk-container-id-10 input.sk-toggleable__control:checked~div.sk-toggleable__content {max-height: 200px;max-width: 100%;overflow: auto;}#sk-container-id-10 input.sk-toggleable__control:checked~label.sk-toggleable__label-arrow:before {content: \"▾\";}#sk-container-id-10 div.sk-estimator input.sk-toggleable__control:checked~label.sk-toggleable__label {background-color: #d4ebff;}#sk-container-id-10 div.sk-label input.sk-toggleable__control:checked~label.sk-toggleable__label {background-color: #d4ebff;}#sk-container-id-10 input.sk-hidden--visually {border: 0;clip: rect(1px 1px 1px 1px);clip: rect(1px, 1px, 1px, 1px);height: 1px;margin: -1px;overflow: hidden;padding: 0;position: absolute;width: 1px;}#sk-container-id-10 div.sk-estimator {font-family: monospace;background-color: #f0f8ff;border: 1px dotted black;border-radius: 0.25em;box-sizing: border-box;margin-bottom: 0.5em;}#sk-container-id-10 div.sk-estimator:hover {background-color: #d4ebff;}#sk-container-id-10 div.sk-parallel-item::after {content: \"\";width: 100%;border-bottom: 1px solid gray;flex-grow: 1;}#sk-container-id-10 div.sk-label:hover label.sk-toggleable__label {background-color: #d4ebff;}#sk-container-id-10 div.sk-serial::before {content: \"\";position: absolute;border-left: 1px solid gray;box-sizing: border-box;top: 0;bottom: 0;left: 50%;z-index: 0;}#sk-container-id-10 div.sk-serial {display: flex;flex-direction: column;align-items: center;background-color: white;padding-right: 0.2em;padding-left: 0.2em;position: relative;}#sk-container-id-10 div.sk-item {position: relative;z-index: 1;}#sk-container-id-10 div.sk-parallel {display: flex;align-items: stretch;justify-content: center;background-color: white;position: relative;}#sk-container-id-10 div.sk-item::before, #sk-container-id-10 div.sk-parallel-item::before {content: \"\";position: absolute;border-left: 1px solid gray;box-sizing: border-box;top: 0;bottom: 0;left: 50%;z-index: -1;}#sk-container-id-10 div.sk-parallel-item {display: flex;flex-direction: column;z-index: 1;position: relative;background-color: white;}#sk-container-id-10 div.sk-parallel-item:first-child::after {align-self: flex-end;width: 50%;}#sk-container-id-10 div.sk-parallel-item:last-child::after {align-self: flex-start;width: 50%;}#sk-container-id-10 div.sk-parallel-item:only-child::after {width: 0;}#sk-container-id-10 div.sk-dashed-wrapped {border: 1px dashed gray;margin: 0 0.4em 0.5em 0.4em;box-sizing: border-box;padding-bottom: 0.4em;background-color: white;}#sk-container-id-10 div.sk-label label {font-family: monospace;font-weight: bold;display: inline-block;line-height: 1.2em;}#sk-container-id-10 div.sk-label-container {text-align: center;}#sk-container-id-10 div.sk-container {/* jupyter's `normalize.less` sets `[hidden] { display: none; }` but bootstrap.min.css set `[hidden] { display: none !important; }` so we also need the `!important` here to be able to override the default hidden behavior on the sphinx rendered scikit-learn.org. See: https://github.com/scikit-learn/scikit-learn/issues/21755 */display: inline-block !important;position: relative;}#sk-container-id-10 div.sk-text-repr-fallback {display: none;}</style><div id=\"sk-container-id-10\" class=\"sk-top-container\"><div class=\"sk-text-repr-fallback\"><pre>LinearRegression()</pre><b>In a Jupyter environment, please rerun this cell to show the HTML representation or trust the notebook. <br />On GitHub, the HTML representation is unable to render, please try loading this page with nbviewer.org.</b></div><div class=\"sk-container\" hidden><div class=\"sk-item\"><div class=\"sk-estimator sk-toggleable\"><input class=\"sk-toggleable__control sk-hidden--visually\" id=\"sk-estimator-id-10\" type=\"checkbox\" checked><label for=\"sk-estimator-id-10\" class=\"sk-toggleable__label sk-toggleable__label-arrow\">LinearRegression</label><div class=\"sk-toggleable__content\"><pre>LinearRegression()</pre></div></div></div></div></div>"
            ]
          },
          "metadata": {},
          "execution_count": 126
        }
      ]
    },
    {
      "cell_type": "code",
      "source": [
        "#cari tau nilai koefisien(m) dan intercept(b)\n",
        "print('Intercept ', regr.intercept_)\n",
        "print('Coef ', regr.coef_)"
      ],
      "metadata": {
        "id": "WaIvB6ztKrtH",
        "colab": {
          "base_uri": "https://localhost:8080/"
        },
        "outputId": "d1d62be3-5b5c-478a-bc27-3f379676b6c6"
      },
      "execution_count": null,
      "outputs": [
        {
          "output_type": "stream",
          "name": "stdout",
          "text": [
            "Intercept  0.30378599878612933\n",
            "Coef  [ 0.12344191 -0.00321433 -0.00048041 -0.06791909  0.048932    0.0049008\n",
            " -0.22469949]\n"
          ]
        }
      ]
    },
    {
      "cell_type": "code",
      "source": [
        "pred = regr.predict(x_test)\n",
        "rmse = np.sqrt(metrics.mean_squared_error(np.array(y_test), pred))"
      ],
      "metadata": {
        "id": "BVi_-OI2Krm8"
      },
      "execution_count": null,
      "outputs": []
    },
    {
      "cell_type": "code",
      "source": [
        "rmse"
      ],
      "metadata": {
        "id": "LvXKvP5_Krfc",
        "colab": {
          "base_uri": "https://localhost:8080/"
        },
        "outputId": "739ddf8d-6fac-4220-bd95-dfe851bd8eb1"
      },
      "execution_count": null,
      "outputs": [
        {
          "output_type": "execute_result",
          "data": {
            "text/plain": [
              "0.339405118509681"
            ]
          },
          "metadata": {},
          "execution_count": 129
        }
      ]
    },
    {
      "cell_type": "markdown",
      "source": [
        "###70:30"
      ],
      "metadata": {
        "id": "WKcYo82gKsLi"
      }
    },
    {
      "cell_type": "code",
      "source": [
        "#split data menjadi training dan test perbandingan menjadi 70:30\n",
        "x_train, x_test, y_train, y_test = train_test_split(x, y, test_size=0.3, random_state=100)"
      ],
      "metadata": {
        "id": "0sgk70EKKt1g"
      },
      "execution_count": null,
      "outputs": []
    },
    {
      "cell_type": "code",
      "source": [
        "#cek jumlah data yang telah di split\n",
        "print(x_train.shape)\n",
        "print(y_train.shape)\n",
        "print(x_test.shape)\n",
        "print(y_test.shape)"
      ],
      "metadata": {
        "id": "vr49IV-xKu12",
        "colab": {
          "base_uri": "https://localhost:8080/"
        },
        "outputId": "6e0dea3c-082c-4435-cee9-4ec22664d3e0"
      },
      "execution_count": null,
      "outputs": [
        {
          "output_type": "stream",
          "name": "stdout",
          "text": [
            "(212, 7)\n",
            "(212,)\n",
            "(91, 7)\n",
            "(91,)\n"
          ]
        }
      ]
    },
    {
      "cell_type": "code",
      "source": [
        "#membuat model lonear regresi dan latih model menggunakan data training yang sudah di split\n",
        "regr = LinearRegression()\n",
        "regr.fit(x_train, y_train)"
      ],
      "metadata": {
        "id": "0Qcbz2V7KuvB",
        "colab": {
          "base_uri": "https://localhost:8080/",
          "height": 75
        },
        "outputId": "eff4ce9b-003d-47bd-9911-e5b422cd9004"
      },
      "execution_count": null,
      "outputs": [
        {
          "output_type": "execute_result",
          "data": {
            "text/plain": [
              "LinearRegression()"
            ],
            "text/html": [
              "<style>#sk-container-id-11 {color: black;background-color: white;}#sk-container-id-11 pre{padding: 0;}#sk-container-id-11 div.sk-toggleable {background-color: white;}#sk-container-id-11 label.sk-toggleable__label {cursor: pointer;display: block;width: 100%;margin-bottom: 0;padding: 0.3em;box-sizing: border-box;text-align: center;}#sk-container-id-11 label.sk-toggleable__label-arrow:before {content: \"▸\";float: left;margin-right: 0.25em;color: #696969;}#sk-container-id-11 label.sk-toggleable__label-arrow:hover:before {color: black;}#sk-container-id-11 div.sk-estimator:hover label.sk-toggleable__label-arrow:before {color: black;}#sk-container-id-11 div.sk-toggleable__content {max-height: 0;max-width: 0;overflow: hidden;text-align: left;background-color: #f0f8ff;}#sk-container-id-11 div.sk-toggleable__content pre {margin: 0.2em;color: black;border-radius: 0.25em;background-color: #f0f8ff;}#sk-container-id-11 input.sk-toggleable__control:checked~div.sk-toggleable__content {max-height: 200px;max-width: 100%;overflow: auto;}#sk-container-id-11 input.sk-toggleable__control:checked~label.sk-toggleable__label-arrow:before {content: \"▾\";}#sk-container-id-11 div.sk-estimator input.sk-toggleable__control:checked~label.sk-toggleable__label {background-color: #d4ebff;}#sk-container-id-11 div.sk-label input.sk-toggleable__control:checked~label.sk-toggleable__label {background-color: #d4ebff;}#sk-container-id-11 input.sk-hidden--visually {border: 0;clip: rect(1px 1px 1px 1px);clip: rect(1px, 1px, 1px, 1px);height: 1px;margin: -1px;overflow: hidden;padding: 0;position: absolute;width: 1px;}#sk-container-id-11 div.sk-estimator {font-family: monospace;background-color: #f0f8ff;border: 1px dotted black;border-radius: 0.25em;box-sizing: border-box;margin-bottom: 0.5em;}#sk-container-id-11 div.sk-estimator:hover {background-color: #d4ebff;}#sk-container-id-11 div.sk-parallel-item::after {content: \"\";width: 100%;border-bottom: 1px solid gray;flex-grow: 1;}#sk-container-id-11 div.sk-label:hover label.sk-toggleable__label {background-color: #d4ebff;}#sk-container-id-11 div.sk-serial::before {content: \"\";position: absolute;border-left: 1px solid gray;box-sizing: border-box;top: 0;bottom: 0;left: 50%;z-index: 0;}#sk-container-id-11 div.sk-serial {display: flex;flex-direction: column;align-items: center;background-color: white;padding-right: 0.2em;padding-left: 0.2em;position: relative;}#sk-container-id-11 div.sk-item {position: relative;z-index: 1;}#sk-container-id-11 div.sk-parallel {display: flex;align-items: stretch;justify-content: center;background-color: white;position: relative;}#sk-container-id-11 div.sk-item::before, #sk-container-id-11 div.sk-parallel-item::before {content: \"\";position: absolute;border-left: 1px solid gray;box-sizing: border-box;top: 0;bottom: 0;left: 50%;z-index: -1;}#sk-container-id-11 div.sk-parallel-item {display: flex;flex-direction: column;z-index: 1;position: relative;background-color: white;}#sk-container-id-11 div.sk-parallel-item:first-child::after {align-self: flex-end;width: 50%;}#sk-container-id-11 div.sk-parallel-item:last-child::after {align-self: flex-start;width: 50%;}#sk-container-id-11 div.sk-parallel-item:only-child::after {width: 0;}#sk-container-id-11 div.sk-dashed-wrapped {border: 1px dashed gray;margin: 0 0.4em 0.5em 0.4em;box-sizing: border-box;padding-bottom: 0.4em;background-color: white;}#sk-container-id-11 div.sk-label label {font-family: monospace;font-weight: bold;display: inline-block;line-height: 1.2em;}#sk-container-id-11 div.sk-label-container {text-align: center;}#sk-container-id-11 div.sk-container {/* jupyter's `normalize.less` sets `[hidden] { display: none; }` but bootstrap.min.css set `[hidden] { display: none !important; }` so we also need the `!important` here to be able to override the default hidden behavior on the sphinx rendered scikit-learn.org. See: https://github.com/scikit-learn/scikit-learn/issues/21755 */display: inline-block !important;position: relative;}#sk-container-id-11 div.sk-text-repr-fallback {display: none;}</style><div id=\"sk-container-id-11\" class=\"sk-top-container\"><div class=\"sk-text-repr-fallback\"><pre>LinearRegression()</pre><b>In a Jupyter environment, please rerun this cell to show the HTML representation or trust the notebook. <br />On GitHub, the HTML representation is unable to render, please try loading this page with nbviewer.org.</b></div><div class=\"sk-container\" hidden><div class=\"sk-item\"><div class=\"sk-estimator sk-toggleable\"><input class=\"sk-toggleable__control sk-hidden--visually\" id=\"sk-estimator-id-11\" type=\"checkbox\" checked><label for=\"sk-estimator-id-11\" class=\"sk-toggleable__label sk-toggleable__label-arrow\">LinearRegression</label><div class=\"sk-toggleable__content\"><pre>LinearRegression()</pre></div></div></div></div></div>"
            ]
          },
          "metadata": {},
          "execution_count": 132
        }
      ]
    },
    {
      "cell_type": "code",
      "source": [
        "#cari tau nilai koefisien(m) dan intercept(b)\n",
        "print('Intercept ', regr.intercept_)\n",
        "print('Coef ', regr.coef_)"
      ],
      "metadata": {
        "id": "58phAfo0KunU",
        "colab": {
          "base_uri": "https://localhost:8080/"
        },
        "outputId": "8b909375-6364-43e7-fb2b-9c37cbed7c1a"
      },
      "execution_count": null,
      "outputs": [
        {
          "output_type": "stream",
          "name": "stdout",
          "text": [
            "Intercept  0.29095379347433625\n",
            "Coef  [ 0.11954297 -0.00339529 -0.00026743 -0.08514094  0.0380434   0.00481662\n",
            " -0.20484245]\n"
          ]
        }
      ]
    },
    {
      "cell_type": "code",
      "source": [
        "pred = regr.predict(x_test)\n",
        "rmse = np.sqrt(metrics.mean_squared_error(np.array(y_test), pred))"
      ],
      "metadata": {
        "id": "mIutP-B2Kuem"
      },
      "execution_count": null,
      "outputs": []
    },
    {
      "cell_type": "code",
      "source": [
        "rmse"
      ],
      "metadata": {
        "id": "VQQk-BYmKuA4",
        "colab": {
          "base_uri": "https://localhost:8080/"
        },
        "outputId": "92b41a3f-9469-463d-a074-0c4dccf80f82"
      },
      "execution_count": null,
      "outputs": [
        {
          "output_type": "execute_result",
          "data": {
            "text/plain": [
              "0.34562201005740967"
            ]
          },
          "metadata": {},
          "execution_count": 135
        }
      ]
    },
    {
      "cell_type": "markdown",
      "source": [
        "###60:40"
      ],
      "metadata": {
        "id": "jiFkr8eZK46A"
      }
    },
    {
      "cell_type": "code",
      "source": [
        "#split data menjadi training dan test perbandingan menjadi 60:40\n",
        "x_train, x_test, y_train, y_test = train_test_split(x, y, test_size=0.4, random_state=100)"
      ],
      "metadata": {
        "id": "cdYBe5Q1K6ri"
      },
      "execution_count": null,
      "outputs": []
    },
    {
      "cell_type": "code",
      "source": [
        "#cek jumlah data yang telah di split\n",
        "print(x_train.shape)\n",
        "print(y_train.shape)\n",
        "print(x_test.shape)\n",
        "print(y_test.shape)"
      ],
      "metadata": {
        "id": "5eqaBDwWK7X_",
        "colab": {
          "base_uri": "https://localhost:8080/"
        },
        "outputId": "49c43e67-443b-4028-d532-4e4ba3716ac0"
      },
      "execution_count": null,
      "outputs": [
        {
          "output_type": "stream",
          "name": "stdout",
          "text": [
            "(181, 7)\n",
            "(181,)\n",
            "(122, 7)\n",
            "(122,)\n"
          ]
        }
      ]
    },
    {
      "cell_type": "code",
      "source": [
        "#membuat model lonear regresi dan latih model menggunakan data training yang sudah di split\n",
        "regr = LinearRegression()\n",
        "regr.fit(x_train, y_train)"
      ],
      "metadata": {
        "id": "fDfLnjvqK7RU",
        "colab": {
          "base_uri": "https://localhost:8080/",
          "height": 75
        },
        "outputId": "00ed0bf2-992f-4a27-ec37-7f1ad1f33072"
      },
      "execution_count": null,
      "outputs": [
        {
          "output_type": "execute_result",
          "data": {
            "text/plain": [
              "LinearRegression()"
            ],
            "text/html": [
              "<style>#sk-container-id-12 {color: black;background-color: white;}#sk-container-id-12 pre{padding: 0;}#sk-container-id-12 div.sk-toggleable {background-color: white;}#sk-container-id-12 label.sk-toggleable__label {cursor: pointer;display: block;width: 100%;margin-bottom: 0;padding: 0.3em;box-sizing: border-box;text-align: center;}#sk-container-id-12 label.sk-toggleable__label-arrow:before {content: \"▸\";float: left;margin-right: 0.25em;color: #696969;}#sk-container-id-12 label.sk-toggleable__label-arrow:hover:before {color: black;}#sk-container-id-12 div.sk-estimator:hover label.sk-toggleable__label-arrow:before {color: black;}#sk-container-id-12 div.sk-toggleable__content {max-height: 0;max-width: 0;overflow: hidden;text-align: left;background-color: #f0f8ff;}#sk-container-id-12 div.sk-toggleable__content pre {margin: 0.2em;color: black;border-radius: 0.25em;background-color: #f0f8ff;}#sk-container-id-12 input.sk-toggleable__control:checked~div.sk-toggleable__content {max-height: 200px;max-width: 100%;overflow: auto;}#sk-container-id-12 input.sk-toggleable__control:checked~label.sk-toggleable__label-arrow:before {content: \"▾\";}#sk-container-id-12 div.sk-estimator input.sk-toggleable__control:checked~label.sk-toggleable__label {background-color: #d4ebff;}#sk-container-id-12 div.sk-label input.sk-toggleable__control:checked~label.sk-toggleable__label {background-color: #d4ebff;}#sk-container-id-12 input.sk-hidden--visually {border: 0;clip: rect(1px 1px 1px 1px);clip: rect(1px, 1px, 1px, 1px);height: 1px;margin: -1px;overflow: hidden;padding: 0;position: absolute;width: 1px;}#sk-container-id-12 div.sk-estimator {font-family: monospace;background-color: #f0f8ff;border: 1px dotted black;border-radius: 0.25em;box-sizing: border-box;margin-bottom: 0.5em;}#sk-container-id-12 div.sk-estimator:hover {background-color: #d4ebff;}#sk-container-id-12 div.sk-parallel-item::after {content: \"\";width: 100%;border-bottom: 1px solid gray;flex-grow: 1;}#sk-container-id-12 div.sk-label:hover label.sk-toggleable__label {background-color: #d4ebff;}#sk-container-id-12 div.sk-serial::before {content: \"\";position: absolute;border-left: 1px solid gray;box-sizing: border-box;top: 0;bottom: 0;left: 50%;z-index: 0;}#sk-container-id-12 div.sk-serial {display: flex;flex-direction: column;align-items: center;background-color: white;padding-right: 0.2em;padding-left: 0.2em;position: relative;}#sk-container-id-12 div.sk-item {position: relative;z-index: 1;}#sk-container-id-12 div.sk-parallel {display: flex;align-items: stretch;justify-content: center;background-color: white;position: relative;}#sk-container-id-12 div.sk-item::before, #sk-container-id-12 div.sk-parallel-item::before {content: \"\";position: absolute;border-left: 1px solid gray;box-sizing: border-box;top: 0;bottom: 0;left: 50%;z-index: -1;}#sk-container-id-12 div.sk-parallel-item {display: flex;flex-direction: column;z-index: 1;position: relative;background-color: white;}#sk-container-id-12 div.sk-parallel-item:first-child::after {align-self: flex-end;width: 50%;}#sk-container-id-12 div.sk-parallel-item:last-child::after {align-self: flex-start;width: 50%;}#sk-container-id-12 div.sk-parallel-item:only-child::after {width: 0;}#sk-container-id-12 div.sk-dashed-wrapped {border: 1px dashed gray;margin: 0 0.4em 0.5em 0.4em;box-sizing: border-box;padding-bottom: 0.4em;background-color: white;}#sk-container-id-12 div.sk-label label {font-family: monospace;font-weight: bold;display: inline-block;line-height: 1.2em;}#sk-container-id-12 div.sk-label-container {text-align: center;}#sk-container-id-12 div.sk-container {/* jupyter's `normalize.less` sets `[hidden] { display: none; }` but bootstrap.min.css set `[hidden] { display: none !important; }` so we also need the `!important` here to be able to override the default hidden behavior on the sphinx rendered scikit-learn.org. See: https://github.com/scikit-learn/scikit-learn/issues/21755 */display: inline-block !important;position: relative;}#sk-container-id-12 div.sk-text-repr-fallback {display: none;}</style><div id=\"sk-container-id-12\" class=\"sk-top-container\"><div class=\"sk-text-repr-fallback\"><pre>LinearRegression()</pre><b>In a Jupyter environment, please rerun this cell to show the HTML representation or trust the notebook. <br />On GitHub, the HTML representation is unable to render, please try loading this page with nbviewer.org.</b></div><div class=\"sk-container\" hidden><div class=\"sk-item\"><div class=\"sk-estimator sk-toggleable\"><input class=\"sk-toggleable__control sk-hidden--visually\" id=\"sk-estimator-id-12\" type=\"checkbox\" checked><label for=\"sk-estimator-id-12\" class=\"sk-toggleable__label sk-toggleable__label-arrow\">LinearRegression</label><div class=\"sk-toggleable__content\"><pre>LinearRegression()</pre></div></div></div></div></div>"
            ]
          },
          "metadata": {},
          "execution_count": 138
        }
      ]
    },
    {
      "cell_type": "code",
      "source": [
        "#cari tau nilai koefisien(m) dan intercept(b)\n",
        "print('Intercept ', regr.intercept_)\n",
        "print('Coef ', regr.coef_)"
      ],
      "metadata": {
        "id": "J-xTc8U3K7Ks",
        "colab": {
          "base_uri": "https://localhost:8080/"
        },
        "outputId": "98dcf2c9-98db-4370-e10b-d07938d77754"
      },
      "execution_count": null,
      "outputs": [
        {
          "output_type": "stream",
          "name": "stdout",
          "text": [
            "Intercept  0.3997793807094218\n",
            "Coef  [ 0.14246443 -0.00335645 -0.00085    -0.0169183   0.03568215  0.00486224\n",
            " -0.20584466]\n"
          ]
        }
      ]
    },
    {
      "cell_type": "code",
      "source": [
        "pred = regr.predict(x_test)\n",
        "rmse = np.sqrt(metrics.mean_squared_error(np.array(y_test), pred))"
      ],
      "metadata": {
        "id": "fPZOsZ8DK7D2"
      },
      "execution_count": null,
      "outputs": []
    },
    {
      "cell_type": "code",
      "source": [
        "rmse"
      ],
      "metadata": {
        "id": "W7BXDVIWK67R",
        "colab": {
          "base_uri": "https://localhost:8080/"
        },
        "outputId": "1b2f65d4-6cdc-4d38-dc08-cbcd4c726ec7"
      },
      "execution_count": null,
      "outputs": [
        {
          "output_type": "execute_result",
          "data": {
            "text/plain": [
              "0.38707851270888133"
            ]
          },
          "metadata": {},
          "execution_count": 141
        }
      ]
    },
    {
      "cell_type": "markdown",
      "source": [
        "##Model 3"
      ],
      "metadata": {
        "id": "rv3C_d6vEm00"
      }
    },
    {
      "cell_type": "code",
      "source": [
        "#membuat variabel x dan y\n",
        "bebas =['tekanan_darah', 'kolestrol', 'guldar', 'ECG','detak_jantung']\n",
        "x = df[bebas]\n",
        "y = df['heart_attack']"
      ],
      "metadata": {
        "id": "KgmTF3naJB2d"
      },
      "execution_count": null,
      "outputs": []
    },
    {
      "cell_type": "markdown",
      "source": [
        "###90:10"
      ],
      "metadata": {
        "id": "atDVdoBINIfa"
      }
    },
    {
      "cell_type": "code",
      "source": [
        "#split data menjadi training dan test perbandingan menjadi 90:10\n",
        "x_train, x_test, y_train, y_test = train_test_split(x, y, test_size=0.1, random_state=100)"
      ],
      "metadata": {
        "id": "RGUkmHnyNMVQ"
      },
      "execution_count": null,
      "outputs": []
    },
    {
      "cell_type": "code",
      "source": [
        "#cek jumlah data yang telah di split\n",
        "print(x_train.shape)\n",
        "print(y_train.shape)\n",
        "print(x_test.shape)\n",
        "print(y_test.shape)"
      ],
      "metadata": {
        "id": "52zEv3XRNt1W",
        "colab": {
          "base_uri": "https://localhost:8080/"
        },
        "outputId": "8417b177-7e09-4b5a-c2d0-a9aa3fa41232"
      },
      "execution_count": null,
      "outputs": [
        {
          "output_type": "stream",
          "name": "stdout",
          "text": [
            "(272, 5)\n",
            "(272,)\n",
            "(31, 5)\n",
            "(31,)\n"
          ]
        }
      ]
    },
    {
      "cell_type": "code",
      "source": [
        "#membuat model lonear regresi dan latih model menggunakan data training yang sudah di split\n",
        "regr = LinearRegression()\n",
        "regr.fit(x_train, y_train)"
      ],
      "metadata": {
        "id": "ZaI_-TVvNu_E",
        "colab": {
          "base_uri": "https://localhost:8080/",
          "height": 75
        },
        "outputId": "ee1d88b2-5dc1-4a70-eb68-a1543b9dfcab"
      },
      "execution_count": null,
      "outputs": [
        {
          "output_type": "execute_result",
          "data": {
            "text/plain": [
              "LinearRegression()"
            ],
            "text/html": [
              "<style>#sk-container-id-13 {color: black;background-color: white;}#sk-container-id-13 pre{padding: 0;}#sk-container-id-13 div.sk-toggleable {background-color: white;}#sk-container-id-13 label.sk-toggleable__label {cursor: pointer;display: block;width: 100%;margin-bottom: 0;padding: 0.3em;box-sizing: border-box;text-align: center;}#sk-container-id-13 label.sk-toggleable__label-arrow:before {content: \"▸\";float: left;margin-right: 0.25em;color: #696969;}#sk-container-id-13 label.sk-toggleable__label-arrow:hover:before {color: black;}#sk-container-id-13 div.sk-estimator:hover label.sk-toggleable__label-arrow:before {color: black;}#sk-container-id-13 div.sk-toggleable__content {max-height: 0;max-width: 0;overflow: hidden;text-align: left;background-color: #f0f8ff;}#sk-container-id-13 div.sk-toggleable__content pre {margin: 0.2em;color: black;border-radius: 0.25em;background-color: #f0f8ff;}#sk-container-id-13 input.sk-toggleable__control:checked~div.sk-toggleable__content {max-height: 200px;max-width: 100%;overflow: auto;}#sk-container-id-13 input.sk-toggleable__control:checked~label.sk-toggleable__label-arrow:before {content: \"▾\";}#sk-container-id-13 div.sk-estimator input.sk-toggleable__control:checked~label.sk-toggleable__label {background-color: #d4ebff;}#sk-container-id-13 div.sk-label input.sk-toggleable__control:checked~label.sk-toggleable__label {background-color: #d4ebff;}#sk-container-id-13 input.sk-hidden--visually {border: 0;clip: rect(1px 1px 1px 1px);clip: rect(1px, 1px, 1px, 1px);height: 1px;margin: -1px;overflow: hidden;padding: 0;position: absolute;width: 1px;}#sk-container-id-13 div.sk-estimator {font-family: monospace;background-color: #f0f8ff;border: 1px dotted black;border-radius: 0.25em;box-sizing: border-box;margin-bottom: 0.5em;}#sk-container-id-13 div.sk-estimator:hover {background-color: #d4ebff;}#sk-container-id-13 div.sk-parallel-item::after {content: \"\";width: 100%;border-bottom: 1px solid gray;flex-grow: 1;}#sk-container-id-13 div.sk-label:hover label.sk-toggleable__label {background-color: #d4ebff;}#sk-container-id-13 div.sk-serial::before {content: \"\";position: absolute;border-left: 1px solid gray;box-sizing: border-box;top: 0;bottom: 0;left: 50%;z-index: 0;}#sk-container-id-13 div.sk-serial {display: flex;flex-direction: column;align-items: center;background-color: white;padding-right: 0.2em;padding-left: 0.2em;position: relative;}#sk-container-id-13 div.sk-item {position: relative;z-index: 1;}#sk-container-id-13 div.sk-parallel {display: flex;align-items: stretch;justify-content: center;background-color: white;position: relative;}#sk-container-id-13 div.sk-item::before, #sk-container-id-13 div.sk-parallel-item::before {content: \"\";position: absolute;border-left: 1px solid gray;box-sizing: border-box;top: 0;bottom: 0;left: 50%;z-index: -1;}#sk-container-id-13 div.sk-parallel-item {display: flex;flex-direction: column;z-index: 1;position: relative;background-color: white;}#sk-container-id-13 div.sk-parallel-item:first-child::after {align-self: flex-end;width: 50%;}#sk-container-id-13 div.sk-parallel-item:last-child::after {align-self: flex-start;width: 50%;}#sk-container-id-13 div.sk-parallel-item:only-child::after {width: 0;}#sk-container-id-13 div.sk-dashed-wrapped {border: 1px dashed gray;margin: 0 0.4em 0.5em 0.4em;box-sizing: border-box;padding-bottom: 0.4em;background-color: white;}#sk-container-id-13 div.sk-label label {font-family: monospace;font-weight: bold;display: inline-block;line-height: 1.2em;}#sk-container-id-13 div.sk-label-container {text-align: center;}#sk-container-id-13 div.sk-container {/* jupyter's `normalize.less` sets `[hidden] { display: none; }` but bootstrap.min.css set `[hidden] { display: none !important; }` so we also need the `!important` here to be able to override the default hidden behavior on the sphinx rendered scikit-learn.org. See: https://github.com/scikit-learn/scikit-learn/issues/21755 */display: inline-block !important;position: relative;}#sk-container-id-13 div.sk-text-repr-fallback {display: none;}</style><div id=\"sk-container-id-13\" class=\"sk-top-container\"><div class=\"sk-text-repr-fallback\"><pre>LinearRegression()</pre><b>In a Jupyter environment, please rerun this cell to show the HTML representation or trust the notebook. <br />On GitHub, the HTML representation is unable to render, please try loading this page with nbviewer.org.</b></div><div class=\"sk-container\" hidden><div class=\"sk-item\"><div class=\"sk-estimator sk-toggleable\"><input class=\"sk-toggleable__control sk-hidden--visually\" id=\"sk-estimator-id-13\" type=\"checkbox\" checked><label for=\"sk-estimator-id-13\" class=\"sk-toggleable__label sk-toggleable__label-arrow\">LinearRegression</label><div class=\"sk-toggleable__content\"><pre>LinearRegression()</pre></div></div></div></div></div>"
            ]
          },
          "metadata": {},
          "execution_count": 145
        }
      ]
    },
    {
      "cell_type": "code",
      "source": [
        "#cari tau nilai koefisien(m) dan intercept(b)\n",
        "print('Intercept ', regr.intercept_)\n",
        "print('Coef ', regr.coef_)"
      ],
      "metadata": {
        "id": "ifNLYPhENzwv",
        "colab": {
          "base_uri": "https://localhost:8080/"
        },
        "outputId": "d33b90c8-7b1a-4dab-c17f-00a97ed160a2"
      },
      "execution_count": null,
      "outputs": [
        {
          "output_type": "stream",
          "name": "stdout",
          "text": [
            "Intercept  -0.2093740604575557\n",
            "Coef  [-0.00294412 -0.00060462  0.00516152  0.06867867  0.00850673]\n"
          ]
        }
      ]
    },
    {
      "cell_type": "code",
      "source": [
        "pred = regr.predict(x_test)\n",
        "rmse = np.sqrt(metrics.mean_squared_error(np.array(y_test), pred))"
      ],
      "metadata": {
        "id": "Qm1xl99NN620"
      },
      "execution_count": null,
      "outputs": []
    },
    {
      "cell_type": "code",
      "source": [
        "rmse"
      ],
      "metadata": {
        "id": "YTEZKABWOGLL",
        "colab": {
          "base_uri": "https://localhost:8080/"
        },
        "outputId": "9ea5a08e-b49e-4a2a-87b0-23883fa52961"
      },
      "execution_count": null,
      "outputs": [
        {
          "output_type": "execute_result",
          "data": {
            "text/plain": [
              "0.41467351374531375"
            ]
          },
          "metadata": {},
          "execution_count": 148
        }
      ]
    },
    {
      "cell_type": "markdown",
      "source": [
        "###80:20"
      ],
      "metadata": {
        "id": "ZN9-aSczOJNe"
      }
    },
    {
      "cell_type": "code",
      "source": [
        "#split data menjadi training dan test perbandingan menjadi 80:20\n",
        "x_train, x_test, y_train, y_test = train_test_split(x, y, test_size=0.2, random_state=100)"
      ],
      "metadata": {
        "id": "LfGdkuboOSXe"
      },
      "execution_count": null,
      "outputs": []
    },
    {
      "cell_type": "code",
      "source": [
        "#cek jumlah data yang telah di split\n",
        "print(x_train.shape)\n",
        "print(y_train.shape)\n",
        "print(x_test.shape)\n",
        "print(y_test.shape)"
      ],
      "metadata": {
        "id": "r4uynF0eOTAh",
        "colab": {
          "base_uri": "https://localhost:8080/"
        },
        "outputId": "26efbee4-e8c5-4bb2-a3e9-70be3551eecd"
      },
      "execution_count": null,
      "outputs": [
        {
          "output_type": "stream",
          "name": "stdout",
          "text": [
            "(242, 5)\n",
            "(242,)\n",
            "(61, 5)\n",
            "(61,)\n"
          ]
        }
      ]
    },
    {
      "cell_type": "code",
      "source": [
        "#membuat model lonear regresi dan latih model menggunakan data training yang sudah di split\n",
        "regr = LinearRegression()\n",
        "regr.fit(x_train, y_train)"
      ],
      "metadata": {
        "id": "GJPtmdXgOdCk",
        "colab": {
          "base_uri": "https://localhost:8080/",
          "height": 75
        },
        "outputId": "47bcb8d5-8b74-46a9-8e1f-4f74e245915a"
      },
      "execution_count": null,
      "outputs": [
        {
          "output_type": "execute_result",
          "data": {
            "text/plain": [
              "LinearRegression()"
            ],
            "text/html": [
              "<style>#sk-container-id-14 {color: black;background-color: white;}#sk-container-id-14 pre{padding: 0;}#sk-container-id-14 div.sk-toggleable {background-color: white;}#sk-container-id-14 label.sk-toggleable__label {cursor: pointer;display: block;width: 100%;margin-bottom: 0;padding: 0.3em;box-sizing: border-box;text-align: center;}#sk-container-id-14 label.sk-toggleable__label-arrow:before {content: \"▸\";float: left;margin-right: 0.25em;color: #696969;}#sk-container-id-14 label.sk-toggleable__label-arrow:hover:before {color: black;}#sk-container-id-14 div.sk-estimator:hover label.sk-toggleable__label-arrow:before {color: black;}#sk-container-id-14 div.sk-toggleable__content {max-height: 0;max-width: 0;overflow: hidden;text-align: left;background-color: #f0f8ff;}#sk-container-id-14 div.sk-toggleable__content pre {margin: 0.2em;color: black;border-radius: 0.25em;background-color: #f0f8ff;}#sk-container-id-14 input.sk-toggleable__control:checked~div.sk-toggleable__content {max-height: 200px;max-width: 100%;overflow: auto;}#sk-container-id-14 input.sk-toggleable__control:checked~label.sk-toggleable__label-arrow:before {content: \"▾\";}#sk-container-id-14 div.sk-estimator input.sk-toggleable__control:checked~label.sk-toggleable__label {background-color: #d4ebff;}#sk-container-id-14 div.sk-label input.sk-toggleable__control:checked~label.sk-toggleable__label {background-color: #d4ebff;}#sk-container-id-14 input.sk-hidden--visually {border: 0;clip: rect(1px 1px 1px 1px);clip: rect(1px, 1px, 1px, 1px);height: 1px;margin: -1px;overflow: hidden;padding: 0;position: absolute;width: 1px;}#sk-container-id-14 div.sk-estimator {font-family: monospace;background-color: #f0f8ff;border: 1px dotted black;border-radius: 0.25em;box-sizing: border-box;margin-bottom: 0.5em;}#sk-container-id-14 div.sk-estimator:hover {background-color: #d4ebff;}#sk-container-id-14 div.sk-parallel-item::after {content: \"\";width: 100%;border-bottom: 1px solid gray;flex-grow: 1;}#sk-container-id-14 div.sk-label:hover label.sk-toggleable__label {background-color: #d4ebff;}#sk-container-id-14 div.sk-serial::before {content: \"\";position: absolute;border-left: 1px solid gray;box-sizing: border-box;top: 0;bottom: 0;left: 50%;z-index: 0;}#sk-container-id-14 div.sk-serial {display: flex;flex-direction: column;align-items: center;background-color: white;padding-right: 0.2em;padding-left: 0.2em;position: relative;}#sk-container-id-14 div.sk-item {position: relative;z-index: 1;}#sk-container-id-14 div.sk-parallel {display: flex;align-items: stretch;justify-content: center;background-color: white;position: relative;}#sk-container-id-14 div.sk-item::before, #sk-container-id-14 div.sk-parallel-item::before {content: \"\";position: absolute;border-left: 1px solid gray;box-sizing: border-box;top: 0;bottom: 0;left: 50%;z-index: -1;}#sk-container-id-14 div.sk-parallel-item {display: flex;flex-direction: column;z-index: 1;position: relative;background-color: white;}#sk-container-id-14 div.sk-parallel-item:first-child::after {align-self: flex-end;width: 50%;}#sk-container-id-14 div.sk-parallel-item:last-child::after {align-self: flex-start;width: 50%;}#sk-container-id-14 div.sk-parallel-item:only-child::after {width: 0;}#sk-container-id-14 div.sk-dashed-wrapped {border: 1px dashed gray;margin: 0 0.4em 0.5em 0.4em;box-sizing: border-box;padding-bottom: 0.4em;background-color: white;}#sk-container-id-14 div.sk-label label {font-family: monospace;font-weight: bold;display: inline-block;line-height: 1.2em;}#sk-container-id-14 div.sk-label-container {text-align: center;}#sk-container-id-14 div.sk-container {/* jupyter's `normalize.less` sets `[hidden] { display: none; }` but bootstrap.min.css set `[hidden] { display: none !important; }` so we also need the `!important` here to be able to override the default hidden behavior on the sphinx rendered scikit-learn.org. See: https://github.com/scikit-learn/scikit-learn/issues/21755 */display: inline-block !important;position: relative;}#sk-container-id-14 div.sk-text-repr-fallback {display: none;}</style><div id=\"sk-container-id-14\" class=\"sk-top-container\"><div class=\"sk-text-repr-fallback\"><pre>LinearRegression()</pre><b>In a Jupyter environment, please rerun this cell to show the HTML representation or trust the notebook. <br />On GitHub, the HTML representation is unable to render, please try loading this page with nbviewer.org.</b></div><div class=\"sk-container\" hidden><div class=\"sk-item\"><div class=\"sk-estimator sk-toggleable\"><input class=\"sk-toggleable__control sk-hidden--visually\" id=\"sk-estimator-id-14\" type=\"checkbox\" checked><label for=\"sk-estimator-id-14\" class=\"sk-toggleable__label sk-toggleable__label-arrow\">LinearRegression</label><div class=\"sk-toggleable__content\"><pre>LinearRegression()</pre></div></div></div></div></div>"
            ]
          },
          "metadata": {},
          "execution_count": 151
        }
      ]
    },
    {
      "cell_type": "code",
      "source": [
        "#cari tau nilai koefisien(m) dan intercept(b)\n",
        "print('Intercept ', regr.intercept_)\n",
        "print('Coef ', regr.coef_)"
      ],
      "metadata": {
        "id": "0Q-tsJ16OkiI",
        "colab": {
          "base_uri": "https://localhost:8080/"
        },
        "outputId": "69df5670-4be0-4102-cd4b-3bf7f21ffffe"
      },
      "execution_count": null,
      "outputs": [
        {
          "output_type": "stream",
          "name": "stdout",
          "text": [
            "Intercept  -0.09037898506902353\n",
            "Coef  [-0.00245126 -0.00094671 -0.01949686  0.064382    0.00789413]\n"
          ]
        }
      ]
    },
    {
      "cell_type": "code",
      "source": [
        "pred = regr.predict(x_test)\n",
        "rmse = np.sqrt(metrics.mean_squared_error(np.array(y_test), pred))"
      ],
      "metadata": {
        "id": "uPxDXhKJOpdL"
      },
      "execution_count": null,
      "outputs": []
    },
    {
      "cell_type": "code",
      "source": [
        "rmse"
      ],
      "metadata": {
        "id": "LzjgIZJKOvLf",
        "colab": {
          "base_uri": "https://localhost:8080/"
        },
        "outputId": "2d0bb091-f3ee-4e28-f8b4-5bf570a74d00"
      },
      "execution_count": null,
      "outputs": [
        {
          "output_type": "execute_result",
          "data": {
            "text/plain": [
              "0.4053041971111086"
            ]
          },
          "metadata": {},
          "execution_count": 154
        }
      ]
    },
    {
      "cell_type": "markdown",
      "source": [
        "###70:30"
      ],
      "metadata": {
        "id": "nKu2ZpanOwfL"
      }
    },
    {
      "cell_type": "code",
      "source": [
        "#split data menjadi training dan test perbandingan menjadi 70:30\n",
        "x_train, x_test, y_train, y_test = train_test_split(x, y, test_size=0.3, random_state=100)"
      ],
      "metadata": {
        "id": "PBTqCVhOO9PS"
      },
      "execution_count": null,
      "outputs": []
    },
    {
      "cell_type": "code",
      "source": [
        "#cek jumlah data yang telah di split\n",
        "print(x_train.shape)\n",
        "print(y_train.shape)\n",
        "print(x_test.shape)\n",
        "print(y_test.shape)"
      ],
      "metadata": {
        "id": "Gu1J0lqgO-2h",
        "colab": {
          "base_uri": "https://localhost:8080/"
        },
        "outputId": "6b3d7ccf-7185-44fc-e618-46e220795533"
      },
      "execution_count": null,
      "outputs": [
        {
          "output_type": "stream",
          "name": "stdout",
          "text": [
            "(212, 5)\n",
            "(212,)\n",
            "(91, 5)\n",
            "(91,)\n"
          ]
        }
      ]
    },
    {
      "cell_type": "code",
      "source": [
        "#membuat model lonear regresi dan latih model menggunakan data training yang sudah di split\n",
        "regr = LinearRegression()\n",
        "regr.fit(x_train, y_train)"
      ],
      "metadata": {
        "id": "yJgKC1NkPMUG",
        "colab": {
          "base_uri": "https://localhost:8080/",
          "height": 75
        },
        "outputId": "7042adb4-64f0-4b6d-959b-7f69cb27a6ec"
      },
      "execution_count": null,
      "outputs": [
        {
          "output_type": "execute_result",
          "data": {
            "text/plain": [
              "LinearRegression()"
            ],
            "text/html": [
              "<style>#sk-container-id-15 {color: black;background-color: white;}#sk-container-id-15 pre{padding: 0;}#sk-container-id-15 div.sk-toggleable {background-color: white;}#sk-container-id-15 label.sk-toggleable__label {cursor: pointer;display: block;width: 100%;margin-bottom: 0;padding: 0.3em;box-sizing: border-box;text-align: center;}#sk-container-id-15 label.sk-toggleable__label-arrow:before {content: \"▸\";float: left;margin-right: 0.25em;color: #696969;}#sk-container-id-15 label.sk-toggleable__label-arrow:hover:before {color: black;}#sk-container-id-15 div.sk-estimator:hover label.sk-toggleable__label-arrow:before {color: black;}#sk-container-id-15 div.sk-toggleable__content {max-height: 0;max-width: 0;overflow: hidden;text-align: left;background-color: #f0f8ff;}#sk-container-id-15 div.sk-toggleable__content pre {margin: 0.2em;color: black;border-radius: 0.25em;background-color: #f0f8ff;}#sk-container-id-15 input.sk-toggleable__control:checked~div.sk-toggleable__content {max-height: 200px;max-width: 100%;overflow: auto;}#sk-container-id-15 input.sk-toggleable__control:checked~label.sk-toggleable__label-arrow:before {content: \"▾\";}#sk-container-id-15 div.sk-estimator input.sk-toggleable__control:checked~label.sk-toggleable__label {background-color: #d4ebff;}#sk-container-id-15 div.sk-label input.sk-toggleable__control:checked~label.sk-toggleable__label {background-color: #d4ebff;}#sk-container-id-15 input.sk-hidden--visually {border: 0;clip: rect(1px 1px 1px 1px);clip: rect(1px, 1px, 1px, 1px);height: 1px;margin: -1px;overflow: hidden;padding: 0;position: absolute;width: 1px;}#sk-container-id-15 div.sk-estimator {font-family: monospace;background-color: #f0f8ff;border: 1px dotted black;border-radius: 0.25em;box-sizing: border-box;margin-bottom: 0.5em;}#sk-container-id-15 div.sk-estimator:hover {background-color: #d4ebff;}#sk-container-id-15 div.sk-parallel-item::after {content: \"\";width: 100%;border-bottom: 1px solid gray;flex-grow: 1;}#sk-container-id-15 div.sk-label:hover label.sk-toggleable__label {background-color: #d4ebff;}#sk-container-id-15 div.sk-serial::before {content: \"\";position: absolute;border-left: 1px solid gray;box-sizing: border-box;top: 0;bottom: 0;left: 50%;z-index: 0;}#sk-container-id-15 div.sk-serial {display: flex;flex-direction: column;align-items: center;background-color: white;padding-right: 0.2em;padding-left: 0.2em;position: relative;}#sk-container-id-15 div.sk-item {position: relative;z-index: 1;}#sk-container-id-15 div.sk-parallel {display: flex;align-items: stretch;justify-content: center;background-color: white;position: relative;}#sk-container-id-15 div.sk-item::before, #sk-container-id-15 div.sk-parallel-item::before {content: \"\";position: absolute;border-left: 1px solid gray;box-sizing: border-box;top: 0;bottom: 0;left: 50%;z-index: -1;}#sk-container-id-15 div.sk-parallel-item {display: flex;flex-direction: column;z-index: 1;position: relative;background-color: white;}#sk-container-id-15 div.sk-parallel-item:first-child::after {align-self: flex-end;width: 50%;}#sk-container-id-15 div.sk-parallel-item:last-child::after {align-self: flex-start;width: 50%;}#sk-container-id-15 div.sk-parallel-item:only-child::after {width: 0;}#sk-container-id-15 div.sk-dashed-wrapped {border: 1px dashed gray;margin: 0 0.4em 0.5em 0.4em;box-sizing: border-box;padding-bottom: 0.4em;background-color: white;}#sk-container-id-15 div.sk-label label {font-family: monospace;font-weight: bold;display: inline-block;line-height: 1.2em;}#sk-container-id-15 div.sk-label-container {text-align: center;}#sk-container-id-15 div.sk-container {/* jupyter's `normalize.less` sets `[hidden] { display: none; }` but bootstrap.min.css set `[hidden] { display: none !important; }` so we also need the `!important` here to be able to override the default hidden behavior on the sphinx rendered scikit-learn.org. See: https://github.com/scikit-learn/scikit-learn/issues/21755 */display: inline-block !important;position: relative;}#sk-container-id-15 div.sk-text-repr-fallback {display: none;}</style><div id=\"sk-container-id-15\" class=\"sk-top-container\"><div class=\"sk-text-repr-fallback\"><pre>LinearRegression()</pre><b>In a Jupyter environment, please rerun this cell to show the HTML representation or trust the notebook. <br />On GitHub, the HTML representation is unable to render, please try loading this page with nbviewer.org.</b></div><div class=\"sk-container\" hidden><div class=\"sk-item\"><div class=\"sk-estimator sk-toggleable\"><input class=\"sk-toggleable__control sk-hidden--visually\" id=\"sk-estimator-id-15\" type=\"checkbox\" checked><label for=\"sk-estimator-id-15\" class=\"sk-toggleable__label sk-toggleable__label-arrow\">LinearRegression</label><div class=\"sk-toggleable__content\"><pre>LinearRegression()</pre></div></div></div></div></div>"
            ]
          },
          "metadata": {},
          "execution_count": 157
        }
      ]
    },
    {
      "cell_type": "code",
      "source": [
        "#cari tau nilai koefisien(m) dan intercept(b)\n",
        "print('Intercept ', regr.intercept_)\n",
        "print('Coef ', regr.coef_)"
      ],
      "metadata": {
        "id": "58pKmbTYPSAV",
        "colab": {
          "base_uri": "https://localhost:8080/"
        },
        "outputId": "5f39763b-2d42-4285-f4c9-197a59e48f73"
      },
      "execution_count": null,
      "outputs": [
        {
          "output_type": "stream",
          "name": "stdout",
          "text": [
            "Intercept  -0.15406944115330246\n",
            "Coef  [-0.00226633 -0.00053889 -0.05027531  0.05923663  0.00753579]\n"
          ]
        }
      ]
    },
    {
      "cell_type": "code",
      "source": [
        "pred = regr.predict(x_test)\n",
        "rmse = np.sqrt(metrics.mean_squared_error(np.array(y_test), pred))"
      ],
      "metadata": {
        "id": "i-V0CERxPZ_k"
      },
      "execution_count": null,
      "outputs": []
    },
    {
      "cell_type": "code",
      "source": [
        "rmse"
      ],
      "metadata": {
        "id": "ELXMxtZLPfia",
        "colab": {
          "base_uri": "https://localhost:8080/"
        },
        "outputId": "93157f18-ce4b-4f0f-897c-47187b14d0a5"
      },
      "execution_count": null,
      "outputs": [
        {
          "output_type": "execute_result",
          "data": {
            "text/plain": [
              "0.4121548555769472"
            ]
          },
          "metadata": {},
          "execution_count": 160
        }
      ]
    },
    {
      "cell_type": "markdown",
      "source": [
        "###60:40"
      ],
      "metadata": {
        "id": "W27IYrr7PjYF"
      }
    },
    {
      "cell_type": "code",
      "source": [
        "#split data menjadi training dan test perbandingan menjadi 60:40\n",
        "x_train, x_test, y_train, y_test = train_test_split(x, y, test_size=0.4, random_state=100)"
      ],
      "metadata": {
        "id": "UMkjVvDWP6Pz"
      },
      "execution_count": null,
      "outputs": []
    },
    {
      "cell_type": "code",
      "source": [
        "#cek jumlah data yang telah di split\n",
        "print(x_train.shape)\n",
        "print(y_train.shape)\n",
        "print(x_test.shape)\n",
        "print(y_test.shape)"
      ],
      "metadata": {
        "id": "EHYZxHAFQEPS",
        "colab": {
          "base_uri": "https://localhost:8080/"
        },
        "outputId": "55c70c3e-0c04-4832-ef90-03070e248ed9"
      },
      "execution_count": null,
      "outputs": [
        {
          "output_type": "stream",
          "name": "stdout",
          "text": [
            "(181, 5)\n",
            "(181,)\n",
            "(122, 5)\n",
            "(122,)\n"
          ]
        }
      ]
    },
    {
      "cell_type": "code",
      "source": [
        "#membuat model lonear regresi dan latih model menggunakan data training yang sudah di split\n",
        "regr = LinearRegression()\n",
        "regr.fit(x_train, y_train)"
      ],
      "metadata": {
        "id": "01zQuleXQFCk",
        "colab": {
          "base_uri": "https://localhost:8080/",
          "height": 75
        },
        "outputId": "1d56e740-2973-48de-ccf7-2606efa42822"
      },
      "execution_count": null,
      "outputs": [
        {
          "output_type": "execute_result",
          "data": {
            "text/plain": [
              "LinearRegression()"
            ],
            "text/html": [
              "<style>#sk-container-id-16 {color: black;background-color: white;}#sk-container-id-16 pre{padding: 0;}#sk-container-id-16 div.sk-toggleable {background-color: white;}#sk-container-id-16 label.sk-toggleable__label {cursor: pointer;display: block;width: 100%;margin-bottom: 0;padding: 0.3em;box-sizing: border-box;text-align: center;}#sk-container-id-16 label.sk-toggleable__label-arrow:before {content: \"▸\";float: left;margin-right: 0.25em;color: #696969;}#sk-container-id-16 label.sk-toggleable__label-arrow:hover:before {color: black;}#sk-container-id-16 div.sk-estimator:hover label.sk-toggleable__label-arrow:before {color: black;}#sk-container-id-16 div.sk-toggleable__content {max-height: 0;max-width: 0;overflow: hidden;text-align: left;background-color: #f0f8ff;}#sk-container-id-16 div.sk-toggleable__content pre {margin: 0.2em;color: black;border-radius: 0.25em;background-color: #f0f8ff;}#sk-container-id-16 input.sk-toggleable__control:checked~div.sk-toggleable__content {max-height: 200px;max-width: 100%;overflow: auto;}#sk-container-id-16 input.sk-toggleable__control:checked~label.sk-toggleable__label-arrow:before {content: \"▾\";}#sk-container-id-16 div.sk-estimator input.sk-toggleable__control:checked~label.sk-toggleable__label {background-color: #d4ebff;}#sk-container-id-16 div.sk-label input.sk-toggleable__control:checked~label.sk-toggleable__label {background-color: #d4ebff;}#sk-container-id-16 input.sk-hidden--visually {border: 0;clip: rect(1px 1px 1px 1px);clip: rect(1px, 1px, 1px, 1px);height: 1px;margin: -1px;overflow: hidden;padding: 0;position: absolute;width: 1px;}#sk-container-id-16 div.sk-estimator {font-family: monospace;background-color: #f0f8ff;border: 1px dotted black;border-radius: 0.25em;box-sizing: border-box;margin-bottom: 0.5em;}#sk-container-id-16 div.sk-estimator:hover {background-color: #d4ebff;}#sk-container-id-16 div.sk-parallel-item::after {content: \"\";width: 100%;border-bottom: 1px solid gray;flex-grow: 1;}#sk-container-id-16 div.sk-label:hover label.sk-toggleable__label {background-color: #d4ebff;}#sk-container-id-16 div.sk-serial::before {content: \"\";position: absolute;border-left: 1px solid gray;box-sizing: border-box;top: 0;bottom: 0;left: 50%;z-index: 0;}#sk-container-id-16 div.sk-serial {display: flex;flex-direction: column;align-items: center;background-color: white;padding-right: 0.2em;padding-left: 0.2em;position: relative;}#sk-container-id-16 div.sk-item {position: relative;z-index: 1;}#sk-container-id-16 div.sk-parallel {display: flex;align-items: stretch;justify-content: center;background-color: white;position: relative;}#sk-container-id-16 div.sk-item::before, #sk-container-id-16 div.sk-parallel-item::before {content: \"\";position: absolute;border-left: 1px solid gray;box-sizing: border-box;top: 0;bottom: 0;left: 50%;z-index: -1;}#sk-container-id-16 div.sk-parallel-item {display: flex;flex-direction: column;z-index: 1;position: relative;background-color: white;}#sk-container-id-16 div.sk-parallel-item:first-child::after {align-self: flex-end;width: 50%;}#sk-container-id-16 div.sk-parallel-item:last-child::after {align-self: flex-start;width: 50%;}#sk-container-id-16 div.sk-parallel-item:only-child::after {width: 0;}#sk-container-id-16 div.sk-dashed-wrapped {border: 1px dashed gray;margin: 0 0.4em 0.5em 0.4em;box-sizing: border-box;padding-bottom: 0.4em;background-color: white;}#sk-container-id-16 div.sk-label label {font-family: monospace;font-weight: bold;display: inline-block;line-height: 1.2em;}#sk-container-id-16 div.sk-label-container {text-align: center;}#sk-container-id-16 div.sk-container {/* jupyter's `normalize.less` sets `[hidden] { display: none; }` but bootstrap.min.css set `[hidden] { display: none !important; }` so we also need the `!important` here to be able to override the default hidden behavior on the sphinx rendered scikit-learn.org. See: https://github.com/scikit-learn/scikit-learn/issues/21755 */display: inline-block !important;position: relative;}#sk-container-id-16 div.sk-text-repr-fallback {display: none;}</style><div id=\"sk-container-id-16\" class=\"sk-top-container\"><div class=\"sk-text-repr-fallback\"><pre>LinearRegression()</pre><b>In a Jupyter environment, please rerun this cell to show the HTML representation or trust the notebook. <br />On GitHub, the HTML representation is unable to render, please try loading this page with nbviewer.org.</b></div><div class=\"sk-container\" hidden><div class=\"sk-item\"><div class=\"sk-estimator sk-toggleable\"><input class=\"sk-toggleable__control sk-hidden--visually\" id=\"sk-estimator-id-16\" type=\"checkbox\" checked><label for=\"sk-estimator-id-16\" class=\"sk-toggleable__label sk-toggleable__label-arrow\">LinearRegression</label><div class=\"sk-toggleable__content\"><pre>LinearRegression()</pre></div></div></div></div></div>"
            ]
          },
          "metadata": {},
          "execution_count": 163
        }
      ]
    },
    {
      "cell_type": "code",
      "source": [
        "#cari tau nilai koefisien(m) dan intercept(b)\n",
        "print('Intercept ', regr.intercept_)\n",
        "print('Coef ', regr.coef_)"
      ],
      "metadata": {
        "id": "UjmUMQUnQJ7X",
        "colab": {
          "base_uri": "https://localhost:8080/"
        },
        "outputId": "6da0c470-482a-41f6-fc97-1354d85e05d3"
      },
      "execution_count": null,
      "outputs": [
        {
          "output_type": "stream",
          "name": "stdout",
          "text": [
            "Intercept  -0.007845934536628518\n",
            "Coef  [-0.0021499  -0.00133624  0.03259893  0.05981087  0.00770455]\n"
          ]
        }
      ]
    },
    {
      "cell_type": "code",
      "source": [
        "pred = regr.predict(x_test)\n",
        "rmse = np.sqrt(metrics.mean_squared_error(np.array(y_test), pred))"
      ],
      "metadata": {
        "id": "Uxvg_F85QOe1"
      },
      "execution_count": null,
      "outputs": []
    },
    {
      "cell_type": "code",
      "source": [
        "rmse"
      ],
      "metadata": {
        "id": "39NazJMQQSIr",
        "colab": {
          "base_uri": "https://localhost:8080/"
        },
        "outputId": "fb821d21-f1a8-4776-dfdf-390371868288"
      },
      "execution_count": null,
      "outputs": [
        {
          "output_type": "execute_result",
          "data": {
            "text/plain": [
              "0.43316691641329597"
            ]
          },
          "metadata": {},
          "execution_count": 166
        }
      ]
    },
    {
      "cell_type": "markdown",
      "source": [
        "##Model 4"
      ],
      "metadata": {
        "id": "lLl3cwk6EopM"
      }
    },
    {
      "cell_type": "code",
      "source": [
        "#membuat variabel x dan y\n",
        "bebas =['tekanan_darah', 'ECG','detak_jantung']\n",
        "x = df[bebas]\n",
        "y = df['heart_attack']"
      ],
      "metadata": {
        "id": "UsOYfc1iJTzx"
      },
      "execution_count": null,
      "outputs": []
    },
    {
      "cell_type": "markdown",
      "source": [
        "###90:10"
      ],
      "metadata": {
        "id": "IKZexUSiQnpH"
      }
    },
    {
      "cell_type": "code",
      "source": [
        "#split data menjadi training dan test perbandingan menjadi 90:10\n",
        "x_train, x_test, y_train, y_test = train_test_split(x, y, test_size=0.1, random_state=100)"
      ],
      "metadata": {
        "id": "dQ3lJJAQRV9J"
      },
      "execution_count": null,
      "outputs": []
    },
    {
      "cell_type": "code",
      "source": [
        "#cek jumlah data yang telah di split\n",
        "print(x_train.shape)\n",
        "print(y_train.shape)\n",
        "print(x_test.shape)\n",
        "print(y_test.shape)"
      ],
      "metadata": {
        "id": "7rN_JYN9R_nX",
        "colab": {
          "base_uri": "https://localhost:8080/"
        },
        "outputId": "298d6c52-81e6-4745-eea1-4dfa16890942"
      },
      "execution_count": null,
      "outputs": [
        {
          "output_type": "stream",
          "name": "stdout",
          "text": [
            "(272, 3)\n",
            "(272,)\n",
            "(31, 3)\n",
            "(31,)\n"
          ]
        }
      ]
    },
    {
      "cell_type": "code",
      "source": [
        "#membuat model lonear regresi dan latih model menggunakan data training yang sudah di split\n",
        "regr = LinearRegression()\n",
        "regr.fit(x_train, y_train)"
      ],
      "metadata": {
        "id": "_8Qh5h8RRbJA",
        "colab": {
          "base_uri": "https://localhost:8080/",
          "height": 75
        },
        "outputId": "288b3145-04eb-45a0-9be9-8fc75495d92e"
      },
      "execution_count": null,
      "outputs": [
        {
          "output_type": "execute_result",
          "data": {
            "text/plain": [
              "LinearRegression()"
            ],
            "text/html": [
              "<style>#sk-container-id-17 {color: black;background-color: white;}#sk-container-id-17 pre{padding: 0;}#sk-container-id-17 div.sk-toggleable {background-color: white;}#sk-container-id-17 label.sk-toggleable__label {cursor: pointer;display: block;width: 100%;margin-bottom: 0;padding: 0.3em;box-sizing: border-box;text-align: center;}#sk-container-id-17 label.sk-toggleable__label-arrow:before {content: \"▸\";float: left;margin-right: 0.25em;color: #696969;}#sk-container-id-17 label.sk-toggleable__label-arrow:hover:before {color: black;}#sk-container-id-17 div.sk-estimator:hover label.sk-toggleable__label-arrow:before {color: black;}#sk-container-id-17 div.sk-toggleable__content {max-height: 0;max-width: 0;overflow: hidden;text-align: left;background-color: #f0f8ff;}#sk-container-id-17 div.sk-toggleable__content pre {margin: 0.2em;color: black;border-radius: 0.25em;background-color: #f0f8ff;}#sk-container-id-17 input.sk-toggleable__control:checked~div.sk-toggleable__content {max-height: 200px;max-width: 100%;overflow: auto;}#sk-container-id-17 input.sk-toggleable__control:checked~label.sk-toggleable__label-arrow:before {content: \"▾\";}#sk-container-id-17 div.sk-estimator input.sk-toggleable__control:checked~label.sk-toggleable__label {background-color: #d4ebff;}#sk-container-id-17 div.sk-label input.sk-toggleable__control:checked~label.sk-toggleable__label {background-color: #d4ebff;}#sk-container-id-17 input.sk-hidden--visually {border: 0;clip: rect(1px 1px 1px 1px);clip: rect(1px, 1px, 1px, 1px);height: 1px;margin: -1px;overflow: hidden;padding: 0;position: absolute;width: 1px;}#sk-container-id-17 div.sk-estimator {font-family: monospace;background-color: #f0f8ff;border: 1px dotted black;border-radius: 0.25em;box-sizing: border-box;margin-bottom: 0.5em;}#sk-container-id-17 div.sk-estimator:hover {background-color: #d4ebff;}#sk-container-id-17 div.sk-parallel-item::after {content: \"\";width: 100%;border-bottom: 1px solid gray;flex-grow: 1;}#sk-container-id-17 div.sk-label:hover label.sk-toggleable__label {background-color: #d4ebff;}#sk-container-id-17 div.sk-serial::before {content: \"\";position: absolute;border-left: 1px solid gray;box-sizing: border-box;top: 0;bottom: 0;left: 50%;z-index: 0;}#sk-container-id-17 div.sk-serial {display: flex;flex-direction: column;align-items: center;background-color: white;padding-right: 0.2em;padding-left: 0.2em;position: relative;}#sk-container-id-17 div.sk-item {position: relative;z-index: 1;}#sk-container-id-17 div.sk-parallel {display: flex;align-items: stretch;justify-content: center;background-color: white;position: relative;}#sk-container-id-17 div.sk-item::before, #sk-container-id-17 div.sk-parallel-item::before {content: \"\";position: absolute;border-left: 1px solid gray;box-sizing: border-box;top: 0;bottom: 0;left: 50%;z-index: -1;}#sk-container-id-17 div.sk-parallel-item {display: flex;flex-direction: column;z-index: 1;position: relative;background-color: white;}#sk-container-id-17 div.sk-parallel-item:first-child::after {align-self: flex-end;width: 50%;}#sk-container-id-17 div.sk-parallel-item:last-child::after {align-self: flex-start;width: 50%;}#sk-container-id-17 div.sk-parallel-item:only-child::after {width: 0;}#sk-container-id-17 div.sk-dashed-wrapped {border: 1px dashed gray;margin: 0 0.4em 0.5em 0.4em;box-sizing: border-box;padding-bottom: 0.4em;background-color: white;}#sk-container-id-17 div.sk-label label {font-family: monospace;font-weight: bold;display: inline-block;line-height: 1.2em;}#sk-container-id-17 div.sk-label-container {text-align: center;}#sk-container-id-17 div.sk-container {/* jupyter's `normalize.less` sets `[hidden] { display: none; }` but bootstrap.min.css set `[hidden] { display: none !important; }` so we also need the `!important` here to be able to override the default hidden behavior on the sphinx rendered scikit-learn.org. See: https://github.com/scikit-learn/scikit-learn/issues/21755 */display: inline-block !important;position: relative;}#sk-container-id-17 div.sk-text-repr-fallback {display: none;}</style><div id=\"sk-container-id-17\" class=\"sk-top-container\"><div class=\"sk-text-repr-fallback\"><pre>LinearRegression()</pre><b>In a Jupyter environment, please rerun this cell to show the HTML representation or trust the notebook. <br />On GitHub, the HTML representation is unable to render, please try loading this page with nbviewer.org.</b></div><div class=\"sk-container\" hidden><div class=\"sk-item\"><div class=\"sk-estimator sk-toggleable\"><input class=\"sk-toggleable__control sk-hidden--visually\" id=\"sk-estimator-id-17\" type=\"checkbox\" checked><label for=\"sk-estimator-id-17\" class=\"sk-toggleable__label sk-toggleable__label-arrow\">LinearRegression</label><div class=\"sk-toggleable__content\"><pre>LinearRegression()</pre></div></div></div></div></div>"
            ]
          },
          "metadata": {},
          "execution_count": 170
        }
      ]
    },
    {
      "cell_type": "code",
      "source": [
        "#cari tau nilai koefisien(m) dan intercept(b)\n",
        "print('Intercept ', regr.intercept_)\n",
        "print('Coef ', regr.coef_)"
      ],
      "metadata": {
        "id": "qppevVB3R3Ao",
        "colab": {
          "base_uri": "https://localhost:8080/"
        },
        "outputId": "19e8baf3-0027-4ed3-aa15-6645620895b7"
      },
      "execution_count": null,
      "outputs": [
        {
          "output_type": "stream",
          "name": "stdout",
          "text": [
            "Intercept  -0.35132242750686427\n",
            "Coef  [-0.00309139  0.07837968  0.00855613]\n"
          ]
        }
      ]
    },
    {
      "cell_type": "code",
      "source": [
        "pred = regr.predict(x_test)\n",
        "rmse = np.sqrt(metrics.mean_squared_error(np.array(y_test), pred))"
      ],
      "metadata": {
        "id": "Qd0kpVHkSGTe"
      },
      "execution_count": null,
      "outputs": []
    },
    {
      "cell_type": "code",
      "source": [
        "rmse"
      ],
      "metadata": {
        "id": "e-S5y8L4SHOZ",
        "colab": {
          "base_uri": "https://localhost:8080/"
        },
        "outputId": "ce02c4c7-5265-44be-c74f-009ee4b3ab4c"
      },
      "execution_count": null,
      "outputs": [
        {
          "output_type": "execute_result",
          "data": {
            "text/plain": [
              "0.41173540708861467"
            ]
          },
          "metadata": {},
          "execution_count": 173
        }
      ]
    },
    {
      "cell_type": "markdown",
      "source": [
        "###80:20\n"
      ],
      "metadata": {
        "id": "DH8QDzvoQqjw"
      }
    },
    {
      "cell_type": "code",
      "source": [
        "#split data menjadi training dan test perbandingan menjadi 80:20\n",
        "x_train, x_test, y_train, y_test = train_test_split(x, y, test_size=0.2, random_state=100)"
      ],
      "metadata": {
        "id": "Hws2gUjRSP4L"
      },
      "execution_count": null,
      "outputs": []
    },
    {
      "cell_type": "code",
      "source": [
        "#cek jumlah data yang telah di split\n",
        "print(x_train.shape)\n",
        "print(y_train.shape)\n",
        "print(x_test.shape)\n",
        "print(y_test.shape)"
      ],
      "metadata": {
        "id": "j3CXMtg7SlcN",
        "colab": {
          "base_uri": "https://localhost:8080/"
        },
        "outputId": "d03fb300-b8f2-4191-c2fe-f16b4bd76895"
      },
      "execution_count": null,
      "outputs": [
        {
          "output_type": "stream",
          "name": "stdout",
          "text": [
            "(242, 3)\n",
            "(242,)\n",
            "(61, 3)\n",
            "(61,)\n"
          ]
        }
      ]
    },
    {
      "cell_type": "code",
      "source": [
        "#membuat model lonear regresi dan latih model menggunakan data training yang sudah di split\n",
        "regr = LinearRegression()\n",
        "regr.fit(x_train, y_train)"
      ],
      "metadata": {
        "id": "WLxA-7rUSmTc",
        "colab": {
          "base_uri": "https://localhost:8080/",
          "height": 75
        },
        "outputId": "c97af4b8-3568-4a82-a963-bd1a9ae7d2a7"
      },
      "execution_count": null,
      "outputs": [
        {
          "output_type": "execute_result",
          "data": {
            "text/plain": [
              "LinearRegression()"
            ],
            "text/html": [
              "<style>#sk-container-id-18 {color: black;background-color: white;}#sk-container-id-18 pre{padding: 0;}#sk-container-id-18 div.sk-toggleable {background-color: white;}#sk-container-id-18 label.sk-toggleable__label {cursor: pointer;display: block;width: 100%;margin-bottom: 0;padding: 0.3em;box-sizing: border-box;text-align: center;}#sk-container-id-18 label.sk-toggleable__label-arrow:before {content: \"▸\";float: left;margin-right: 0.25em;color: #696969;}#sk-container-id-18 label.sk-toggleable__label-arrow:hover:before {color: black;}#sk-container-id-18 div.sk-estimator:hover label.sk-toggleable__label-arrow:before {color: black;}#sk-container-id-18 div.sk-toggleable__content {max-height: 0;max-width: 0;overflow: hidden;text-align: left;background-color: #f0f8ff;}#sk-container-id-18 div.sk-toggleable__content pre {margin: 0.2em;color: black;border-radius: 0.25em;background-color: #f0f8ff;}#sk-container-id-18 input.sk-toggleable__control:checked~div.sk-toggleable__content {max-height: 200px;max-width: 100%;overflow: auto;}#sk-container-id-18 input.sk-toggleable__control:checked~label.sk-toggleable__label-arrow:before {content: \"▾\";}#sk-container-id-18 div.sk-estimator input.sk-toggleable__control:checked~label.sk-toggleable__label {background-color: #d4ebff;}#sk-container-id-18 div.sk-label input.sk-toggleable__control:checked~label.sk-toggleable__label {background-color: #d4ebff;}#sk-container-id-18 input.sk-hidden--visually {border: 0;clip: rect(1px 1px 1px 1px);clip: rect(1px, 1px, 1px, 1px);height: 1px;margin: -1px;overflow: hidden;padding: 0;position: absolute;width: 1px;}#sk-container-id-18 div.sk-estimator {font-family: monospace;background-color: #f0f8ff;border: 1px dotted black;border-radius: 0.25em;box-sizing: border-box;margin-bottom: 0.5em;}#sk-container-id-18 div.sk-estimator:hover {background-color: #d4ebff;}#sk-container-id-18 div.sk-parallel-item::after {content: \"\";width: 100%;border-bottom: 1px solid gray;flex-grow: 1;}#sk-container-id-18 div.sk-label:hover label.sk-toggleable__label {background-color: #d4ebff;}#sk-container-id-18 div.sk-serial::before {content: \"\";position: absolute;border-left: 1px solid gray;box-sizing: border-box;top: 0;bottom: 0;left: 50%;z-index: 0;}#sk-container-id-18 div.sk-serial {display: flex;flex-direction: column;align-items: center;background-color: white;padding-right: 0.2em;padding-left: 0.2em;position: relative;}#sk-container-id-18 div.sk-item {position: relative;z-index: 1;}#sk-container-id-18 div.sk-parallel {display: flex;align-items: stretch;justify-content: center;background-color: white;position: relative;}#sk-container-id-18 div.sk-item::before, #sk-container-id-18 div.sk-parallel-item::before {content: \"\";position: absolute;border-left: 1px solid gray;box-sizing: border-box;top: 0;bottom: 0;left: 50%;z-index: -1;}#sk-container-id-18 div.sk-parallel-item {display: flex;flex-direction: column;z-index: 1;position: relative;background-color: white;}#sk-container-id-18 div.sk-parallel-item:first-child::after {align-self: flex-end;width: 50%;}#sk-container-id-18 div.sk-parallel-item:last-child::after {align-self: flex-start;width: 50%;}#sk-container-id-18 div.sk-parallel-item:only-child::after {width: 0;}#sk-container-id-18 div.sk-dashed-wrapped {border: 1px dashed gray;margin: 0 0.4em 0.5em 0.4em;box-sizing: border-box;padding-bottom: 0.4em;background-color: white;}#sk-container-id-18 div.sk-label label {font-family: monospace;font-weight: bold;display: inline-block;line-height: 1.2em;}#sk-container-id-18 div.sk-label-container {text-align: center;}#sk-container-id-18 div.sk-container {/* jupyter's `normalize.less` sets `[hidden] { display: none; }` but bootstrap.min.css set `[hidden] { display: none !important; }` so we also need the `!important` here to be able to override the default hidden behavior on the sphinx rendered scikit-learn.org. See: https://github.com/scikit-learn/scikit-learn/issues/21755 */display: inline-block !important;position: relative;}#sk-container-id-18 div.sk-text-repr-fallback {display: none;}</style><div id=\"sk-container-id-18\" class=\"sk-top-container\"><div class=\"sk-text-repr-fallback\"><pre>LinearRegression()</pre><b>In a Jupyter environment, please rerun this cell to show the HTML representation or trust the notebook. <br />On GitHub, the HTML representation is unable to render, please try loading this page with nbviewer.org.</b></div><div class=\"sk-container\" hidden><div class=\"sk-item\"><div class=\"sk-estimator sk-toggleable\"><input class=\"sk-toggleable__control sk-hidden--visually\" id=\"sk-estimator-id-18\" type=\"checkbox\" checked><label for=\"sk-estimator-id-18\" class=\"sk-toggleable__label sk-toggleable__label-arrow\">LinearRegression</label><div class=\"sk-toggleable__content\"><pre>LinearRegression()</pre></div></div></div></div></div>"
            ]
          },
          "metadata": {},
          "execution_count": 176
        }
      ]
    },
    {
      "cell_type": "code",
      "source": [
        "#cari tau nilai koefisien(m) dan intercept(b)\n",
        "print('Intercept ', regr.intercept_)\n",
        "print('Coef ', regr.coef_)"
      ],
      "metadata": {
        "id": "lVLzypbDSpZC",
        "colab": {
          "base_uri": "https://localhost:8080/"
        },
        "outputId": "755b2e0a-9265-4deb-e471-135caf8078ae"
      },
      "execution_count": null,
      "outputs": [
        {
          "output_type": "stream",
          "name": "stdout",
          "text": [
            "Intercept  -0.28578631540130317\n",
            "Coef  [-0.00283213  0.07972263  0.00790274]\n"
          ]
        }
      ]
    },
    {
      "cell_type": "code",
      "source": [
        "pred = regr.predict(x_test)\n",
        "rmse = np.sqrt(metrics.mean_squared_error(np.array(y_test), pred))"
      ],
      "metadata": {
        "id": "T8YgRNG-SxNM"
      },
      "execution_count": null,
      "outputs": []
    },
    {
      "cell_type": "code",
      "source": [
        "rmse"
      ],
      "metadata": {
        "id": "kUY_SI40S2so",
        "colab": {
          "base_uri": "https://localhost:8080/"
        },
        "outputId": "ce8ca930-d6cf-45e8-9ce5-788c27087dc9"
      },
      "execution_count": null,
      "outputs": [
        {
          "output_type": "execute_result",
          "data": {
            "text/plain": [
              "0.3955487351887523"
            ]
          },
          "metadata": {},
          "execution_count": 179
        }
      ]
    },
    {
      "cell_type": "markdown",
      "source": [
        "###70:30"
      ],
      "metadata": {
        "id": "veliqYUIQxyS"
      }
    },
    {
      "cell_type": "code",
      "source": [
        "#split data menjadi training dan test perbandingan menjadi 70:30\n",
        "x_train, x_test, y_train, y_test = train_test_split(x, y, test_size=0.3, random_state=100)"
      ],
      "metadata": {
        "id": "4IvolLOjS68p"
      },
      "execution_count": null,
      "outputs": []
    },
    {
      "cell_type": "code",
      "source": [
        "#cek jumlah data yang telah di split\n",
        "print(x_train.shape)\n",
        "print(y_train.shape)\n",
        "print(x_test.shape)\n",
        "print(y_test.shape)"
      ],
      "metadata": {
        "id": "Pt5-VdqPS-J7",
        "colab": {
          "base_uri": "https://localhost:8080/"
        },
        "outputId": "8627d70d-3ef1-4bc6-8150-ae37915a5af7"
      },
      "execution_count": null,
      "outputs": [
        {
          "output_type": "stream",
          "name": "stdout",
          "text": [
            "(212, 3)\n",
            "(212,)\n",
            "(91, 3)\n",
            "(91,)\n"
          ]
        }
      ]
    },
    {
      "cell_type": "code",
      "source": [
        "#membuat model lonear regresi dan latih model menggunakan data training yang sudah di split\n",
        "regr = LinearRegression()\n",
        "regr.fit(x_train, y_train)"
      ],
      "metadata": {
        "id": "Or35fzWdTA89",
        "colab": {
          "base_uri": "https://localhost:8080/",
          "height": 75
        },
        "outputId": "8cb5d1f7-3713-402a-8607-6b462b2b173a"
      },
      "execution_count": null,
      "outputs": [
        {
          "output_type": "execute_result",
          "data": {
            "text/plain": [
              "LinearRegression()"
            ],
            "text/html": [
              "<style>#sk-container-id-19 {color: black;background-color: white;}#sk-container-id-19 pre{padding: 0;}#sk-container-id-19 div.sk-toggleable {background-color: white;}#sk-container-id-19 label.sk-toggleable__label {cursor: pointer;display: block;width: 100%;margin-bottom: 0;padding: 0.3em;box-sizing: border-box;text-align: center;}#sk-container-id-19 label.sk-toggleable__label-arrow:before {content: \"▸\";float: left;margin-right: 0.25em;color: #696969;}#sk-container-id-19 label.sk-toggleable__label-arrow:hover:before {color: black;}#sk-container-id-19 div.sk-estimator:hover label.sk-toggleable__label-arrow:before {color: black;}#sk-container-id-19 div.sk-toggleable__content {max-height: 0;max-width: 0;overflow: hidden;text-align: left;background-color: #f0f8ff;}#sk-container-id-19 div.sk-toggleable__content pre {margin: 0.2em;color: black;border-radius: 0.25em;background-color: #f0f8ff;}#sk-container-id-19 input.sk-toggleable__control:checked~div.sk-toggleable__content {max-height: 200px;max-width: 100%;overflow: auto;}#sk-container-id-19 input.sk-toggleable__control:checked~label.sk-toggleable__label-arrow:before {content: \"▾\";}#sk-container-id-19 div.sk-estimator input.sk-toggleable__control:checked~label.sk-toggleable__label {background-color: #d4ebff;}#sk-container-id-19 div.sk-label input.sk-toggleable__control:checked~label.sk-toggleable__label {background-color: #d4ebff;}#sk-container-id-19 input.sk-hidden--visually {border: 0;clip: rect(1px 1px 1px 1px);clip: rect(1px, 1px, 1px, 1px);height: 1px;margin: -1px;overflow: hidden;padding: 0;position: absolute;width: 1px;}#sk-container-id-19 div.sk-estimator {font-family: monospace;background-color: #f0f8ff;border: 1px dotted black;border-radius: 0.25em;box-sizing: border-box;margin-bottom: 0.5em;}#sk-container-id-19 div.sk-estimator:hover {background-color: #d4ebff;}#sk-container-id-19 div.sk-parallel-item::after {content: \"\";width: 100%;border-bottom: 1px solid gray;flex-grow: 1;}#sk-container-id-19 div.sk-label:hover label.sk-toggleable__label {background-color: #d4ebff;}#sk-container-id-19 div.sk-serial::before {content: \"\";position: absolute;border-left: 1px solid gray;box-sizing: border-box;top: 0;bottom: 0;left: 50%;z-index: 0;}#sk-container-id-19 div.sk-serial {display: flex;flex-direction: column;align-items: center;background-color: white;padding-right: 0.2em;padding-left: 0.2em;position: relative;}#sk-container-id-19 div.sk-item {position: relative;z-index: 1;}#sk-container-id-19 div.sk-parallel {display: flex;align-items: stretch;justify-content: center;background-color: white;position: relative;}#sk-container-id-19 div.sk-item::before, #sk-container-id-19 div.sk-parallel-item::before {content: \"\";position: absolute;border-left: 1px solid gray;box-sizing: border-box;top: 0;bottom: 0;left: 50%;z-index: -1;}#sk-container-id-19 div.sk-parallel-item {display: flex;flex-direction: column;z-index: 1;position: relative;background-color: white;}#sk-container-id-19 div.sk-parallel-item:first-child::after {align-self: flex-end;width: 50%;}#sk-container-id-19 div.sk-parallel-item:last-child::after {align-self: flex-start;width: 50%;}#sk-container-id-19 div.sk-parallel-item:only-child::after {width: 0;}#sk-container-id-19 div.sk-dashed-wrapped {border: 1px dashed gray;margin: 0 0.4em 0.5em 0.4em;box-sizing: border-box;padding-bottom: 0.4em;background-color: white;}#sk-container-id-19 div.sk-label label {font-family: monospace;font-weight: bold;display: inline-block;line-height: 1.2em;}#sk-container-id-19 div.sk-label-container {text-align: center;}#sk-container-id-19 div.sk-container {/* jupyter's `normalize.less` sets `[hidden] { display: none; }` but bootstrap.min.css set `[hidden] { display: none !important; }` so we also need the `!important` here to be able to override the default hidden behavior on the sphinx rendered scikit-learn.org. See: https://github.com/scikit-learn/scikit-learn/issues/21755 */display: inline-block !important;position: relative;}#sk-container-id-19 div.sk-text-repr-fallback {display: none;}</style><div id=\"sk-container-id-19\" class=\"sk-top-container\"><div class=\"sk-text-repr-fallback\"><pre>LinearRegression()</pre><b>In a Jupyter environment, please rerun this cell to show the HTML representation or trust the notebook. <br />On GitHub, the HTML representation is unable to render, please try loading this page with nbviewer.org.</b></div><div class=\"sk-container\" hidden><div class=\"sk-item\"><div class=\"sk-estimator sk-toggleable\"><input class=\"sk-toggleable__control sk-hidden--visually\" id=\"sk-estimator-id-19\" type=\"checkbox\" checked><label for=\"sk-estimator-id-19\" class=\"sk-toggleable__label sk-toggleable__label-arrow\">LinearRegression</label><div class=\"sk-toggleable__content\"><pre>LinearRegression()</pre></div></div></div></div></div>"
            ]
          },
          "metadata": {},
          "execution_count": 182
        }
      ]
    },
    {
      "cell_type": "code",
      "source": [
        "#cari tau nilai koefisien(m) dan intercept(b)\n",
        "print('Intercept ', regr.intercept_)\n",
        "print('Coef ', regr.coef_)"
      ],
      "metadata": {
        "id": "3-kdzRcOTFEi",
        "colab": {
          "base_uri": "https://localhost:8080/"
        },
        "outputId": "6adca15a-b796-4d7c-8d2e-cbb5a804b49f"
      },
      "execution_count": null,
      "outputs": [
        {
          "output_type": "stream",
          "name": "stdout",
          "text": [
            "Intercept  -0.2656633483745645\n",
            "Coef  [-0.00249707  0.07168178  0.00750828]\n"
          ]
        }
      ]
    },
    {
      "cell_type": "code",
      "source": [
        "pred = regr.predict(x_test)\n",
        "rmse = np.sqrt(metrics.mean_squared_error(np.array(y_test), pred))"
      ],
      "metadata": {
        "id": "J0LTXuNgTMJZ"
      },
      "execution_count": null,
      "outputs": []
    },
    {
      "cell_type": "code",
      "source": [
        "rmse"
      ],
      "metadata": {
        "id": "RIjA1w-STOc0",
        "colab": {
          "base_uri": "https://localhost:8080/"
        },
        "outputId": "5249b07b-1d61-48e3-bf0a-4567434dfa41"
      },
      "execution_count": null,
      "outputs": [
        {
          "output_type": "execute_result",
          "data": {
            "text/plain": [
              "0.410980096495421"
            ]
          },
          "metadata": {},
          "execution_count": 185
        }
      ]
    },
    {
      "cell_type": "markdown",
      "source": [
        "###60:40"
      ],
      "metadata": {
        "id": "KpIqHEuSQ1Aw"
      }
    },
    {
      "cell_type": "code",
      "source": [
        "#split data menjadi training dan test perbandingan menjadi 60:40\n",
        "x_train, x_test, y_train, y_test = train_test_split(x, y, test_size=0.4, random_state=100)"
      ],
      "metadata": {
        "id": "0whDwQEoTQif"
      },
      "execution_count": null,
      "outputs": []
    },
    {
      "cell_type": "code",
      "source": [
        "#cek jumlah data yang telah di split\n",
        "print(x_train.shape)\n",
        "print(y_train.shape)\n",
        "print(x_test.shape)\n",
        "print(y_test.shape)"
      ],
      "metadata": {
        "id": "sQRBRWjFTUSN",
        "colab": {
          "base_uri": "https://localhost:8080/"
        },
        "outputId": "b43206b0-d094-4dfe-b8bc-c242557920f0"
      },
      "execution_count": null,
      "outputs": [
        {
          "output_type": "stream",
          "name": "stdout",
          "text": [
            "(181, 3)\n",
            "(181,)\n",
            "(122, 3)\n",
            "(122,)\n"
          ]
        }
      ]
    },
    {
      "cell_type": "code",
      "source": [
        "#membuat model lonear regresi dan latih model menggunakan data training yang sudah di split\n",
        "regr = LinearRegression()\n",
        "regr.fit(x_train, y_train)"
      ],
      "metadata": {
        "id": "YqwDbgb6TWOp",
        "colab": {
          "base_uri": "https://localhost:8080/",
          "height": 75
        },
        "outputId": "b11434bf-0b00-494b-b24c-70481ce1c371"
      },
      "execution_count": null,
      "outputs": [
        {
          "output_type": "execute_result",
          "data": {
            "text/plain": [
              "LinearRegression()"
            ],
            "text/html": [
              "<style>#sk-container-id-20 {color: black;background-color: white;}#sk-container-id-20 pre{padding: 0;}#sk-container-id-20 div.sk-toggleable {background-color: white;}#sk-container-id-20 label.sk-toggleable__label {cursor: pointer;display: block;width: 100%;margin-bottom: 0;padding: 0.3em;box-sizing: border-box;text-align: center;}#sk-container-id-20 label.sk-toggleable__label-arrow:before {content: \"▸\";float: left;margin-right: 0.25em;color: #696969;}#sk-container-id-20 label.sk-toggleable__label-arrow:hover:before {color: black;}#sk-container-id-20 div.sk-estimator:hover label.sk-toggleable__label-arrow:before {color: black;}#sk-container-id-20 div.sk-toggleable__content {max-height: 0;max-width: 0;overflow: hidden;text-align: left;background-color: #f0f8ff;}#sk-container-id-20 div.sk-toggleable__content pre {margin: 0.2em;color: black;border-radius: 0.25em;background-color: #f0f8ff;}#sk-container-id-20 input.sk-toggleable__control:checked~div.sk-toggleable__content {max-height: 200px;max-width: 100%;overflow: auto;}#sk-container-id-20 input.sk-toggleable__control:checked~label.sk-toggleable__label-arrow:before {content: \"▾\";}#sk-container-id-20 div.sk-estimator input.sk-toggleable__control:checked~label.sk-toggleable__label {background-color: #d4ebff;}#sk-container-id-20 div.sk-label input.sk-toggleable__control:checked~label.sk-toggleable__label {background-color: #d4ebff;}#sk-container-id-20 input.sk-hidden--visually {border: 0;clip: rect(1px 1px 1px 1px);clip: rect(1px, 1px, 1px, 1px);height: 1px;margin: -1px;overflow: hidden;padding: 0;position: absolute;width: 1px;}#sk-container-id-20 div.sk-estimator {font-family: monospace;background-color: #f0f8ff;border: 1px dotted black;border-radius: 0.25em;box-sizing: border-box;margin-bottom: 0.5em;}#sk-container-id-20 div.sk-estimator:hover {background-color: #d4ebff;}#sk-container-id-20 div.sk-parallel-item::after {content: \"\";width: 100%;border-bottom: 1px solid gray;flex-grow: 1;}#sk-container-id-20 div.sk-label:hover label.sk-toggleable__label {background-color: #d4ebff;}#sk-container-id-20 div.sk-serial::before {content: \"\";position: absolute;border-left: 1px solid gray;box-sizing: border-box;top: 0;bottom: 0;left: 50%;z-index: 0;}#sk-container-id-20 div.sk-serial {display: flex;flex-direction: column;align-items: center;background-color: white;padding-right: 0.2em;padding-left: 0.2em;position: relative;}#sk-container-id-20 div.sk-item {position: relative;z-index: 1;}#sk-container-id-20 div.sk-parallel {display: flex;align-items: stretch;justify-content: center;background-color: white;position: relative;}#sk-container-id-20 div.sk-item::before, #sk-container-id-20 div.sk-parallel-item::before {content: \"\";position: absolute;border-left: 1px solid gray;box-sizing: border-box;top: 0;bottom: 0;left: 50%;z-index: -1;}#sk-container-id-20 div.sk-parallel-item {display: flex;flex-direction: column;z-index: 1;position: relative;background-color: white;}#sk-container-id-20 div.sk-parallel-item:first-child::after {align-self: flex-end;width: 50%;}#sk-container-id-20 div.sk-parallel-item:last-child::after {align-self: flex-start;width: 50%;}#sk-container-id-20 div.sk-parallel-item:only-child::after {width: 0;}#sk-container-id-20 div.sk-dashed-wrapped {border: 1px dashed gray;margin: 0 0.4em 0.5em 0.4em;box-sizing: border-box;padding-bottom: 0.4em;background-color: white;}#sk-container-id-20 div.sk-label label {font-family: monospace;font-weight: bold;display: inline-block;line-height: 1.2em;}#sk-container-id-20 div.sk-label-container {text-align: center;}#sk-container-id-20 div.sk-container {/* jupyter's `normalize.less` sets `[hidden] { display: none; }` but bootstrap.min.css set `[hidden] { display: none !important; }` so we also need the `!important` here to be able to override the default hidden behavior on the sphinx rendered scikit-learn.org. See: https://github.com/scikit-learn/scikit-learn/issues/21755 */display: inline-block !important;position: relative;}#sk-container-id-20 div.sk-text-repr-fallback {display: none;}</style><div id=\"sk-container-id-20\" class=\"sk-top-container\"><div class=\"sk-text-repr-fallback\"><pre>LinearRegression()</pre><b>In a Jupyter environment, please rerun this cell to show the HTML representation or trust the notebook. <br />On GitHub, the HTML representation is unable to render, please try loading this page with nbviewer.org.</b></div><div class=\"sk-container\" hidden><div class=\"sk-item\"><div class=\"sk-estimator sk-toggleable\"><input class=\"sk-toggleable__control sk-hidden--visually\" id=\"sk-estimator-id-20\" type=\"checkbox\" checked><label for=\"sk-estimator-id-20\" class=\"sk-toggleable__label sk-toggleable__label-arrow\">LinearRegression</label><div class=\"sk-toggleable__content\"><pre>LinearRegression()</pre></div></div></div></div></div>"
            ]
          },
          "metadata": {},
          "execution_count": 188
        }
      ]
    },
    {
      "cell_type": "code",
      "source": [
        "#cari tau nilai koefisien(m) dan intercept(b)\n",
        "print('Intercept ', regr.intercept_)\n",
        "print('Coef ', regr.coef_)"
      ],
      "metadata": {
        "id": "ex056ZgvTYLB",
        "colab": {
          "base_uri": "https://localhost:8080/"
        },
        "outputId": "af453dd0-3969-47a5-a5f2-1cf6b54e531f"
      },
      "execution_count": null,
      "outputs": [
        {
          "output_type": "stream",
          "name": "stdout",
          "text": [
            "Intercept  -0.3117898117914102\n",
            "Coef  [-0.00222098  0.08429232  0.00753911]\n"
          ]
        }
      ]
    },
    {
      "cell_type": "code",
      "source": [
        "pred = regr.predict(x_test)\n",
        "rmse = np.sqrt(metrics.mean_squared_error(np.array(y_test), pred))"
      ],
      "metadata": {
        "id": "Q9titu78TcNd"
      },
      "execution_count": null,
      "outputs": []
    },
    {
      "cell_type": "code",
      "source": [
        "rmse"
      ],
      "metadata": {
        "id": "kmje8RmQTfEF",
        "colab": {
          "base_uri": "https://localhost:8080/"
        },
        "outputId": "03ff920b-fc97-4bcb-98a5-a843f4674f4a"
      },
      "execution_count": null,
      "outputs": [
        {
          "output_type": "execute_result",
          "data": {
            "text/plain": [
              "0.4238216437661165"
            ]
          },
          "metadata": {},
          "execution_count": 191
        }
      ]
    },
    {
      "cell_type": "markdown",
      "source": [
        "#Hasil&Evaluasi"
      ],
      "metadata": {
        "id": "b7wLESnj7w06"
      }
    },
    {
      "cell_type": "markdown",
      "source": [
        "Dengan menggunakan matrik evaluasi Root Mean Squared Error (RMSE), kami dapat mengukur sejauh mana selisih antara nilai prediksi dari model dengan nilai sebenarnya pada data uji. Hasil evaluasi menunjukkan bahwa RMSE pada model regresi kami berada pada tingkat yang rendah, yang menunjukkan bahwa model dapat melakukan prediksi dengan tingkat kesalahan yang minim.\n",
        "Berikut nilai RMSE yang dihasilkan:\n",
        "![rmse.png](data:image/png;base64,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)<br/>\n",
        "Berdasarkan hasil pengujian dan perbandingan nilai RMSE dari empat model yang dibangun dengan variasi pembagian data train-test (90:10, 80:20, 70:30, dan 60:40), dapat diambil kesimpulan sebagai berikut:\n",
        "  - Model 1 memiliki RMSE yang paling rendah pada semua pembagian data, yaitu 0.3385 pada pembagian data 90:10, 0.3387 pada pembagian data 80:20, 0.3340 pada pembagian data 70:30, dan 0.3708 pada pembagian data 60:40. Hal ini menunjukkan bahwa Model 1 memiliki kinerja yang lebih baik dalam memprediksi nilai variabel dependen dibandingkan dengan model lain.\n",
        "  - Model 2 juga memiliki RMSE yang relatif rendah pada beberapa pembagian data, namun tidak konsisten sebagai model terbaik di setiap pembagian data.\n",
        "  - Model 3 dan Model 4 memiliki RMSE yang lebih tinggi dibandingkan dengan Model 1 dan Model 2 pada hampir semua pembagian data, menandakan bahwa model ini tidak sebaik Model 1 dan Model 2 dalam memprediksi nilai variabel dependen.\n",
        "  \n",
        "Berdasarkan hasil tersebut, dapat disimpulkan bahwa Model 1 adalah model yang paling baik dalam memprediksi kemungkinan serangan jantung berdasarkan nilai RMSE. Model 1 memiliki tingkat kesalahan prediksi yang lebih rendah dibandingkan dengan model lain, sehingga dapat diandalkan dalam melakukan prediksi serangan jantung. Meskipun Model 2 juga memiliki performa yang baik dalam beberapa pembagian data, tetapi konsistensi dan kestabilan performa Model 1 menjadikannya pilihan terbaik sebagai model prediksi serangan jantung.\n",
        "\n"
      ],
      "metadata": {
        "id": "eta8U1OT7whQ"
      }
    },
    {
      "cell_type": "markdown",
      "source": [
        "#Kesimpulan"
      ],
      "metadata": {
        "id": "wthZtYEPEdwy"
      }
    },
    {
      "cell_type": "markdown",
      "source": [
        "Kesimpulan dari analisis ini adalah bahwa telah berhasil membangun model prediksi kemungkinan serangan jantung menggunakan regresi linear berganda. Dalam proses analisis, dilakukan eksplorasi data untuk memahami hubungan antara variabel-variabel dengan kejadian serangan jantung. Setelah itu, dilakukan analisis korelasi untuk memahami hubungan antara variabel independen dan dependen.\n",
        "Dari hasil analisis korelasi, dapat diidentifikasi variabel independen yang memiliki pengaruh signifikan terhadap kejadian serangan jantung. Selanjutnya, model regresi linear berganda berhasil dibangun dengan menggunakan variabel-variabel independen yang signifikan tersebut. Model tersebut digunakan untuk memprediksi kemungkinan serangan jantung berdasarkan nilai variabel independen.\n",
        " Pada model 1 terdapat lebih banyak variabel independen dibanding model lain sehingga tingkat akurasi lebih tinggi.\n"
      ],
      "metadata": {
        "id": "Wh46ROkoEgW5"
      }
    }
  ]
}